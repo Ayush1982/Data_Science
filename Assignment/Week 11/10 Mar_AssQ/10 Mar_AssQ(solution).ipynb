{
 "cells": [
  {
   "cell_type": "markdown",
   "metadata": {},
   "source": [
    "#  Q1: What is Estimation Statistics? Explain point estimate and interval estimate."
   ]
  },
  {
   "cell_type": "markdown",
   "metadata": {},
   "source": [
    "Estimation statistics involves the use of sample data to estimate population parameters.\n",
    "\n",
    "1. **Point Estimate**: A point estimate is a single value (or point) that serves as the best guess or estimate of a population parameter. This estimate is based on sample data and is used to represent an unknown population parameter. For example, if we want to estimate the mean height of students in a school, we might take a sample of students and calculate the mean height of that sample. The resulting value would be our point estimate for the population mean height.\n",
    "\n",
    "2. **Interval Estimate**: An interval estimate, also known as a confidence interval, provides a range of values within which the population parameter is likely to fall. Unlike point estimates, interval estimates acknowledge the uncertainty associated with estimating population parameters from sample data. Confidence intervals are constructed based on the sample data and a specified level of confidence. For instance, a 95% confidence interval for the mean height of students in a school might be from 150 cm to 160 cm, indicating that we are 95% confident that the true population mean height falls within this range."
   ]
  },
  {
   "cell_type": "markdown",
   "metadata": {},
   "source": [
    "#  Q2. Write a Python function to estimate the population mean using a sample mean and standard deviation."
   ]
  },
  {
   "cell_type": "code",
   "execution_count": 1,
   "metadata": {},
   "outputs": [
    {
     "name": "stdout",
     "output_type": "stream",
     "text": [
      "Estimated population mean bounds: (48.04, 51.96)\n"
     ]
    }
   ],
   "source": [
    "import math\n",
    "\n",
    "def estimate_population_mean(sample_mean, sample_std_dev, sample_size):\n",
    "    margin_of_error = 1.96 * sample_std_dev / math.sqrt(sample_size)\n",
    "    return sample_mean - margin_of_error, sample_mean + margin_of_error\n",
    "\n",
    "mean = 50\n",
    "std_dev = 10\n",
    "size = 100\n",
    "print(\"Estimated population mean bounds:\", estimate_population_mean(mean, std_dev, size))"
   ]
  },
  {
   "cell_type": "markdown",
   "metadata": {},
   "source": [
    "#  Q3: What is Hypothesis testing? Why is it used? State the importance of Hypothesis testing."
   ]
  },
  {
   "cell_type": "markdown",
   "metadata": {},
   "source": [
    "Hypothesis testing is a statistical method used to make inferences about population parameters based on sample data. It involves comparing observed sample data to a hypothesis (or multiple hypotheses) about the population from which the sample was drawn.\n",
    "\n",
    "1. **Formulate Hypotheses**: \n",
    "   - Null Hypothesis (H0): This is the default assumption about the population parameter. It typically represents no effect, no difference, or no change.\n",
    "   - Alternative Hypothesis (H1 or Ha): This is the statement that contradicts the null hypothesis. It represents what the researcher is trying to find evidence for.\n",
    "\n",
    "2. **Select a Significance Level (α)**:\n",
    "   - This is the probability threshold used to determine whether to reject the null hypothesis. Commonly used significance levels include 0.05 (5%) and 0.01 (1%).\n",
    "\n",
    "3. **Collect and Analyze Data**:\n",
    "   - Gather sample data and calculate a test statistic, which quantifies how far the sample estimate is from what is expected under the null hypothesis.\n",
    "\n",
    "4. **Make a Decision**:\n",
    "   - Compare the test statistic to a critical value or calculate a p-value. If the test statistic falls in the critical region (determined by the significance level), the null hypothesis is rejected in favor of the alternative hypothesis.\n",
    "\n",
    "Hypothesis testing is used for :\n",
    "\n",
    "- **Drawing Conclusions**: It allows researchers to draw conclusions about population parameters based on sample data.\n",
    "  \n",
    "- **Support Decision Making**: It provides a formal framework for decision-making in research, business, and other fields. For example, it helps determine whether a new drug is effective, whether a marketing strategy is successful, etc.\n",
    "\n",
    "- **Testing Theories**: Hypothesis testing helps test theoretical assumptions and hypotheses in scientific research.\n",
    "\n",
    "- **Validating Models**: It can be used to validate or invalidate mathematical models or assumptions about the data.\n",
    "\n",
    "- **Quantifying Uncertainty**: It quantifies the uncertainty associated with conclusions drawn from sample data.\n",
    "\n",
    "The importance of hypothesis testing lies in its ability to provide a systematic and objective approach to making inferences and decisions based on data, helping researchers and decision-makers draw valid and reliable conclusions from their observations."
   ]
  },
  {
   "cell_type": "markdown",
   "metadata": {},
   "source": [
    "# Q4. Create a hypothesis that states whether the average weight of male college students is greater than the average weight of female college students."
   ]
  },
  {
   "cell_type": "markdown",
   "metadata": {},
   "source": [
    "The hypothesis can be formulated as follows:\n",
    "\n",
    "Null Hypothesis (H0): The average weight of male college students is equal to or less than the average weight of female college students.\n",
    "Alternative Hypothesis (Ha): The average weight of male college students is greater than the average weight of female college students.\n",
    "\n",
    "Mathematically, this can be represented as:\n",
    "\n",
    "H0: μ_male ≤ μ_female\n",
    "Ha: μ_male > μ_female\n",
    "\n",
    "Where:\n",
    "- μ_male represents the population mean weight of male college students.\n",
    "- μ_female represents the population mean weight of female college students.\n",
    "\n",
    "This hypothesis suggests that there is a difference in the average weight between male and female college students, specifically that males tend to have a greater average weight than females."
   ]
  },
  {
   "cell_type": "markdown",
   "metadata": {},
   "source": [
    "#  Q5. Write a Python script to conduct a hypothesis test on the difference between two population means, given a sample from each population."
   ]
  },
  {
   "cell_type": "code",
   "execution_count": 2,
   "metadata": {},
   "outputs": [
    {
     "name": "stdout",
     "output_type": "stream",
     "text": [
      "Hypothesis Test Result: Reject null hypothesis\n",
      "p-value: 0.01825781085920781\n"
     ]
    }
   ],
   "source": [
    "import numpy as np\n",
    "from scipy.stats import ttest_ind\n",
    "\n",
    "def hypothesis_test(sample1, sample2, alpha):\n",
    "    t_statistic, p_value = ttest_ind(sample1, sample2)\n",
    "    \n",
    "    if p_value < alpha:\n",
    "        result = \"Reject null hypothesis\"\n",
    "    else:\n",
    "        result = \"Fail to reject null hypothesis\"\n",
    "    \n",
    "    return result, p_value\n",
    "\n",
    "sample1 = np.array([65, 70, 72, 63, 68])\n",
    "sample2 = np.array([58, 62, 60, 65, 63]) \n",
    "alpha = 0.05\n",
    "\n",
    "result, p_value = hypothesis_test(sample1, sample2, alpha)\n",
    "print(\"Hypothesis Test Result:\", result)\n",
    "print(\"p-value:\", p_value)\n"
   ]
  },
  {
   "cell_type": "markdown",
   "metadata": {},
   "source": [
    "#  Q6: What is a null and alternative hypothesis? Give some examples."
   ]
  },
  {
   "cell_type": "markdown",
   "metadata": {},
   "source": [
    "1. **Null Hypothesis (H0)**:\n",
    "   - The null hypothesis is the default assumption or assertion about the population parameter(s). It typically represents a statement of no effect, no difference, or no change.\n",
    "   - In hypothesis testing, the null hypothesis is tested against the alternative hypothesis to determine if there is enough evidence in the sample data to reject the null hypothesis in favor of the alternative hypothesis.\n",
    "   - It is denoted as H0.\n",
    "\n",
    "Examples of null hypotheses:\n",
    "   - The mean exam score of students who use a new study technique is equal to 70.\n",
    "   - The average commute time by car is less than or equal to 30 minutes.\n",
    "   - The proportion of defective products produced by a machine is not greater than 5%.\n",
    "\n",
    "2. **Alternative Hypothesis (Ha or H1)**:\n",
    "   - The alternative hypothesis is the statement that contradicts the null hypothesis. It represents what the researcher is trying to find evidence for.\n",
    "   - It can take different forms depending on the nature of the research question, such as a directional hypothesis (one-tailed) or a non-directional hypothesis (two-tailed).\n",
    "   - It is denoted as Ha or H1.\n",
    "\n",
    "Examples of alternative hypotheses:\n",
    "   - The mean exam score of students who use a new study technique is greater than 70.\n",
    "   - The average commute time by car is greater than 30 minutes.\n",
    "   - The proportion of defective products produced by a machine is greater than 5%."
   ]
  },
  {
   "cell_type": "markdown",
   "metadata": {},
   "source": [
    "#  Q7: Write down the steps involved in hypothesis testing."
   ]
  },
  {
   "cell_type": "markdown",
   "metadata": {},
   "source": [
    "1. **Formulate Hypotheses**:\n",
    "   - **Null Hypothesis (H0)**: The default assumption about the population parameter(s). It typically represents no effect, no difference, or no change.\n",
    "   - **Alternative Hypothesis (Ha or H1)**: The statement that contradicts the null hypothesis. It represents what the researcher is trying to find evidence for.\n",
    "\n",
    "2. **Select a Significance Level (α)**:\n",
    "   - This is the probability threshold used to determine whether to reject the null hypothesis. Commonly used significance levels include 0.05 (5%) and 0.01 (1%).\n",
    "\n",
    "3. **Choose a Statistical Test**:\n",
    "   - Select an appropriate statistical test based on the research question, data type, and assumptions. Examples include t-tests, z-tests, chi-square tests, ANOVA, etc.\n",
    "\n",
    "4. **Collect and Analyze Data**:\n",
    "   - Gather sample data from the population of interest.\n",
    "   - Calculate appropriate summary statistics and test statistics from the sample data.\n",
    "\n",
    "5. **Determine the Test Statistic and Critical Value**:\n",
    "   - Calculate the test statistic (e.g., t-value, z-value, F-value) based on the sample data and chosen statistical test.\n",
    "   - Determine the critical value(s) from the appropriate statistical distribution (e.g., t-distribution, normal distribution, F-distribution) based on the chosen significance level and test type.\n",
    "\n",
    "6. **Make a Decision**:\n",
    "   - Compare the test statistic to the critical value(s).\n",
    "   - If the test statistic falls in the critical region (reject region), reject the null hypothesis in favor of the alternative hypothesis. If it falls in the non-critical region (fail to reject region), fail to reject the null hypothesis.\n",
    "\n",
    "7. **Draw Conclusions**:\n",
    "   - Interpret the results of the hypothesis test in the context of the research question and hypotheses.\n",
    "   - Provide conclusions and insights based on the statistical analysis and hypothesis testing.\n",
    "\n",
    "8. **Check Assumptions**:\n",
    "   - Validate the assumptions of the chosen statistical test to ensure the validity of the results.\n",
    "   - If assumptions are violated, consider alternative analyses or methods.\n",
    "\n",
    "9. **Report Results**:\n",
    "   - Present the findings of the hypothesis test, including the test statistic, critical value(s), p-value (if applicable), conclusion about the null hypothesis, and any relevant insights or implications.\n",
    "\n",
    "10. **Consider Limitations**:\n",
    "    - Acknowledge any limitations or constraints of the hypothesis testing process, including sample size, assumptions, and potential sources of bias or error."
   ]
  },
  {
   "cell_type": "markdown",
   "metadata": {},
   "source": [
    "#  Q8. Define p-value and explain its significance in hypothesis testing."
   ]
  },
  {
   "cell_type": "markdown",
   "metadata": {},
   "source": [
    "1. **Definition of p-value**:\n",
    "   - The p-value is a probability value that quantifies the likelihood of observing the test statistic (or more extreme results) under the assumption that the null hypothesis is true.\n",
    "   - It is a measure of the strength of evidence against the null hypothesis. A smaller p-value indicates stronger evidence against the null hypothesis.\n",
    "\n",
    "2. **Interpretation of p-value**:\n",
    "   - If the p-value is small (typically less than the chosen significance level α, e.g., 0.05 or 0.01), it suggests that the observed results are unlikely to have occurred by random chance alone assuming the null hypothesis is true. In other words, it provides evidence against the null hypothesis.\n",
    "   - If the p-value is large (greater than or equal to α), it suggests that the observed results are reasonably likely to have occurred by random chance alone assuming the null hypothesis is true. In this case, we fail to reject the null hypothesis.\n",
    "\n",
    "3. **Significance in hypothesis testing**:\n",
    "   - The p-value is a crucial component in hypothesis testing as it helps us make decisions about whether to reject or fail to reject the null hypothesis.\n",
    "   - If the p-value is less than or equal to the chosen significance level α, we reject the null hypothesis in favor of the alternative hypothesis. This indicates that there is sufficient evidence to conclude that the observed results are unlikely to have occurred under the null hypothesis.\n",
    "   - If the p-value is greater than the chosen significance level α, we fail to reject the null hypothesis. This suggests that there is not enough evidence to conclude that the observed results are different from what would be expected under the null hypothesis.\n"
   ]
  },
  {
   "cell_type": "markdown",
   "metadata": {},
   "source": [
    "# Q9. Generate a Student's t-distribution plot using Python's matplotlib library, with the degrees of freedom parameter set to 10."
   ]
  },
  {
   "cell_type": "code",
   "execution_count": 3,
   "metadata": {},
   "outputs": [
    {
     "data": {
      "image/png": "[encoded data removed]",
      "text/plain": [
       "<Figure size 800x600 with 1 Axes>"
      ]
     },
     "metadata": {},
     "output_type": "display_data"
    }
   ],
   "source": [
    "import numpy as np\n",
    "import matplotlib.pyplot as plt\n",
    "from scipy.stats import t\n",
    "\n",
    "df = 10\n",
    "\n",
    "x = np.linspace(-4, 4, 1000)\n",
    "\n",
    "pdf = t.pdf(x, df)\n",
    "\n",
    "plt.figure(figsize=(8, 6))\n",
    "plt.plot(x, pdf, label=f't-distribution (df={df})', color='blue')\n",
    "\n",
    "plt.title(\"Student's t-Distribution\")\n",
    "plt.xlabel('x')\n",
    "plt.ylabel('Probability Density')\n",
    "plt.legend()\n",
    "plt.grid(True)\n",
    "\n",
    "plt.show()\n"
   ]
  },
  {
   "cell_type": "markdown",
   "metadata": {},
   "source": [
    "#  Q10. Write a Python program to calculate the two-sample t-test for independent samples, given two random samples of equal size and a null hypothesis that the population means are equal."
   ]
  },
  {
   "cell_type": "code",
   "execution_count": 4,
   "metadata": {},
   "outputs": [
    {
     "name": "stdout",
     "output_type": "stream",
     "text": [
      "Two-Sample t-Test Results:\n",
      "t-statistic: -2.558793321013251\n",
      "p-value: 0.013135658871945002\n"
     ]
    }
   ],
   "source": [
    "import numpy as np\n",
    "from scipy.stats import ttest_ind\n",
    "\n",
    "def two_sample_t_test(sample1, sample2):\n",
    "\n",
    "    t_statistic, p_value = ttest_ind(sample1, sample2)\n",
    "    return t_statistic, p_value\n",
    "\n",
    "sample_size = 30\n",
    "sample1 = np.random.normal(loc=50, scale=10, size=sample_size)\n",
    "sample2 = np.random.normal(loc=55, scale=10, size=sample_size)\n",
    "\n",
    "t_statistic, p_value = two_sample_t_test(sample1, sample2)\n",
    "\n",
    "print(\"Two-Sample t-Test Results:\")\n",
    "print(\"t-statistic:\", t_statistic)\n",
    "print(\"p-value:\", p_value)\n"
   ]
  },
  {
   "cell_type": "markdown",
   "metadata": {},
   "source": [
    "# Q11: What is Student’s t distribution? When to use the t-Distribution."
   ]
  },
  {
   "cell_type": "markdown",
   "metadata": {},
   "source": [
    "Student's t-distribution, often simply referred to as the t-distribution, is a probability distribution that is used in hypothesis testing when the sample size is small or when the population standard deviation is unknown.\n",
    "\n",
    "characteristics of the t-distribution include:\n",
    "\n",
    "1. **Shape**: The shape of the t-distribution depends on the degrees of freedom (df). As the degrees of freedom increase, the t-distribution approaches the standard normal distribution (z-distribution) in shape.\n",
    "\n",
    "2. **Center**: The t-distribution is centered at zero.\n",
    "\n",
    "3. **Spread**: The spread of the t-distribution is greater than that of the standard normal distribution (z-distribution). This means that the t-distribution has thicker tails, which allows for a greater likelihood of extreme values compared to the normal distribution.\n",
    "\n",
    "The t-distribution can be use for following scenarios:\n",
    "\n",
    "1. **Small Sample Sizes**: When the sample size is small (typically n < 30), the t-distribution is used instead of the standard normal distribution to account for the increased uncertainty in estimating population parameters.\n",
    "\n",
    "2. **Unknown Population Standard Deviation**: When the population standard deviation is unknown and must be estimated from the sample data, the t-distribution is used in place of the normal distribution.\n",
    "\n",
    "3. **One-sample and Two-sample t-tests**: The t-distribution is commonly used in one-sample and two-sample t-tests to compare sample means and assess whether there is a significant difference between population means.\n",
    "\n",
    "4. **Confidence Intervals**: When constructing confidence intervals for population parameters, such as the population mean, the t-distribution is used to account for the uncertainty associated with estimating the population parameter from sample data."
   ]
  },
  {
   "cell_type": "markdown",
   "metadata": {},
   "source": [
    "# Q12: What is t-statistic? State the formula for t-statistic."
   ]
  },
  {
   "cell_type": "markdown",
   "metadata": {},
   "source": [
    "The t-statistic is a measure used in hypothesis testing to determine whether the means of two groups are significantly different from each other. It is also used in one-sample hypothesis testing to assess whether the sample mean differs significantly from a known or hypothesized population mean.\n",
    "\n",
    "The formula for the t-statistic depends on the specific context of its use:\n",
    "\n",
    "1. **One-sample t-test**:\n",
    "   - When conducting a one-sample t-test to compare a sample mean to a known or hypothesized population mean, the t-statistic is calculated using the following formula:\n",
    "   - Where:\n",
    "     - (bar{x}) is the sample mean,\n",
    "     - (u) is the hypothesized population mean,\n",
    "     - (s) is the sample standard deviation, and\n",
    "     - (n) is the sample size.\n",
    "\n",
    "2. **Independent two-sample t-test**:\n",
    "   - When conducting an independent two-sample t-test to compare the means of two independent groups, the t-statistic is calculated using the following formula:\n",
    "   - Where:\n",
    "     - (bar{x}_1) and (bar{x}_2) are the means of the two samples,\n",
    "     - (s1) and (s2) are the standard deviations of the two samples,\n",
    "     - (n1) and (n2) are the sizes of the two samples."
   ]
  },
  {
   "cell_type": "markdown",
   "metadata": {},
   "source": [
    "# Q13. A coffee shop owner wants to estimate the average daily revenue for their shop. They take a random sample of 50 days and find the sample mean revenue to be $500 with a standard deviation of $50. Estimate the population mean revenue with a 95% confidence interval."
   ]
  },
  {
   "cell_type": "markdown",
   "metadata": {},
   "source": [
    "Confidence Interval = bar{x} +- Z ( sigma / sqrt{n} ) \n",
    "\n",
    "Given:\n",
    "- Sample mean revenue bar{x} = $500\n",
    "- Population standard deviation (sigma) = $50\n",
    "- Sample size (n) = 50\n",
    "- Z-score for a 95% confidence level = 1.96\n",
    "\n",
    "so:\n",
    "\n",
    "Confidence Interval = 500 +- 1.96 X (50 / sqrt(50))\n",
    "\n",
    "Confidence Interval = 500 +- 1.96 X (50 / sqrt(50))\n",
    "\n",
    "Confidence Interval = 500 +- 1.96 X 7.07\n",
    "\n",
    "Confidence Interval = 500 +- 13.86\n",
    "\n",
    "So, the 95% confidence interval for the population mean revenue is approximately $486.14 to $513.86. This means we are 95% confident that the true population mean revenue falls within this range."
   ]
  },
  {
   "cell_type": "code",
   "execution_count": 5,
   "metadata": {},
   "outputs": [
    {
     "name": "stdout",
     "output_type": "stream",
     "text": [
      "95% confidence interval for population mean revenue: $488.46 - $511.54\n"
     ]
    }
   ],
   "source": [
    "import numpy as np\n",
    "\n",
    "n = 50\n",
    "sample_mean = 500\n",
    "sample_std = 50\n",
    "confidence_level = 0.95\n",
    "\n",
    "z_score = np.quantile(np.random.standard_normal(size=10000), confidence_level)\n",
    "\n",
    "margin_of_error = z_score * sample_std / np.sqrt(n)\n",
    "\n",
    "lower_bound = sample_mean - margin_of_error\n",
    "upper_bound = sample_mean + margin_of_error\n",
    "\n",
    "print(f\"95% confidence interval for population mean revenue: ${lower_bound:.2f} - ${upper_bound:.2f}\")"
   ]
  },
  {
   "cell_type": "markdown",
   "metadata": {},
   "source": [
    "# Q14. A researcher hypothesizes that a new drug will decrease blood pressure by 10 mmHg. They conduct a clinical trial with 100 patients and find that the sample mean decrease in blood pressure is 8 mmHg with a standard deviation of 3 mmHg. Test the hypothesis with a significance level of 0.05."
   ]
  },
  {
   "cell_type": "markdown",
   "metadata": {},
   "source": [
    "Given:\n",
    "- Sample size (n) = 100\n",
    "- Sample mean decrease in blood pressure (bar{x}) = 8 mmHg\n",
    "- Sample standard deviation (s) = 3 mmHg\n",
    "- Population mean decrease in blood pressure under the null hypothesis (u0) = 10 mmHg\n",
    "- Significance level (alpha) = 0.05\n",
    "\n",
    "t = [ ( bar{x} - u0) / ( s / sqrt{n} ) ]\n",
    "\n",
    "so:\n",
    "\n",
    "t = {8 - 10} / {3 /  sqrt{100}} \n",
    "t = {-2} /  {0.3}\n",
    "t = -6.67\n",
    "\n",
    "Now, we will compare the calculated t-statistic to the critical value from the t-distribution at the specified significance level (alpha) and degrees of freedom (df = n - 1).\n",
    "\n",
    "Using a t-table or statistical software, we find that the critical value for a one-tailed test with (df = 99) and (alpha = 0.05) is approximately -1.660.\n",
    "\n",
    "Since the calculated t-statistic (-6.67) is less than the critical value (-1.660), we reject the null hypothesis.\n",
    "\n",
    "Therefore, we have sufficient evidence to conclude that the new drug decreases blood pressure by less than 10 mmHg, with a significance level of 0.05."
   ]
  },
  {
   "cell_type": "markdown",
   "metadata": {},
   "source": [
    "# Q15. An electronics company produces a certain type of product with a mean weight of 5 pounds and a standard deviation of 0.5 pounds. A random sample of 25 products is taken, and the sample mean weight is found to be 4.8 pounds. Test the hypothesis that the true mean weight of the products is less than 5 pounds with a significance level of 0.01."
   ]
  },
  {
   "cell_type": "markdown",
   "metadata": {},
   "source": [
    "Given:\n",
    "- Population mean weight (u) = 5 pounds\n",
    "- Population standard deviation (sigma) = 0.5 pounds\n",
    "- Sample size (n) = 25\n",
    "- Sample mean weight (bar{x}) = 4.8 pounds\n",
    "- Significance level (alpha) = 0.01\n",
    "\n",
    "Null Hypothesis (H0): u >= 5 (The true mean weight is greater than or equal to 5 pounds)\n",
    "Alternative Hypothesis (H1): u < 5 (The true mean weight is less than 5 pounds)\n",
    "\n",
    "We will use the formula for the t-statistic :\n",
    "\n",
    "t = [ ( bar{x} - u0) / ( s / sqrt{n} ) ]\n",
    "\n",
    "First, we need to calculate the standard error of the mean (SE):\n",
    "\n",
    "SE = s / sqrt{n} = 0.1\n",
    "\n",
    "Now, we can calculate the t-statistic:\n",
    "\n",
    "t =  -2 (by formula)\n",
    "\n",
    "Next, we need to find the critical value for a one-tailed test with (df = n - 1 = 24) and (alpha = 0.01).\n",
    "\n",
    "Using a t-table or statistical software, we find that the critical value for a one-tailed test with (df = 24) and (alpha = 0.01) is approximately -2.492.\n",
    "\n",
    "Since the calculated t-statistic (-2) is greater than the critical value (-2.492), we fail to reject the null hypothesis.\n",
    "\n",
    "Therefore, we do not have sufficient evidence to conclude that the true mean weight of the products is less than 5 pounds at the 0.01 significance level."
   ]
  },
  {
   "cell_type": "markdown",
   "metadata": {},
   "source": [
    "# Q16. Two groups of students are given different study materials to prepare for a test. The first group (n1 = 30) has a mean score of 80 with a standard deviation of 10, and the second group (n2 = 40) has a mean score of 75 with a standard deviation of 8. Test the hypothesis that the population means for the two groups are equal with a significance level of 0.01."
   ]
  },
  {
   "cell_type": "markdown",
   "metadata": {},
   "source": [
    "To test the hypothesis that the population means for the two groups are equal, we can conduct an independent two-sample t-test.\n",
    "\n",
    "Given:\n",
    "- Group 1:\n",
    "  - Sample size (n1) = 30\n",
    "  - Sample mean score (M1) = 80\n",
    "  - Sample standard deviation (s1) = 10\n",
    "\n",
    "- Group 2:\n",
    "  - Sample size (n2) = 40\n",
    "  - Sample mean score (M2) = 75\n",
    "  - Sample standard deviation (s2) = 8\n",
    "- Significance level (alpha) = 0.01\n",
    "\n",
    "Null Hypothesis (H0): The population means for the two groups are equal (u1 = u2).\n",
    "Alternative Hypothesis (H1): The population means for the two groups are not equal (u1 not equal to u2).\n",
    "\n",
    "We will use the formula for the t-statistic in an independent two-sample t-test:\n",
    "\n",
    "t = (M₁ - M₂) /  sqrt( ( (s1)^2 /n₁ + (s2)^2/n₂) )\n",
    "\n",
    "by formula:\n",
    "\n",
    "t = 1.96 \n",
    "\n",
    "Next, we need to find the critical value for a two-tailed test with degrees of freedom (df) \n",
    "\n",
    "Using a t-table or statistical software, we find that the critical value for a two-tailed test with degrees of freedom approximately equal to 68  and alpha = 0.01 is approximately +- 2.63 .\n",
    "\n",
    "Since the absolute value of the calculated t-statistic (1.96) is less than the critical value (2.63), we fail to reject the null hypothesis.\n",
    "\n",
    "Therefore, we do not have sufficient evidence to conclude that the population means for the two groups are not equal at the 0.01 significance level."
   ]
  },
  {
   "cell_type": "markdown",
   "metadata": {},
   "source": [
    "# Q17. A marketing company wants to estimate the average number of ads watched by viewers during a TV program. They take a random sample of 50 viewers and find that the sample mean is 4 with a standard deviation of 1.5. Estimate the population mean with a 99% confidence interval."
   ]
  },
  {
   "cell_type": "markdown",
   "metadata": {},
   "source": [
    "To estimate the population mean with a 99% confidence interval, we can use the formula for the confidence interval of the population mean when the population standard deviation is known:\n",
    "\n",
    "Confidence Interval = bar{x} +- Z ( sigma / sqrt{n} ) \n",
    "\n",
    "Given:\n",
    "- Sample mean revenue bar{x} = 4\n",
    "- Population standard deviation (sigma) = 1.5\n",
    "- Sample size (n) = 50\n",
    "- Z-score for a 95% confidence level = 2.576\n",
    "\n",
    "so:\n",
    "\n",
    "Confidence Interval = 4 +- 2.576 X (1.5 / sqrt(50))\n",
    "\n",
    "Confidence Interval = 4 +- 2.576 X (1.5 / sqrt(50))\n",
    "\n",
    "Confidence Interval = 4 +- 2.576 X 0.2121\n",
    "\n",
    "Confidence Interval = 4 +- 0.5476\n",
    "\n",
    "So, the 99% confidence interval for the population mean number of ads watched by viewers is approximately 3.4524 to 4.5476. This means we are 99% confident that the true population mean falls within this range."
   ]
  }
 ],
 "metadata": {
  "kernelspec": {
   "display_name": "Python 3",
   "language": "python",
   "name": "python3"
  },
  "language_info": {
   "codemirror_mode": {
    "name": "ipython",
    "version": 3
   },
   "file_extension": ".py",
   "mimetype": "text/x-python",
   "name": "python",
   "nbconvert_exporter": "python",
   "pygments_lexer": "ipython3",
   "version": "3.11.5"
  },
  "orig_nbformat": 4
 },
 "nbformat": 4,
 "nbformat_minor": 2
}
