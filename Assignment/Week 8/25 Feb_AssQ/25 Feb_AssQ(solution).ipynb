{
 "cells": [
  {
   "cell_type": "markdown",
   "metadata": {},
   "source": [
    "# Consider following code to answer further questions:"
   ]
  },
  {
   "cell_type": "code",
   "execution_count": 21,
   "metadata": {},
   "outputs": [],
   "source": [
    "import pandas as pd\n",
    "\n",
    "course_name = [ 'Data Science', 'Machine Learning', 'Big Data', 'Data Engineer']\n",
    "\n",
    "duration =  [2,3,6,4]\n",
    "\n",
    "df = pd.DataFrame(data = {'course_name' : course_name, 'duration' : duration})"
   ]
  },
  {
   "cell_type": "markdown",
   "metadata": {},
   "source": [
    "# Q1. Write a code to print the data present in the second row of the dataframe, df."
   ]
  },
  {
   "cell_type": "code",
   "execution_count": 22,
   "metadata": {},
   "outputs": [
    {
     "name": "stdout",
     "output_type": "stream",
     "text": [
      "course_name    Machine Learning\n",
      "duration                      3\n",
      "Name: 1, dtype: object\n"
     ]
    }
   ],
   "source": [
    "print(df.iloc[1])"
   ]
  },
  {
   "cell_type": "markdown",
   "metadata": {},
   "source": [
    "# Q2. What is the difference between the functions loc and iloc in pandas.DataFrame?"
   ]
  },
  {
   "cell_type": "markdown",
   "metadata": {},
   "source": [
    "In pandas, `loc` and `iloc` are two different methods used for accessing data from a DataFrame.\n",
    "\n",
    "1. **`loc`**:\n",
    "   - `loc` is label-based indexing, which means you access a DataFrame based on the labels (row and column names).\n",
    "   - It uses the actual row and column names to select data.\n",
    "   - The syntax is `df.loc[row_label, column_label]`.\n",
    "   - Slicing with `loc` is inclusive of both the start and stop indices.\n",
    "   - Example: `df.loc[1, 'column_name']` selects the value in the row labeled `1` and the column labeled `'column_name'`.\n",
    "\n",
    "2. **`iloc`**:\n",
    "   - `iloc` is integer-location based indexing, which means you access a DataFrame based on integer indices.\n",
    "   - It uses integer indices to select data.\n",
    "   - The syntax is `df.iloc[row_index, column_index]`.\n",
    "   - Slicing with `iloc` is exclusive of the stop index (standard Python behavior).\n",
    "   - Example: `df.iloc[1, 0]` selects the value in the second row and the first column (using zero-based indexing)."
   ]
  },
  {
   "cell_type": "code",
   "execution_count": 23,
   "metadata": {},
   "outputs": [
    {
     "name": "stdout",
     "output_type": "stream",
     "text": [
      "Machine Learning\n",
      "Machine Learning\n"
     ]
    }
   ],
   "source": [
    "print(df.loc[ 1 , 'course_name'])\n",
    "\n",
    "print(df.iloc[1, 0])"
   ]
  },
  {
   "cell_type": "markdown",
   "metadata": {},
   "source": [
    "# Q3. Reindex the given dataframe using a variable, reindex = [3,0,1,2] and store it in the variable, new_df then find the output for both new_df.loc[2] and new_df.iloc[2]."
   ]
  },
  {
   "cell_type": "markdown",
   "metadata": {},
   "source": [
    "Did you observe any difference in both the outputs? If so then explain it."
   ]
  },
  {
   "cell_type": "code",
   "execution_count": 33,
   "metadata": {},
   "outputs": [
    {
     "name": "stdout",
     "output_type": "stream",
     "text": [
      "course_name    Machine Learning\n",
      "duration                      3\n",
      "Name: 1, dtype: object \n",
      "\n",
      " course_name    Big Data\n",
      "duration              6\n",
      "Name: 2, dtype: object\n"
     ]
    }
   ],
   "source": [
    "new_df= pd.DataFrame(df, index=[3, 0, 1, 2])\n",
    "\n",
    "print(new_df.iloc[2],\"\\n\\n\",new_df.loc[2] )"
   ]
  },
  {
   "cell_type": "markdown",
   "metadata": {},
   "source": [
    "- `new_df.loc[2]` prints the row with the label '2'.\n",
    "- `new_df.iloc[2]` prints the row with the integer index '2'."
   ]
  },
  {
   "cell_type": "markdown",
   "metadata": {},
   "source": [
    "# Consider the below code to answer further questions:"
   ]
  },
  {
   "cell_type": "code",
   "execution_count": 47,
   "metadata": {},
   "outputs": [],
   "source": [
    "import pandas as pd\n",
    "\n",
    "import numpy as np\n",
    "\n",
    "columns = ['column_1', 'column_2', 'column_3', 'column_4', 'column_5', 'column_6']\n",
    "\n",
    "indices = [1,2,3,4,5,6]\n",
    "\n",
    "df1 = pd.DataFrame(np.random.rand(6,6), columns = columns, index = indices)"
   ]
  },
  {
   "cell_type": "markdown",
   "metadata": {},
   "source": [
    "# Q4. Write a code to find the following statistical measurements for the above dataframe df1:\n",
    "\n",
    "# (i) \tmean of each and every column present in the dataframe.\n",
    "# (ii) standard deviation of column, ‘column_2"
   ]
  },
  {
   "cell_type": "code",
   "execution_count": 48,
   "metadata": {},
   "outputs": [
    {
     "name": "stdout",
     "output_type": "stream",
     "text": [
      "Mean of each column:\n",
      "column_1    0.361776\n",
      "column_2    0.530504\n",
      "column_3    0.664343\n",
      "column_4    0.334440\n",
      "column_5    0.628932\n",
      "column_6    0.321354\n",
      "dtype: float64\n",
      "\n",
      "Standard deviation of column 'column_2': 0.2747831742196543\n"
     ]
    }
   ],
   "source": [
    "# (i) Mean\n",
    "column_means = df1.mean()\n",
    "print(\"Mean of each column:\")\n",
    "print(column_means)\n",
    "\n",
    "# (ii) Standard deviation\n",
    "std_column_2 = df1['column_2'].std()\n",
    "print(\"\\nStandard deviation of column 'column_2':\", std_column_2)\n"
   ]
  },
  {
   "cell_type": "markdown",
   "metadata": {},
   "source": [
    "# Q5. Replace the data present in the second row of column, ‘column_2’ by a string variable then find the mean of column, column_2.\n",
    "\n",
    "If you are getting errors in executing it then explain why.\n",
    "\n",
    "[Hint: To replace the data use df1.loc[] and equate this to string data of your choice.]"
   ]
  },
  {
   "cell_type": "markdown",
   "metadata": {},
   "source": [
    "If we try to replace the data in the second row of 'column_2' with a string value, we may encounter an error because the data type of 'column_2' is initially numeric (float) due to the use of `np.random.rand`. Pandas does not allow mixing data types within a single column."
   ]
  },
  {
   "cell_type": "code",
   "execution_count": 49,
   "metadata": {},
   "outputs": [
    {
     "name": "stdout",
     "output_type": "stream",
     "text": [
      "Mean of column 'column_2': 0.5815411061078929\n"
     ]
    },
    {
     "name": "stderr",
     "output_type": "stream",
     "text": [
      "C:\\Users\\ABHISHEK\\AppData\\Local\\Temp\\ipykernel_3260\\850634744.py:2: FutureWarning: Setting an item of incompatible dtype is deprecated and will raise in a future error of pandas. Value 'string_value' has dtype incompatible with float64, please explicitly cast to a compatible dtype first.\n",
      "  df1.loc[2, 'column_2'] = 'string_value'\n"
     ]
    }
   ],
   "source": [
    "df1.loc[2, 'column_2'] = 'string_value'\n",
    "\n",
    "df1['column_2'] = pd.to_numeric(df1['column_2'], errors='coerce')\n",
    "\n",
    "mean_column_2 = df1['column_2'].mean()\n",
    "print(\"Mean of column 'column_2':\", mean_column_2)"
   ]
  },
  {
   "cell_type": "markdown",
   "metadata": {},
   "source": [
    "# Q6. What do you understand about the windows function in pandas and list the types of windows functions?"
   ]
  },
  {
   "cell_type": "markdown",
   "metadata": {},
   "source": [
    "In pandas,  window function, also known as a rolling or moving function, is a way to perform operations on a set of data points within a specified window (a fixed-size subset of the data) as it moves through the entire dataset. These functions are useful for calculating various statistical measures or applying custom functions to analyze trends or patterns over time.\n",
    "\n",
    "1. **Rolling Mean (Moving Average):**\n",
    "   - Calculates the mean of values in a rolling window.\n",
    "\n",
    "2. **Rolling Sum:**\n",
    "   - Calculates the sum of values in a rolling window.\n",
    "\n",
    "3. **Rolling Standard Deviation:**\n",
    "   - Calculates the standard deviation of values in a rolling window.\n",
    "\n",
    "4. **Rolling Min and Max:**\n",
    "   - Calculates the minimum and maximum values in a rolling window.\n",
    "\n",
    "5. **Exponential Moving Average (EMA):**\n",
    "   - Calculates the exponentially weighted moving average.\n",
    "\n",
    "6. **Custom Window Functions:**\n",
    "   - You can also define and apply your custom functions using the `apply` method on the rolling window."
   ]
  },
  {
   "cell_type": "markdown",
   "metadata": {},
   "source": [
    "# Q7. Write a code to print only the current month and year at the time of answering this question.\n",
    "\n",
    "[Hint: Use pandas.datetime function]"
   ]
  },
  {
   "cell_type": "code",
   "execution_count": 51,
   "metadata": {},
   "outputs": [
    {
     "name": "stdout",
     "output_type": "stream",
     "text": [
      "November 2023\n"
     ]
    }
   ],
   "source": [
    "from datetime import datetime\n",
    "\n",
    "current_month = pd.to_datetime(datetime.now()).strftime('%B %Y')\n",
    "print(current_month)"
   ]
  },
  {
   "cell_type": "markdown",
   "metadata": {},
   "source": [
    "# Q8. Write a Python program that takes in two dates as input (in the format YYYY-MM-DD) and calculates the difference between them in days, hours, and minutes using Pandas time delta. The program should prompt the user to enter the dates and display the result."
   ]
  },
  {
   "cell_type": "code",
   "execution_count": 1,
   "metadata": {},
   "outputs": [
    {
     "name": "stdout",
     "output_type": "stream",
     "text": [
      "\n",
      "Time difference between  and 2000-02-01:\n",
      "Days: nan days\n",
      "Hours: nan hours\n",
      "Minutes: nan minutes\n"
     ]
    }
   ],
   "source": [
    "import pandas as pd\n",
    "\n",
    "def calculate(start_date, end_date):\n",
    "    start_datetime = pd.to_datetime(start_date)\n",
    "    end_datetime = pd.to_datetime(end_date)\n",
    "\n",
    "    difference = end_datetime - start_datetime\n",
    "    days = difference.days\n",
    "    hours, remainder = divmod(difference.seconds, 3600)\n",
    "    minutes, _ = divmod(remainder, 60)\n",
    "\n",
    "    return days, hours, minutes\n",
    "\n",
    "start_date = input(\"Enter the start date (YYYY-MM-DD): \")\n",
    "end_date = input(\"Enter the end date (YYYY-MM-DD): \")\n",
    "\n",
    "days, hours, minutes = calculate(start_date, end_date)\n",
    "print(f\"\\nTime difference between {start_date} and {end_date}:\")\n",
    "print(f\"Days: {days} days\")\n",
    "print(f\"Hours: {hours} hours\")\n",
    "print(f\"Minutes: {minutes} minutes\")"
   ]
  },
  {
   "cell_type": "markdown",
   "metadata": {},
   "source": [
    "# Q9. Write a Python program that reads a CSV file containing categorical data and converts a specified column to a categorical data type. The program should prompt the user to enter the file path, column name, and category order, and then display the sorted data"
   ]
  },
  {
   "cell_type": "code",
   "execution_count": 2,
   "metadata": {},
   "outputs": [
    {
     "name": "stdout",
     "output_type": "stream",
     "text": [
      "\n",
      "Sorted Data:\n",
      "    id  location_id  program_id         accepted_payments  \\\n",
      "0    1            1         NaN                       NaN   \n",
      "1    2            2         NaN                       NaN   \n",
      "2    3            3         NaN                       NaN   \n",
      "3    4            4         NaN                       NaN   \n",
      "4    5            5         NaN                       NaN   \n",
      "5    6            6         NaN                       NaN   \n",
      "6    7            7         NaN                       NaN   \n",
      "7    8            8         NaN                       NaN   \n",
      "8    9            9         NaN                       NaN   \n",
      "9   10           10         NaN                       NaN   \n",
      "10  11           11         NaN                       NaN   \n",
      "11  12           12         NaN                       NaN   \n",
      "12  13           13         NaN                       NaN   \n",
      "13  14           14         NaN                       NaN   \n",
      "14  15           15         NaN                       NaN   \n",
      "15  16           16         NaN                       NaN   \n",
      "16  17           17         NaN                       NaN   \n",
      "17  18           18         NaN                       NaN   \n",
      "18  19           19         NaN                       NaN   \n",
      "19  20           20         NaN                       NaN   \n",
      "20  21           21         NaN                       NaN   \n",
      "21  22           22         NaN  Cash, Check, Credit Card   \n",
      "22  23           22         NaN                       NaN   \n",
      "\n",
      "           alternate_name application_process  \\\n",
      "0                     NaN                 NaN   \n",
      "1                     NaN                 NaN   \n",
      "2                     NaN                 NaN   \n",
      "3                     NaN                 NaN   \n",
      "4                     NaN                 NaN   \n",
      "5                     NaN                 NaN   \n",
      "6                     NaN                 NaN   \n",
      "7                     NaN                 NaN   \n",
      "8                     NaN                 NaN   \n",
      "9                     NaN                 NaN   \n",
      "10                    NaN                 NaN   \n",
      "11                    NaN                 NaN   \n",
      "12                    NaN                 NaN   \n",
      "13                    NaN                 NaN   \n",
      "14                    NaN                 NaN   \n",
      "15                    NaN                 NaN   \n",
      "16                    NaN                 NaN   \n",
      "17                    NaN                 NaN   \n",
      "18                    NaN                 NaN   \n",
      "19                    NaN                 NaN   \n",
      "20                    NaN                 NaN   \n",
      "21  Fotos para pasaportes                 NaN   \n",
      "22                    NaN                 NaN   \n",
      "\n",
      "                                             audience  \\\n",
      "0   Older adults age 55 or over, ethnic minorities...   \n",
      "1        Residents of San Mateo County age 55 or over   \n",
      "2   Older adults age 55 or over who can benefit fr...   \n",
      "3   Parents, children, families with problems of c...   \n",
      "4   Low-income working families with children tran...   \n",
      "5                                             Any age   \n",
      "6   Older adults who have memory or sensory loss, ...   \n",
      "7   Senior citizens age 60 or over, disabled indiv...   \n",
      "8      Ethnic minorities, especially Spanish speaking   \n",
      "9                                                 NaN   \n",
      "10                                                NaN   \n",
      "11  Adults, parents, children in 1st-12th grades i...   \n",
      "12                                                NaN   \n",
      "13  Individuals or families with low or no income ...   \n",
      "14  Adult alcoholic/drug addictive men and women w...   \n",
      "15                                                NaN   \n",
      "16                                                NaN   \n",
      "17                                                NaN   \n",
      "18                                                NaN   \n",
      "19                                                NaN   \n",
      "20                                                NaN   \n",
      "21  Profit and nonprofit businesses, the public, m...   \n",
      "22  Second service and nonprofit businesses, the p...   \n",
      "\n",
      "                                          description  \\\n",
      "0   A walk-in center for older adults that provide...   \n",
      "1   Provides training and job placement to eligibl...   \n",
      "2   Offers supportive counseling services to San M...   \n",
      "3   Provides supervised visitation services and a ...   \n",
      "4   Provides fixed 8% short term loans to eligible...   \n",
      "5   A multipurpose center offering a wide variety ...   \n",
      "6   Rosener House is a day center for older adults...   \n",
      "7   Delivers a hot meal to the home of persons age...   \n",
      "8   Provides general reading material, including b...   \n",
      "9   Provides general reading and media materials, ...   \n",
      "10  Provides general reading materials, including ...   \n",
      "11  Offers an intergenerational literacy program f...   \n",
      "12  Provides general reading materials, including ...   \n",
      "13  Provides food, clothing, bus tokens and shelte...   \n",
      "14  Provides a long-term (6-12 month) residential ...   \n",
      "15  Provides emergency assistance including food a...   \n",
      "16  Provides emergency food, clothing and furnitur...   \n",
      "17  By appointment only, Project Smile provides a ...   \n",
      "18  Provides free medical and dental care to those...   \n",
      "19              no unrequired fields for this service   \n",
      "20                                just a test service   \n",
      "21  [NOTE THIS IS NOT A REAL SERVICE--THIS IS FOR ...   \n",
      "22  [NOTE THIS IS NOT A REAL ORGANIZATION--THIS IS...   \n",
      "\n",
      "                                          eligibility                  email  \\\n",
      "0   Age 55 or over for most programs, age 60 or ov...                    NaN   \n",
      "1   Age 55 or over, county resident and willing an...                    NaN   \n",
      "2         Resident of San Mateo County age 55 or over                    NaN   \n",
      "3                                                 NaN                    NaN   \n",
      "4   Eligibility: Low-income family with legal cust...                    NaN   \n",
      "5                                                 NaN                    NaN   \n",
      "6                                      Age 18 or over                    NaN   \n",
      "7             Homebound person unable to cook or shop                    NaN   \n",
      "8     Resident of California to obtain a library card                    NaN   \n",
      "9             Resident of California to obtain a card                    NaN   \n",
      "10  Resident of California to obtain a library car...                    NaN   \n",
      "11  English-speaking adult reading at or below 7th...                    NaN   \n",
      "12    Resident of California to obtain a library card                    NaN   \n",
      "13  None for most services. For emergency assistan...                    NaN   \n",
      "14  Age 21-60, detoxed, physically able and willin...                    NaN   \n",
      "15                      None for emergency assistance                    NaN   \n",
      "16                                Low-income families                    NaN   \n",
      "17    Low-income person without access to health care                    NaN   \n",
      "18    Low-income person without access to health care                    NaN   \n",
      "19                                                NaN                    NaN   \n",
      "20                                                NaN                    NaN   \n",
      "21                                                NaN  passports@example.org   \n",
      "22                                                NaN                    NaN   \n",
      "\n",
      "    ...                            interpretation_services  \\\n",
      "0   ...                                                NaN   \n",
      "1   ...                                                NaN   \n",
      "2   ...                                                NaN   \n",
      "3   ...                                                NaN   \n",
      "4   ...                                                NaN   \n",
      "5   ...                                                NaN   \n",
      "6   ...                                                NaN   \n",
      "7   ...                                                NaN   \n",
      "8   ...                                                NaN   \n",
      "9   ...                                                NaN   \n",
      "10  ...                                                NaN   \n",
      "11  ...                                                NaN   \n",
      "12  ...                                                NaN   \n",
      "13  ...                                                NaN   \n",
      "14  ...                                                NaN   \n",
      "15  ...                                                NaN   \n",
      "16  ...                                                NaN   \n",
      "17  ...                                                NaN   \n",
      "18  ...                                                NaN   \n",
      "19  ...                                                NaN   \n",
      "20  ...                                                NaN   \n",
      "21  ...  We offer 3-way interpretation services over th...   \n",
      "22  ...                                                NaN   \n",
      "\n",
      "                                             keywords languages  \\\n",
      "0   ADULT PROTECTION AND CARE SERVICES, Meal Sites...       NaN   \n",
      "1   EMPLOYMENT/TRAINING SERVICES, Job Development,...       NaN   \n",
      "2   Geriatric Counseling, Older Adults, Gay, Lesbi...       NaN   \n",
      "3   INDIVIDUAL AND FAMILY DEVELOPMENT SERVICES, Gr...       NaN   \n",
      "4      COMMUNITY SERVICES, Speakers, Automobile Loans       NaN   \n",
      "5   ADULT PROTECTION AND CARE SERVICES, In-Home Su...       NaN   \n",
      "6   ADULT PROTECTION AND CARE SERVICES, Adult Day ...       NaN   \n",
      "7   ADULT PROTECTION AND CARE SERVICES, Meal Sites...       NaN   \n",
      "8   EDUCATION SERVICES, Library, Libraries, Public...       NaN   \n",
      "9   EDUCATION SERVICES, Library, Libraries, Public...       NaN   \n",
      "10  EDUCATION SERVICES, Library, Libraries, Public...       NaN   \n",
      "11  EDUCATION SERVICES, Adult, Alternative, Litera...       NaN   \n",
      "12  EDUCATION SERVICES, Library, Libraries, Public...       NaN   \n",
      "13  COMMUNITY SERVICES, Interpretation/Translation...       NaN   \n",
      "14  ALCOHOLISM SERVICES, Residential Care, DRUG AB...       NaN   \n",
      "15  COMMODITY SERVICES, Clothing/Personal Items, C...       NaN   \n",
      "16  COMMODITY SERVICES, Clothing/Personal Items, C...       NaN   \n",
      "17  HEALTH SERVICES, Outpatient Care, Community Cl...       NaN   \n",
      "18  HEALTH SERVICES, Outpatient Care, Community Cl...       NaN   \n",
      "19                                                NaN       NaN   \n",
      "20                                                NaN       NaN   \n",
      "21                                    Salud, Medicina   Spanish   \n",
      "22         Ruby on Rails/Postgres/Redis, testing, wic       NaN   \n",
      "\n",
      "                                    name  \\\n",
      "0        Fair Oaks Adult Activity Center   \n",
      "1       Second Career Employment Program   \n",
      "2                 Senior Peer Counseling   \n",
      "3               Family Visitation Center   \n",
      "4      Economic Self-Sufficiency Program   \n",
      "5   Little House Recreational Activities   \n",
      "6       Rosener House Adult Day Services   \n",
      "7         Meals on Wheels - South County   \n",
      "8                       Fair Oaks Branch   \n",
      "9                           Main Library   \n",
      "10                       Schaberg Branch   \n",
      "11                          Project Read   \n",
      "12                 Redwood Shores Branch   \n",
      "13                    Redwood City Corps   \n",
      "14           Adult Rehabilitation Center   \n",
      "15                       Sunnyvale Corps   \n",
      "16     South San Francisco Citadel Corps   \n",
      "17                         Project Smile   \n",
      "18         San Mateo Free Medical Clinic   \n",
      "19             Service with blank fields   \n",
      "20       Service for Admin Test Location   \n",
      "21                       Passport Photos   \n",
      "22                  Example Service Name   \n",
      "\n",
      "                          required_documents  \\\n",
      "0                                        NaN   \n",
      "1                                        NaN   \n",
      "2                                        NaN   \n",
      "3                                        NaN   \n",
      "4                                        NaN   \n",
      "5                                        NaN   \n",
      "6                                        NaN   \n",
      "7                                        NaN   \n",
      "8                                        NaN   \n",
      "9                                        NaN   \n",
      "10                                       NaN   \n",
      "11                                       NaN   \n",
      "12                                       NaN   \n",
      "13                                       NaN   \n",
      "14                                       NaN   \n",
      "15                                       NaN   \n",
      "16                                       NaN   \n",
      "17                                       NaN   \n",
      "18                                       NaN   \n",
      "19                                       NaN   \n",
      "20                                       NaN   \n",
      "21  Government-issued picture identification   \n",
      "22                                       NaN   \n",
      "\n",
      "                            service_areas    status  \\\n",
      "0                                   Colma    active   \n",
      "1                        San Mateo County    active   \n",
      "2                        San Mateo County    active   \n",
      "3                        San Mateo County    active   \n",
      "4                        San Mateo County    active   \n",
      "5                        San Mateo County    active   \n",
      "6     Belmont, Burlingame, East Palo Alto    active   \n",
      "7                 Belmont, East Palo Alto    active   \n",
      "8                        San Mateo County    active   \n",
      "9                        San Mateo County    active   \n",
      "10                       San Mateo County    active   \n",
      "11                              Daly City    active   \n",
      "12                       San Mateo County    active   \n",
      "13    Belmont, Burlingame, East Palo Alto    active   \n",
      "14       Alameda County, San Mateo County    active   \n",
      "15                                    NaN    active   \n",
      "16  Colma, Daly City, South San Francisco    active   \n",
      "17                         East Palo Alto    active   \n",
      "18                    Belmont, Burlingame    active   \n",
      "19                                    NaN   defunct   \n",
      "20                       San Mateo County  inactive   \n",
      "21       Alameda County, San Mateo County    active   \n",
      "22       San Mateo County, Alameda County    active   \n",
      "\n",
      "                                            wait_time                 website  \\\n",
      "0                                            No wait.                     NaN   \n",
      "1                                             Varies.                     NaN   \n",
      "2                                             Varies.                     NaN   \n",
      "3                                            No wait.                     NaN   \n",
      "4                                                 NaN                     NaN   \n",
      "5                                            No wait.                     NaN   \n",
      "6                                            No wait.                     NaN   \n",
      "7                                            No wait.                     NaN   \n",
      "8                                            No wait.                     NaN   \n",
      "9                                            No wait.                     NaN   \n",
      "10                                           No wait.                     NaN   \n",
      "11  Depends on availability of tutors for small gr...                     NaN   \n",
      "12                                           No wait.                     NaN   \n",
      "13                                  Up to 20 minutes.                     NaN   \n",
      "14  Varies according to available beds for men and...                     NaN   \n",
      "15                                           No wait.                     NaN   \n",
      "16                                                NaN                     NaN   \n",
      "17                                            Varies.                     NaN   \n",
      "18                                            Varies.                     NaN   \n",
      "19                                                NaN                     NaN   \n",
      "20                                                NaN                     NaN   \n",
      "21                                No wait to 2 weeks.  http://www.example.com   \n",
      "22                                 No wait to 2 weeks  http://www.example.com   \n",
      "\n",
      "                                taxonomy_ids  \n",
      "0                                        NaN  \n",
      "1                                        NaN  \n",
      "2                                        NaN  \n",
      "3                                        NaN  \n",
      "4                                        NaN  \n",
      "5                                        NaN  \n",
      "6                                        NaN  \n",
      "7                                        NaN  \n",
      "8                                        NaN  \n",
      "9                                        NaN  \n",
      "10                                       NaN  \n",
      "11                                       NaN  \n",
      "12                                       NaN  \n",
      "13                                       NaN  \n",
      "14                                       NaN  \n",
      "15                                       NaN  \n",
      "16                                       NaN  \n",
      "17                                       NaN  \n",
      "18                                       NaN  \n",
      "19                                       NaN  \n",
      "20                                       NaN  \n",
      "21  105, 108, 108-05, 108-05-01, 111, 111-05  \n",
      "22                                       NaN  \n",
      "\n",
      "[23 rows x 22 columns]\n"
     ]
    }
   ],
   "source": [
    "import pandas as pd\n",
    "\n",
    "def convert(dataframe, column_name, category_order):\n",
    "    dataframe[column_name] = pd.Categorical(dataframe[column_name], categories=category_order, ordered=True)\n",
    "\n",
    "file_path = input(\"Enter the CSV file path: \")\n",
    "column_name = input(\"Enter the column name to convert to categorical: \")\n",
    "order = input(\"Enter the category order (comma-separated): \").split(',')\n",
    "\n",
    "df = pd.read_csv(file_path)\n",
    "\n",
    "convert(df, column_name, order)\n",
    "\n",
    "sorted_df = df.sort_values(by=column_name)\n",
    "print(\"\\nSorted Data:\")\n",
    "print(sorted_df)\n"
   ]
  },
  {
   "cell_type": "markdown",
   "metadata": {},
   "source": [
    "# Q10. Write a Python program that reads a CSV file containing sales data for different products and visualizes the data using a stacked bar chart to show the sales of each product category over time. The program should prompt the user to enter the file path and display the chart."
   ]
  },
  {
   "cell_type": "code",
   "execution_count": null,
   "metadata": {},
   "outputs": [],
   "source": [
    "import pandas as pd\n",
    "import matplotlib.pyplot as plt\n",
    "\n",
    "path = input(\"Enter the CSV file path: \")\n",
    "\n",
    "df = pd.read_csv(path)\n",
    "\n",
    "if 'Date' not in df.columns or 'Product_Category' not in df.columns or 'Sales' not in df.columns:\n",
    "    print(\"The CSV file should contain columns 'Date', 'Product_Category', and 'Sales'.\")\n",
    "    exit(1)\n",
    "\n",
    "df['Date'] = pd.to_datetime(df['Date'])\n",
    "\n",
    "pivot_df = df.pivot(index='Date', columns='Product_Category', values='Sales')\n",
    "\n",
    "plt.figure(figsize=(10, 6))\n",
    "pivot_df.plot(kind='bar', stacked=True)\n",
    "plt.title('Stacked Bar Chart of Sales by Product Category Over Time')\n",
    "plt.xlabel('Date')\n",
    "plt.ylabel('Sales')\n",
    "plt.show()\n"
   ]
  },
  {
   "cell_type": "markdown",
   "metadata": {},
   "source": [
    "# Q11. You are given a CSV file containing student data that includes the student ID and their test score. Write a Python program that reads the CSV file, calculates the mean, median, and mode of the test scores, and displays the results in a table."
   ]
  },
  {
   "cell_type": "code",
   "execution_count": 7,
   "metadata": {},
   "outputs": [
    {
     "name": "stdout",
     "output_type": "stream",
     "text": [
      "   Student ID  Test Score\n",
      "0           1          85\n",
      "1           2          90\n",
      "2           3          80\n",
      "3           4          75\n",
      "4           5          85\n",
      "5           6          82\n",
      "6           7          78\n",
      "7           8          85\n",
      "8           9          90\n",
      "9          10          85\n"
     ]
    }
   ],
   "source": [
    "import pandas as pd\n",
    "\n",
    "df = pd.read_csv(input(\"Enter the file path of the CSV : \"))\n",
    "\n",
    "mean = df['Test Score'].mean()\n",
    "median = df['Test Score'].median()\n",
    "mode = df['Test Score'].mode()\n",
    "\n",
    "result_table = pd.DataFrame({\n",
    "    'Statistic': ['Mean', 'Median', 'Mode'],\n",
    "    'Value': [mean, median, ', '.join(map(str, mode))]\n",
    "})\n",
    "\n",
    "print(result_table)"
   ]
  }
 ],
 "metadata": {
  "kernelspec": {
   "display_name": "Python 3",
   "language": "python",
   "name": "python3"
  },
  "language_info": {
   "codemirror_mode": {
    "name": "ipython",
    "version": 3
   },
   "file_extension": ".py",
   "mimetype": "text/x-python",
   "name": "python",
   "nbconvert_exporter": "python",
   "pygments_lexer": "ipython3",
   "version": "3.11.5"
  },
  "orig_nbformat": 4
 },
 "nbformat": 4,
 "nbformat_minor": 2
}
