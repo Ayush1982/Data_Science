{
 "cells": [
  {
   "cell_type": "markdown",
   "metadata": {},
   "source": [
    "# Q1. Create a Pandas Series that contains the following data: 4, 8, 15, 16, 23, and 42. Then, print the series."
   ]
  },
  {
   "cell_type": "code",
   "execution_count": 2,
   "metadata": {},
   "outputs": [
    {
     "name": "stdout",
     "output_type": "stream",
     "text": [
      "0     4\n",
      "1     8\n",
      "2    15\n",
      "3    16\n",
      "4    23\n",
      "dtype: int64\n"
     ]
    }
   ],
   "source": [
    "import pandas as pd\n",
    "\n",
    "ser = pd.Series([4,8,15,16,23], index=[0, 1, 2, 3, 4])\n",
    "\n",
    "print(ser)"
   ]
  },
  {
   "cell_type": "markdown",
   "metadata": {},
   "source": [
    "# Q2. Create a variable of list type containing 10 elements in it, and apply pandas.Series function on the variable print it."
   ]
  },
  {
   "cell_type": "code",
   "execution_count": 3,
   "metadata": {},
   "outputs": [
    {
     "name": "stdout",
     "output_type": "stream",
     "text": [
      "0     3\n",
      "1     6\n",
      "2     9\n",
      "3    12\n",
      "4    15\n",
      "5    18\n",
      "6    21\n",
      "7    24\n",
      "8    27\n",
      "9    30\n",
      "dtype: int64\n"
     ]
    }
   ],
   "source": [
    "my_list = [3, 6, 9, 12, 15, 18, 21, 24, 27, 30]\n",
    "\n",
    "series1 = pd.Series(my_list)\n",
    "\n",
    "print(series1)\n"
   ]
  },
  {
   "cell_type": "markdown",
   "metadata": {},
   "source": [
    "# Q3. Create a Pandas DataFrame that contains the following data:\n",
    "\n",
    "| Name | Age | Gender|\n",
    "|----------|----------|----------|\n",
    "| Alice | 25 | Female |\n",
    "| Bob | 30 | male   |\n",
    "| Claire | 27 | Female |\n",
    "\n",
    "# Then, print the DataFrame."
   ]
  },
  {
   "cell_type": "code",
   "execution_count": 6,
   "metadata": {},
   "outputs": [
    {
     "name": "stdout",
     "output_type": "stream",
     "text": [
      "     Name  Age  Gender\n",
      "0   Alice   25  Female\n",
      "1     Bob   30    male\n",
      "2  Claire   27  Female\n"
     ]
    }
   ],
   "source": [
    "df = pd.read_csv(\"data_test.csv\")\n",
    "\n",
    "print(df)"
   ]
  },
  {
   "cell_type": "code",
   "execution_count": 8,
   "metadata": {},
   "outputs": [
    {
     "data": {
      "text/html": [
       "<div>\n",
       "<style scoped>\n",
       "    .dataframe tbody tr th:only-of-type {\n",
       "        vertical-align: middle;\n",
       "    }\n",
       "\n",
       "    .dataframe tbody tr th {\n",
       "        vertical-align: top;\n",
       "    }\n",
       "\n",
       "    .dataframe thead th {\n",
       "        text-align: right;\n",
       "    }\n",
       "</style>\n",
       "<table border=\"1\" class=\"dataframe\">\n",
       "  <thead>\n",
       "    <tr style=\"text-align: right;\">\n",
       "      <th></th>\n",
       "      <th>Name</th>\n",
       "      <th>Age</th>\n",
       "      <th>Gender</th>\n",
       "    </tr>\n",
       "  </thead>\n",
       "  <tbody>\n",
       "    <tr>\n",
       "      <th>0</th>\n",
       "      <td>Alice</td>\n",
       "      <td>25</td>\n",
       "      <td>Female</td>\n",
       "    </tr>\n",
       "    <tr>\n",
       "      <th>1</th>\n",
       "      <td>Bob</td>\n",
       "      <td>30</td>\n",
       "      <td>male</td>\n",
       "    </tr>\n",
       "    <tr>\n",
       "      <th>2</th>\n",
       "      <td>Claire</td>\n",
       "      <td>27</td>\n",
       "      <td>Female</td>\n",
       "    </tr>\n",
       "  </tbody>\n",
       "</table>\n",
       "</div>"
      ],
      "text/plain": [
       "     Name  Age  Gender\n",
       "0   Alice   25  Female\n",
       "1     Bob   30    male\n",
       "2  Claire   27  Female"
      ]
     },
     "execution_count": 8,
     "metadata": {},
     "output_type": "execute_result"
    }
   ],
   "source": [
    "df.head(3)"
   ]
  },
  {
   "cell_type": "markdown",
   "metadata": {},
   "source": [
    "# Q4. What is ‘DataFrame’ in pandas and how is it different from pandas.series? Explain with an example."
   ]
  },
  {
   "cell_type": "markdown",
   "metadata": {},
   "source": [
    "DataFrame is a 2-dimensional labeled data structure that consists of rows and columns, much like a table in a relational database or an Excel spreadsheet. It's one of the primary data structures provided by the Pandas library. DataFrames allow for storing and manipulating data in a tabular form and provide various functionalities to perform data analysis."
   ]
  },
  {
   "cell_type": "markdown",
   "metadata": {},
   "source": [
    "Pandas Series is a one-dimensional labeled array that can hold data of any type like integer, string, float, etc. It is a single column of a DataFrame and can be seen as the building block of a DataFrame. A DataFrame can be thought of as a collection of Series that share the same index."
   ]
  },
  {
   "cell_type": "code",
   "execution_count": 2,
   "metadata": {},
   "outputs": [
    {
     "name": "stdout",
     "output_type": "stream",
     "text": [
      "<class 'pandas.core.series.Series'>\n",
      "0    10\n",
      "1    20\n",
      "2    30\n",
      "3    40\n",
      "4    50\n",
      "dtype: int64\n"
     ]
    }
   ],
   "source": [
    "import pandas as pd\n",
    "\n",
    "# Pandas\n",
    "s = pd.Series([10, 20, 30, 40, 50])\n",
    "print(type(s))\n",
    "print(s)\n"
   ]
  },
  {
   "cell_type": "code",
   "execution_count": 4,
   "metadata": {},
   "outputs": [
    {
     "name": "stdout",
     "output_type": "stream",
     "text": [
      "<class 'pandas.core.frame.DataFrame'>\n",
      "    A  B\n",
      "0  10  a\n",
      "1  20  b\n",
      "2  30  c\n",
      "3  40  d\n",
      "4  50  e\n"
     ]
    }
   ],
   "source": [
    "#DataFrame\n",
    "data = {\n",
    "    'A': pd.Series([10, 20, 30, 40, 50]),\n",
    "    'B': pd.Series(['a', 'b', 'c', 'd', 'e'])\n",
    "}\n",
    "\n",
    "df = pd.DataFrame(data)\n",
    "print(type(df))\n",
    "print(df)\n"
   ]
  },
  {
   "cell_type": "markdown",
   "metadata": {},
   "source": [
    "# Q5. What are some common functions you can use to manipulate data in a Pandas DataFrame? Can you give an example of when you might use one of these functions?"
   ]
  },
  {
   "cell_type": "markdown",
   "metadata": {},
   "source": [
    "Pandas provides a wide range of functions to manipulate and analyze data within a DataFrame. Some common functions used for data manipulation in Pandas include:\n",
    "\n",
    "1. **head() and tail()**: These functions display the first few (head) or last few (tail) rows of the DataFrame. They are helpful to quickly examine the structure and contents of the DataFrame.\n",
    "\n",
    "2. **describe()**: It provides summary statistics of numerical columns in the DataFrame, such as count, mean, standard deviation, minimum, maximum, and quartile values.\n",
    "\n",
    "3. **info()**: This function gives a concise summary of the DataFrame, including the data types, column names, and non-null values in each column.\n",
    "\n",
    "4. **drop()**: It is used to drop specified rows or columns from the DataFrame.\n",
    "\n",
    "5. **groupby()**: This function is used to group data based on one or more columns and perform aggregate functions on those groups.\n",
    "\n",
    "6. **apply()**: It applies a function along an axis of the DataFrame.\n",
    "\n",
    "7. **fillna() and dropna()**: These functions are used for handling missing values by filling them with a specified value or dropping rows/columns with missing data.\n",
    "\n",
    "8. **sort_values()**: It sorts the DataFrame by one or more columns.\n",
    "\n",
    "9. **merge() and concat()**: These functions are used for combining DataFrames.\n",
    "\n",
    "For example, the `groupby()` function could be used to group sales data by region and find the average sales amount in each region. This would allow analysis and comparison of sales performance across different regions."
   ]
  },
  {
   "cell_type": "code",
   "execution_count": null,
   "metadata": {},
   "outputs": [],
   "source": [
    "df.head()  # Display the first few rows of the DataFrame\n",
    "df.tail(7)  # Display the last 7 rows of the DataFrame\n",
    "\n",
    "df.describe()  # Summary statistics of numerical columns\n",
    "\n",
    "df.info()  # Information about the DataFrame\n",
    "\n",
    "df.drop(columns=['Column1', 'Column2'])  # Drop specified columns\n",
    "df.drop(index=[0, 4, 7])  # Drop specified rows\n",
    "\n",
    "grouped = df.groupby('Category')  # Grouping data by 'Category' column\n",
    "grouped['Value'].mean()  # Calculate the mean of 'Value' column within each group\n",
    "\n",
    "df['New_Column'] = df['Existing_Column'].apply(lambda x: x * 2)  # Apply a function to create a new column based on an existing one\n",
    "\n",
    "df.sort_values(by='Column_Name', ascending=False)  # Sort DataFrame by 'Column_Name' in descending order\n",
    "\n",
    "new_df = pd.concat([df, df])  # Concatenating two DataFrames\n",
    "merged_df = pd.merge(df, df, on='Key_Column')  # Merging two DataFrames on a common column"
   ]
  },
  {
   "cell_type": "markdown",
   "metadata": {},
   "source": [
    "# Q6. Which of the following is mutable in nature Series, DataFrame, Panel?"
   ]
  },
  {
   "cell_type": "markdown",
   "metadata": {},
   "source": [
    "In the Pandas, both Series and DataFrame are mutable, meaning they can be modified after creation. However, the Panel data structure, is deprecated as of version 0.25.0 and has been removed in later versions. Panels were 3D data structures but were removed due to lack of consistent use and in favor of handling multi-dimensional data using other data structures like MultiIndex DataFrames or simply 3D arrays/numpy arrays.\n",
    "\n",
    "As of recent Pandas versions, you can focus on using Series and DataFrame, both of which are mutable and allow modifications to their data, index, and columns after creation."
   ]
  },
  {
   "cell_type": "markdown",
   "metadata": {},
   "source": [
    "# Q7. Create a DataFrame using multiple Series. Explain with an example."
   ]
  },
  {
   "cell_type": "markdown",
   "metadata": {},
   "source": [
    "Certainly! You can create a DataFrame by using multiple Pandas Series. Here's an example:\n",
    "\n",
    "In this example, two Pandas Series, `s1` and `s2`, are created. `s1` contains integers, and `s2` contains strings. These Series are then used to create a DataFrame, `df`. The resulting DataFrame has two columns: 'Column_A' and 'Column_B', derived from `s1` and `s2` respectively.\n",
    "\n",
    "The `pd.DataFrame()` function is used to create the DataFrame, and the data is passed in the form of a dictionary where the keys are the column names, and the values are the Series you want to include in the DataFrame.\n",
    "\n",
    "This way, you can combine multiple Series into a single DataFrame, which is a more structured and organized way to work with related data in a tabular form."
   ]
  },
  {
   "cell_type": "code",
   "execution_count": 10,
   "metadata": {},
   "outputs": [
    {
     "name": "stdout",
     "output_type": "stream",
     "text": [
      "0    10\n",
      "1    20\n",
      "2    30\n",
      "3    40\n",
      "4    50\n",
      "Name: A, dtype: int64\n",
      "\n",
      "\n",
      "   Column_A Column_B\n",
      "0        10        a\n",
      "1        20        b\n",
      "2        30        c\n",
      "3        40        d\n",
      "4        50        e\n"
     ]
    }
   ],
   "source": [
    "import pandas as pd\n",
    "\n",
    "s1 = pd.Series([10, 20, 30, 40, 50], name='A')\n",
    "s2 = pd.Series(['a', 'b', 'c', 'd', 'e'], name='B')\n",
    "\n",
    "print(s1)\n",
    "print(\"\\n\")\n",
    "\n",
    "data = {'Column_A': s1, 'Column_B': s2}\n",
    "df = pd.DataFrame(data)\n",
    "\n",
    "print(df)"
   ]
  }
 ],
 "metadata": {
  "kernelspec": {
   "display_name": "Python 3",
   "language": "python",
   "name": "python3"
  },
  "language_info": {
   "codemirror_mode": {
    "name": "ipython",
    "version": 3
   },
   "file_extension": ".py",
   "mimetype": "text/x-python",
   "name": "python",
   "nbconvert_exporter": "python",
   "pygments_lexer": "ipython3",
   "version": "3.11.5"
  },
  "orig_nbformat": 4
 },
 "nbformat": 4,
 "nbformat_minor": 2
}
