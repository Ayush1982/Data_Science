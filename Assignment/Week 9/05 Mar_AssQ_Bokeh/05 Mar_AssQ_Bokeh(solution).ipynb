{
 "cells": [
  {
   "cell_type": "markdown",
   "metadata": {},
   "source": [
    "# Q1. How can you create a Bokeh plot using Python code?"
   ]
  },
  {
   "cell_type": "markdown",
   "metadata": {},
   "source": [
    "1. **Install Bokeh:** Ensure that you have Bokeh installed. You can install it using pip:\n",
    "\n",
    "2. **Import Bokeh modules:** In your Python script or Jupyter Notebook, import the necessary Bokeh modules:\n",
    "\n",
    "3. **Create a figure:** Create a figure object using the `figure()` function. This object will represent your plot.\n",
    "\n",
    "\n",
    "4. **Add data to the plot:** Populate the figure with data. For example, you can use the `line()` function to add a line plot:\n",
    "\n",
    "5. **Show the plot:** Finally, use the `show()` function to display the plot:\n",
    "\n",
    "\n"
   ]
  },
  {
   "cell_type": "code",
   "execution_count": 1,
   "metadata": {},
   "outputs": [],
   "source": [
    "from bokeh.plotting import figure, show\n",
    "\n",
    "p = figure(title=\"My Bokeh Plot\", x_axis_label=\"X-axis\", y_axis_label=\"Y-axis\")\n",
    "\n",
    "x = [1, 2, 3, 4, 5]\n",
    "y = [6, 7, 2, 4, 8]\n",
    "p.line(x, y, legend_label=\"Line\", line_width=2)\n",
    "\n",
    "show(p)\n"
   ]
  },
  {
   "cell_type": "markdown",
   "metadata": {},
   "source": [
    "# Q2. What are glyphs in Bokeh, and how can you add them to a Bokeh plot? Explain with an example."
   ]
  },
  {
   "cell_type": "markdown",
   "metadata": {},
   "source": [
    "In Bokeh, glyphs are visual shapes or markers that you can add to a plot to represent data points. Bokeh provides a variety of glyph types, such as lines, circles, squares, triangles, and more. Each glyph type is represented by a corresponding function in Bokeh's plotting API.\n",
    "\n",
    "for example:\n",
    "\n",
    "- We create a `figure` object named `p`.\n",
    "- We define data points `x` and `y`.\n",
    "- We use the `circle()` function to add circle glyphs to the plot. The `size` parameter determines the size of the circles, and the `color` parameter sets the color. We also provide a label for the legend using the `legend_label` parameter.\n",
    "- We use the `square()` function similarly to add square glyphs to the plot.\n",
    "\n"
   ]
  },
  {
   "cell_type": "code",
   "execution_count": 1,
   "metadata": {},
   "outputs": [],
   "source": [
    "from bokeh.plotting import figure, show\n",
    "\n",
    "p = figure(title=\"Glyphs Example\", x_axis_label=\"X-axis\", y_axis_label=\"Y-axis\")\n",
    "\n",
    "x = [1, 2, 3, 4, 5]\n",
    "y = [6, 7, 2, 4, 8]\n",
    "p.circle(x, y, size=10, color=\"blue\", legend_label=\"Circle Glyph\")\n",
    "p.square(x, y, size=12, color=\"green\", legend_label=\"Square Glyph\")\n",
    "show(p)\n",
    "\n",
    "\n",
    "p = figure(title=\"Glyphs Example\", x_axis_label=\"X-axis\", y_axis_label=\"Y-axis\")\n",
    "\n",
    "x = [1, 2, 3, 4, 5]\n",
    "y = [6, 7, 2, 4, 8]\n",
    "p.circle(x, y, size=10, color=\"blue\", legend_label=\"Circle Glyph\")\n",
    "p.square(x, y, size=12, color=\"green\", legend_label=\"Square Glyph\")\n",
    "\n",
    "show(p)\n"
   ]
  },
  {
   "cell_type": "markdown",
   "metadata": {},
   "source": [
    "# Q3. How can you customize the appearance of a Bokeh plot, including the axes, title, and legend?"
   ]
  },
  {
   "cell_type": "code",
   "execution_count": null,
   "metadata": {},
   "outputs": [],
   "source": [
    "from bokeh.plotting import figure, show\n",
    "\n",
    "p = figure(title=\"Customized Bokeh Plot\", x_axis_label=\"X-axis Label\", y_axis_label=\"Y-axis Label\")\n",
    "\n",
    "x = [1, 2, 3, 4, 5]\n",
    "y = [6, 7, 2, 4, 8]\n",
    "p.line(x, y, legend_label=\"Line\")\n",
    "\n",
    "show(p)\n",
    "\n",
    "# Axis Customization:\n",
    "p.xaxis.axis_label_text_font_size = \"14pt\"\n",
    "p.yaxis.axis_label_text_color = \"blue\"\n",
    "p.xaxis.axis_line_width = 2\n",
    "\n",
    "# Title Customization:\n",
    "p.title.text_font_size = \"16pt\"\n",
    "p.title.text_color = \"green\"\n",
    "\n",
    "# Legend Customization:\n",
    "p.legend.title = \"Legend Title\"\n",
    "p.legend.label_text_font_size = \"12pt\"\n",
    "\n",
    "#Plot Background and Border:\n",
    "p.background_fill_color = \"lightgray\"\n",
    "p.border_fill_color = \"white\"\n",
    "p.border_line_width = 2\n",
    "\n",
    "#Grid Lines:\n",
    "p.grid.line_color = \"gray\"\n",
    "p.grid.line_dash = [6, 4]\n"
   ]
  },
  {
   "cell_type": "markdown",
   "metadata": {},
   "source": [
    "# Q4. What is a Bokeh server, and how can you use it to create interactive plots that can be updated in real time?"
   ]
  },
  {
   "cell_type": "markdown",
   "metadata": {},
   "source": [
    "A Bokeh server is a Python process that allows you to create interactive, real-time, and data-driven web applications. With Bokeh server, you can build dynamic web applications that update and respond to user interactions, streaming data, or changes in the underlying data source. It enables the creation of interactive plots and dashboards that can be shared and accessed through a web browser.\n",
    "\n",
    "1. **Bokeh Server Installation:**\n",
    "   Make sure you have Bokeh installed. You can install it using pip:\n",
    "\n",
    "2. **Create a Bokeh Application:**\n",
    "   Create a Python script (e.g., `app.py`) that defines a Bokeh application. An application is a Python function or class that creates and returns Bokeh models representing the interactive elements of your plot.\n",
    "\n",
    "3. **Run the Bokeh Server:**\n",
    "   Launch the Bokeh server using the `bokeh serve` command and providing the script name:\n",
    "\n",
    "4. **Interact with the Plot:**\n",
    "   Your plot is now interactive and will be updated in real time. You can pan, zoom, and interact with the plot based on the tools you added. The update callback function (`update` in the example) is triggered at regular intervals, allowing you to update the data and modify the plot dynamically."
   ]
  },
  {
   "cell_type": "markdown",
   "metadata": {},
   "source": [
    "# Q5. How can you embed a Bokeh plot into a web page or dashboard using Flask or Django?"
   ]
  },
  {
   "cell_type": "code",
   "execution_count": null,
   "metadata": {},
   "outputs": [],
   "source": [
    "from flask import Flask, jsonify\n",
    "from bokeh.plotting import figure\n",
    "from bokeh.embed import json_item\n",
    "from bokeh.resources import CDN\n",
    "\n",
    "app = Flask(__name__)\n",
    "\n",
    "@app.route('/bokeh_plot_data')\n",
    "def bokeh_plot_data():\n",
    "\n",
    "    plot = figure(title=\"Bokeh Plot\", x_axis_label=\"X-axis\", y_axis_label=\"Y-axis\")\n",
    "    plot.line([1, 2, 3], [4, 5, 6], line_width=2)\n",
    "\n",
    "\n",
    "    plot_json = json_item(plot, CDN)\n",
    "\n",
    "    return jsonify(plot_json)\n",
    "\n",
    "if __name__ == '__main__':\n",
    "    app.run(debug=True)\n"
   ]
  }
 ],
 "metadata": {
  "kernelspec": {
   "display_name": "Python 3",
   "language": "python",
   "name": "python3"
  },
  "language_info": {
   "codemirror_mode": {
    "name": "ipython",
    "version": 3
   },
   "file_extension": ".py",
   "mimetype": "text/x-python",
   "name": "python",
   "nbconvert_exporter": "python",
   "pygments_lexer": "ipython3",
   "version": "3.11.5"
  },
  "orig_nbformat": 4
 },
 "nbformat": 4,
 "nbformat_minor": 2
}
