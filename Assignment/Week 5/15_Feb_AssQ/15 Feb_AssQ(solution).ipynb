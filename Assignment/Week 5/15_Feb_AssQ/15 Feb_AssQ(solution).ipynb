{
 "cells": [
  {
   "cell_type": "markdown",
   "metadata": {},
   "source": [
    "# Q1. What is multiprocessing in python? Why is it useful? "
   ]
  },
  {
   "cell_type": "markdown",
   "metadata": {},
   "source": [
    "Multiprocessing in Python refers to the capability of running multiple processes simultaneously, taking advantage of multi-core CPUs. It is useful for parallelizing CPU-bound tasks, improving performance by distributing work across multiple cores. Python's multiprocessing module provides a high-level interface for creating and managing multiple processes, making it easier to implement parallelism."
   ]
  },
  {
   "cell_type": "markdown",
   "metadata": {},
   "source": [
    "# Q2. What are the differences between multiprocessing and multithreading?"
   ]
  },
  {
   "cell_type": "markdown",
   "metadata": {},
   "source": [
    "Multiprocessing and multithreading are concurrency models in Python, differing in several aspects. Multiprocessing uses separate processes, enabling true parallelism by utilizing multiple CPU cores. Each process has its own memory space, offering better isolation but increased memory usage. In contrast, multithreading involves multiple threads sharing the same memory space within a single process, which simplifies data sharing but faces limitations due to Python's Global Interpreter Lock (GIL), hindering true parallelism in CPU-bound tasks. Multiprocessing is preferred for CPU-bound tasks, while multithreading is suitable for I/O-bound tasks and UI responsiveness"
   ]
  },
  {
   "cell_type": "markdown",
   "metadata": {},
   "source": [
    "# Q3. Write a python code to create a process using the multiprocessing module."
   ]
  },
  {
   "cell_type": "code",
   "execution_count": 1,
   "metadata": {},
   "outputs": [
    {
     "name": "stdout",
     "output_type": "stream",
     "text": [
      "Main process is complete.\n"
     ]
    }
   ],
   "source": [
    "import multiprocessing\n",
    "\n",
    "def child_process_function():\n",
    "    print(\"Child process is running.\")\n",
    "\n",
    "if __name__ == \"__main__\":\n",
    "\n",
    "    child_process = multiprocessing.Process(target=child_process_function)\n",
    "\n",
    "    child_process.start()\n",
    "\n",
    "    child_process.join()\n",
    "\n",
    "    print(\"Main process is complete.\")\n"
   ]
  },
  {
   "cell_type": "markdown",
   "metadata": {},
   "source": [
    "# Q4. What is a multiprocessing pool in python? Why is it used?"
   ]
  },
  {
   "cell_type": "markdown",
   "metadata": {},
   "source": [
    "A multiprocessing pool in Python, provided by the `multiprocessing` module, is a high-level mechanism used for parallelizing and distributing tasks across multiple processes. It creates a pool of worker processes, typically one for each CPU core, making it easier to parallelize tasks like map and apply functions to multiple data elements. By using a pool, developers can harness the full power of multi-core CPUs, improving the performance and efficiency of CPU-bound or time-consuming operations such as data processing, parallel computation, and concurrent execution of tasks.\n"
   ]
  },
  {
   "cell_type": "markdown",
   "metadata": {},
   "source": [
    "# Q5. How can we create a pool of worker processes in python using the multiprocessing module?"
   ]
  },
  {
   "cell_type": "code",
   "execution_count": null,
   "metadata": {},
   "outputs": [],
   "source": [
    "import multiprocessing\n",
    "\n",
    "def process_data(data):\n",
    "    return data * 2\n",
    "\n",
    "if __name__ == \"__main__\":\n",
    "    data_list = [1, 2, 3, 4, 5]\n",
    "\n",
    "    num_cores = multiprocessing.cpu_count()\n",
    "    pool = multiprocessing.Pool(processes=num_cores)\n",
    "\n",
    "    results = pool.map(process_data, data_list)\n",
    "\n",
    "    pool.close()\n",
    "    pool.join()\n",
    "    \n",
    "    print(\"Results:\", results)\n"
   ]
  },
  {
   "cell_type": "markdown",
   "metadata": {},
   "source": [
    "# Q6. Write a python program to create 4 processes, each process should print a different number using the multiprocessing module in python."
   ]
  },
  {
   "cell_type": "code",
   "execution_count": 2,
   "metadata": {},
   "outputs": [],
   "source": [
    "import multiprocessing\n",
    "\n",
    "def print_number(number):\n",
    "    print(f\"Process {number}: {number}\")\n",
    "\n",
    "if __name__ == \"__main__\":\n",
    "\n",
    "    numbers = [1, 2, 3, 4]\n",
    "    \n",
    "    pool = multiprocessing.Pool(processes=4)\n",
    "    \n",
    "    pool.map(print_number, numbers)\n",
    "\n",
    "    pool.close()\n",
    "    pool.join()\n"
   ]
  }
 ],
 "metadata": {
  "kernelspec": {
   "display_name": "Python 3",
   "language": "python",
   "name": "python3"
  },
  "language_info": {
   "codemirror_mode": {
    "name": "ipython",
    "version": 3
   },
   "file_extension": ".py",
   "mimetype": "text/x-python",
   "name": "python",
   "nbconvert_exporter": "python",
   "pygments_lexer": "ipython3",
   "version": "3.11.5"
  },
  "orig_nbformat": 4
 },
 "nbformat": 4,
 "nbformat_minor": 2
}
