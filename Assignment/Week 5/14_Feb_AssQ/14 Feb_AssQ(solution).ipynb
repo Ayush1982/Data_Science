{
 "cells": [
  {
   "cell_type": "markdown",
   "metadata": {},
   "source": [
    "# Q1. What is multithreading in python? Why is it used? Name the module used to handle threads in python."
   ]
  },
  {
   "cell_type": "markdown",
   "metadata": {},
   "source": [
    "Multithreading in Python refers to the ability of a Python program to run multiple threads concurrently within the same process. Each thread represents a separate flow of execution and can perform tasks concurrently with other threads.\n",
    "\n",
    "The module used to handle threads in Python is called the threading module."
   ]
  },
  {
   "cell_type": "code",
   "execution_count": null,
   "metadata": {},
   "outputs": [],
   "source": [
    "import threading"
   ]
  },
  {
   "cell_type": "markdown",
   "metadata": {},
   "source": [
    "# Q2. Why threading module used? Write the use of the following functions: \n",
    "# 1.activeCount()\n",
    "# 2.currentThread()\n",
    "# 3.enumerate()"
   ]
  },
  {
   "cell_type": "markdown",
   "metadata": {},
   "source": [
    "The threading module in Python is used for working with threads. It provides a high-level, object-oriented interface for creating and managing threads in a Python program. Here's an explanation of the functions you mentioned:"
   ]
  },
  {
   "cell_type": "markdown",
   "metadata": {},
   "source": [
    "1)activeCount()\n",
    "\n",
    "activeCount() is a method of the threading module. It is used to return the number of Thread objects currently alive.\n",
    "\n",
    "2)currentThread()\n",
    "\n",
    "currentThread() is a method of the threading module. It returns the currently executing Thread object, representing the thread from which it's called.\n",
    "\n",
    "3)enumerate()\n",
    "\n",
    "enumerate() is a method of the threading module. It returns a list of all Thread objects currently alive"
   ]
  },
  {
   "cell_type": "markdown",
   "metadata": {},
   "source": [
    "# Q3. Explain the following functions\n",
    "# 1.run()\n",
    "# 2.start()\n",
    "# 3.join()\n",
    "# 4.isAlive()"
   ]
  },
  {
   "cell_type": "markdown",
   "metadata": {},
   "source": [
    "1)run():\n",
    "\n",
    "run() is not a standalone function; it's a method that you can define within a custom thread class. When a thread is started using the start() method, it internally calls the run() method of the thread's target function.\n",
    "\n",
    "2)start():\n",
    "\n",
    "start() is a method of the Thread class, and it is used to start a thread's execution. When you call start(), it creates a new thread of execution and invokes the run() method\n",
    "\n",
    "3)join():\n",
    "\n",
    "The join() method is used to wait for a thread to complete its execution before proceeding with the rest of the program.\n",
    "\n",
    "4)isAlive():\n",
    "\n",
    "isAlive() is a method of the Thread class, and it is used to check if a thread is currently running."
   ]
  },
  {
   "cell_type": "markdown",
   "metadata": {},
   "source": [
    "# Q4.  Write a python program to create two threads. Thread one must print the list of squares and thread two must print the list of cubes."
   ]
  },
  {
   "cell_type": "code",
   "execution_count": 1,
   "metadata": {},
   "outputs": [
    {
     "name": "stdout",
     "output_type": "stream",
     "text": [
      "Square of 1 is 1\n",
      "Square of 2 is 4\n",
      "Square of 3 is 9\n",
      "Square of 4 is 16\n",
      "Square of 5 is 25\n",
      "Cube of 1 is 1\n",
      "Cube of 2 is 8\n",
      "Cube of 3 is 27\n",
      "Cube of 4 is 64\n",
      "Cube of 5 is 125\n",
      "Both threads have finished.\n"
     ]
    }
   ],
   "source": [
    "import threading\n",
    "\n",
    "def print_squares():\n",
    "    for num in range(1, 6):\n",
    "        square = num ** 2\n",
    "        print(f\"Square of {num} is {square}\")\n",
    "\n",
    "def print_cubes():\n",
    "    for num in range(1, 6):\n",
    "        cube = num ** 3\n",
    "        print(f\"Cube of {num} is {cube}\")\n",
    "\n",
    "thread1 = threading.Thread(target=print_squares)\n",
    "thread2 = threading.Thread(target=print_cubes)\n",
    "\n",
    "thread1.start()\n",
    "thread2.start()\n",
    "\n",
    "thread1.join()\n",
    "thread2.join()\n",
    "\n",
    "print(\"Both threads have finished.\")\n"
   ]
  },
  {
   "cell_type": "markdown",
   "metadata": {},
   "source": [
    "# Q5. State advantages and disadvantages of multithreading."
   ]
  },
  {
   "cell_type": "markdown",
   "metadata": {},
   "source": [
    "#### Advantages of Multithreading:\n",
    "Multithreading can lead to improved performance, especially in applications that perform I/O-bound or network-bound operations. It allows the program to continue executing other tasks while waiting for I/O operations to complete.\n",
    "\n",
    "In applications with a user interface, multithreading can keep the user interface responsive while background tasks are running. This provides a smoother user experience.\n",
    "\n",
    "#### Disadvantages of Multithreading:\n",
    "Multithreading introduces complexity into code. Managing multiple threads, synchronization, and avoiding race conditions can be challenging. Debugging multithreaded code can also be more complex.\n",
    "\n",
    "Multithreading can introduce concurrency issues like race conditions, deadlocks, and contention for shared resources. These issues can be difficult to identify and resolve."
   ]
  },
  {
   "cell_type": "markdown",
   "metadata": {},
   "source": [
    "# Q6. Explain deadlocks and race conditions."
   ]
  },
  {
   "cell_type": "markdown",
   "metadata": {},
   "source": [
    "#### Deadlock:\n",
    "A deadlock is a situation in which two or more threads or processes are unable to proceed with their execution because each is waiting for the other(s) to release a resource or complete an action.\n",
    " \n",
    "Deadlocks typically occur in scenarios where multiple threads or processes compete for a finite set of resources in an inconsistent manner.\n",
    "\n",
    "#### Race Condition:\n",
    "A race condition occurs when multiple threads or processes access shared resources or variables concurrently, and the final outcome depends on the order of execution.\n",
    "\n",
    "Race conditions typically lead to unpredictable and undesirable behavior in a program because different threads may modify shared data simultaneously, leading to data corruption or incorrect results."
   ]
  }
 ],
 "metadata": {
  "kernelspec": {
   "display_name": "Python 3",
   "language": "python",
   "name": "python3"
  },
  "language_info": {
   "codemirror_mode": {
    "name": "ipython",
    "version": 3
   },
   "file_extension": ".py",
   "mimetype": "text/x-python",
   "name": "python",
   "nbconvert_exporter": "python",
   "pygments_lexer": "ipython3",
   "version": "3.11.5"
  },
  "orig_nbformat": 4
 },
 "nbformat": 4,
 "nbformat_minor": 2
}
