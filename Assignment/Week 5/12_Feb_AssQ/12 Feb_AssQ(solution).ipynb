{
 "cells": [
  {
   "cell_type": "code",
   "execution_count": 1,
   "metadata": {},
   "outputs": [],
   "source": [
    "import logging\n",
    "\n",
    "logging.basicConfig(filename= r\"E:\\DATA SCIENCE\\Assignment\\Week 5\\12_Feb_AssQ\\Log\\12_feb.log\" , level = logging.DEBUG , format = '%(asctime)s %(name)s %(levelname)s  %(message)s')"
   ]
  },
  {
   "cell_type": "markdown",
   "metadata": {},
   "source": [
    "# Q1. What is an Exception in python? Write the difference between Exceptions and Syntax errors"
   ]
  },
  {
   "cell_type": "markdown",
   "metadata": {},
   "source": [
    "Exception is a unexpected event that occurs during the execution of a program, intripting the normal flow of the program. When an exception occurs, python raises an error, which contains information about the error, such as its type and sometimes additional details like a description of what went wrong."
   ]
  },
  {
   "cell_type": "markdown",
   "metadata": {},
   "source": [
    "### Exception: \n",
    "Exceptions are runtime errors that occur when the program is running. They are typically caused by issues like invalid inputs, file not found, division by zero, or trying to access a non-existent object, among others.\n",
    "### Syntax Error:\n",
    "Syntax errors, also known as parsing errors, occur when the Python interpreter encounters invalid syntax in your code. They are detected during the parsing or compilation phase before the program begins execution."
   ]
  },
  {
   "cell_type": "code",
   "execution_count": 8,
   "metadata": {},
   "outputs": [
    {
     "name": "stdout",
     "output_type": "stream",
     "text": [
      "Division by zero error.\n"
     ]
    },
    {
     "ename": "NameError",
     "evalue": "name 'x' is not defined",
     "output_type": "error",
     "traceback": [
      "\u001b[1;31m---------------------------------------------------------------------------\u001b[0m",
      "\u001b[1;31mNameError\u001b[0m                                 Traceback (most recent call last)",
      "\u001b[1;32me:\\DATA SCIENCE\\Assignment\\Week 5\\12_Feb_AssQ\\12 Feb_AssQ(solution).ipynb Cell 5\u001b[0m line \u001b[0;36m1\n\u001b[0;32m     <a href='vscode-notebook-cell:/e%3A/DATA%20SCIENCE/Assignment/Week%205/12_Feb_AssQ/12%20Feb_AssQ%28solution%29.ipynb#W4sZmlsZQ%3D%3D?line=11'>12</a>\u001b[0m \u001b[39m# Syntax Error\u001b[39;00m\n\u001b[0;32m     <a href='vscode-notebook-cell:/e%3A/DATA%20SCIENCE/Assignment/Week%205/12_Feb_AssQ/12%20Feb_AssQ%28solution%29.ipynb#W4sZmlsZQ%3D%3D?line=12'>13</a>\u001b[0m \u001b[39mtry\u001b[39;00m:\n\u001b[1;32m---> <a href='vscode-notebook-cell:/e%3A/DATA%20SCIENCE/Assignment/Week%205/12_Feb_AssQ/12%20Feb_AssQ%28solution%29.ipynb#W4sZmlsZQ%3D%3D?line=13'>14</a>\u001b[0m     \u001b[39mif\u001b[39;00m x \u001b[39m>\u001b[39m \u001b[39m5\u001b[39m:  \u001b[39m# This will raise a SyntaxError because 'x' is not defined\u001b[39;00m\n\u001b[0;32m     <a href='vscode-notebook-cell:/e%3A/DATA%20SCIENCE/Assignment/Week%205/12_Feb_AssQ/12%20Feb_AssQ%28solution%29.ipynb#W4sZmlsZQ%3D%3D?line=14'>15</a>\u001b[0m         logging\u001b[39m.\u001b[39merror(\u001b[39m\"\u001b[39m\u001b[39mtesting if block\u001b[39m\u001b[39m\"\u001b[39m)\n\u001b[0;32m     <a href='vscode-notebook-cell:/e%3A/DATA%20SCIENCE/Assignment/Week%205/12_Feb_AssQ/12%20Feb_AssQ%28solution%29.ipynb#W4sZmlsZQ%3D%3D?line=15'>16</a>\u001b[0m         \u001b[39mprint\u001b[39m(\u001b[39m\"\u001b[39m\u001b[39mx is greater than 5.\u001b[39m\u001b[39m\"\u001b[39m)\n",
      "\u001b[1;31mNameError\u001b[0m: name 'x' is not defined"
     ]
    }
   ],
   "source": [
    "# example\n",
    "\n",
    "# Exception\n",
    "try:\n",
    "    logging.info(\"in side try block\")\n",
    "    result = 10 / 0  # This will raise a ZeroDivisionError\n",
    "\n",
    "except ZeroDivisionError:\n",
    "    logging.error(\"Division by zero error.\")\n",
    "    print(\"Division by zero error.\")\n",
    "\n",
    "# Syntax Error\n",
    "try:\n",
    "    if x > 5:  # This will raise a SyntaxError because 'x' is not defined\n",
    "        logging.error(\"testing if block\")\n",
    "        print(\"x is greater than 5.\")\n",
    "    logging.error(\" name 'x' is not defined\")\n",
    "finally:\n",
    "     logging.info(\"(changing the question)---------------------------------------------------------------------------------------------------------------------------------------------------------------------\")\n",
    "   "
   ]
  },
  {
   "cell_type": "markdown",
   "metadata": {},
   "source": [
    "# Q2. What happens when an exception is not handled? Explain with an example."
   ]
  },
  {
   "cell_type": "markdown",
   "metadata": {},
   "source": [
    "When an exception is not handled in a Python program, it will propagate up the call stack until it reaches the top-level of the program or until it's caught and handled by an appropriate exception handler. If no suitable handler is found, the program will terminate."
   ]
  },
  {
   "cell_type": "code",
   "execution_count": 9,
   "metadata": {},
   "outputs": [
    {
     "ename": "ZeroDivisionError",
     "evalue": "division by zero",
     "output_type": "error",
     "traceback": [
      "\u001b[1;31m---------------------------------------------------------------------------\u001b[0m",
      "\u001b[1;31mZeroDivisionError\u001b[0m                         Traceback (most recent call last)",
      "\u001b[1;32me:\\DATA SCIENCE\\Assignment\\Week 5\\12_Feb_AssQ\\12 Feb_AssQ(solution).ipynb Cell 8\u001b[0m line \u001b[0;36m8\n\u001b[0;32m      <a href='vscode-notebook-cell:/e%3A/DATA%20SCIENCE/Assignment/Week%205/12_Feb_AssQ/12%20Feb_AssQ%28solution%29.ipynb#X10sZmlsZQ%3D%3D?line=5'>6</a>\u001b[0m \u001b[39mtry\u001b[39;00m:\n\u001b[0;32m      <a href='vscode-notebook-cell:/e%3A/DATA%20SCIENCE/Assignment/Week%205/12_Feb_AssQ/12%20Feb_AssQ%28solution%29.ipynb#X10sZmlsZQ%3D%3D?line=6'>7</a>\u001b[0m     logging\u001b[39m.\u001b[39minfo(\u001b[39m\"\u001b[39m\u001b[39mtry block\u001b[39m\u001b[39m\"\u001b[39m)\n\u001b[1;32m----> <a href='vscode-notebook-cell:/e%3A/DATA%20SCIENCE/Assignment/Week%205/12_Feb_AssQ/12%20Feb_AssQ%28solution%29.ipynb#X10sZmlsZQ%3D%3D?line=7'>8</a>\u001b[0m     result \u001b[39m=\u001b[39m divide(\u001b[39m10\u001b[39;49m, \u001b[39m0\u001b[39;49m)  \u001b[39m# This will raise a ZeroDivisionError\u001b[39;00m\n\u001b[0;32m      <a href='vscode-notebook-cell:/e%3A/DATA%20SCIENCE/Assignment/Week%205/12_Feb_AssQ/12%20Feb_AssQ%28solution%29.ipynb#X10sZmlsZQ%3D%3D?line=8'>9</a>\u001b[0m \u001b[39mexcept\u001b[39;00m \u001b[39mValueError\u001b[39;00m:\n\u001b[0;32m     <a href='vscode-notebook-cell:/e%3A/DATA%20SCIENCE/Assignment/Week%205/12_Feb_AssQ/12%20Feb_AssQ%28solution%29.ipynb#X10sZmlsZQ%3D%3D?line=9'>10</a>\u001b[0m     logging\u001b[39m.\u001b[39merror(\u001b[39m\"\u001b[39m\u001b[39mA valueError occurred\u001b[39m\u001b[39m\"\u001b[39m)\n",
      "\u001b[1;32me:\\DATA SCIENCE\\Assignment\\Week 5\\12_Feb_AssQ\\12 Feb_AssQ(solution).ipynb Cell 8\u001b[0m line \u001b[0;36m3\n\u001b[0;32m      <a href='vscode-notebook-cell:/e%3A/DATA%20SCIENCE/Assignment/Week%205/12_Feb_AssQ/12%20Feb_AssQ%28solution%29.ipynb#X10sZmlsZQ%3D%3D?line=0'>1</a>\u001b[0m \u001b[39mdef\u001b[39;00m \u001b[39mdivide\u001b[39m(x, y):\n\u001b[0;32m      <a href='vscode-notebook-cell:/e%3A/DATA%20SCIENCE/Assignment/Week%205/12_Feb_AssQ/12%20Feb_AssQ%28solution%29.ipynb#X10sZmlsZQ%3D%3D?line=1'>2</a>\u001b[0m     logging\u001b[39m.\u001b[39minfo(\u001b[39m\"\u001b[39m\u001b[39minside divide block\u001b[39m\u001b[39m\"\u001b[39m)\n\u001b[1;32m----> <a href='vscode-notebook-cell:/e%3A/DATA%20SCIENCE/Assignment/Week%205/12_Feb_AssQ/12%20Feb_AssQ%28solution%29.ipynb#X10sZmlsZQ%3D%3D?line=2'>3</a>\u001b[0m     result \u001b[39m=\u001b[39m x \u001b[39m/\u001b[39;49m y\n\u001b[0;32m      <a href='vscode-notebook-cell:/e%3A/DATA%20SCIENCE/Assignment/Week%205/12_Feb_AssQ/12%20Feb_AssQ%28solution%29.ipynb#X10sZmlsZQ%3D%3D?line=3'>4</a>\u001b[0m     \u001b[39mreturn\u001b[39;00m result\n",
      "\u001b[1;31mZeroDivisionError\u001b[0m: division by zero"
     ]
    }
   ],
   "source": [
    "def divide(x, y):\n",
    "    logging.info(\"inside divide block\")\n",
    "    result = x / y\n",
    "    return result\n",
    "\n",
    "try:\n",
    "    logging.info(\"try block\")\n",
    "    result = divide(10, 0)  # This will raise a ZeroDivisionError\n",
    "except ValueError:\n",
    "    logging.error(\"A valueError occurred\")\n",
    "    print(\"A ValueError occurred.\")\n",
    "finally:\n",
    "    logging.info(\"(changing the question)---------------------------------------------------------------------------------------------------------------------------------------------------------------------\")"
   ]
  },
  {
   "cell_type": "markdown",
   "metadata": {},
   "source": [
    "# Q3. Which Python statements are used to catch and handle exceptions? Explain with an example."
   ]
  },
  {
   "cell_type": "code",
   "execution_count": 7,
   "metadata": {},
   "outputs": [
    {
     "name": "stdout",
     "output_type": "stream",
     "text": [
      "An exception occurred: division by zero\n"
     ]
    }
   ],
   "source": [
    "try:\n",
    "    logging.info(\"in side try block\")\n",
    "    result = 10 / 0  # This will raise a ZeroDivisionError\n",
    "except ZeroDivisionError as e:\n",
    "    logging.info(\"in side exception block\")\n",
    "    print(f\"An exception occurred: {e}\")\n",
    "finally:\n",
    "    logging.info(\"(changing the question)---------------------------------------------------------------------------------------------------------------------------------------------------------------------\")"
   ]
  },
  {
   "cell_type": "markdown",
   "metadata": {},
   "source": [
    "# Q4. Explain with an example:\n",
    "\n",
    "# a) try and else\n",
    "# b) finall\n",
    "# c) raise"
   ]
  },
  {
   "cell_type": "markdown",
   "metadata": {},
   "source": [
    "a) try and else:\n",
    "\n",
    "The try and else blocks are used together to handle exceptions that might occur within a specific block of code. The try block contains the code that may raise an exception, and the else block contains code that is executed if no exceptions occur within the try block"
   ]
  },
  {
   "cell_type": "code",
   "execution_count": 14,
   "metadata": {},
   "outputs": [
    {
     "name": "stdout",
     "output_type": "stream",
     "text": [
      "Invalid input. Please enter a valid number.\n"
     ]
    }
   ],
   "source": [
    "try:\n",
    "    num = int(input(\"Enter a number: \"))\n",
    "    logging.info(f\"input was {num}\")\n",
    "except ValueError:\n",
    "    logging.info(f\"input was {num}\")\n",
    "    logging.error(\"Invalid input. Please enter a valid number\")\n",
    "    print(\"Invalid input. Please enter a valid number.\")\n",
    "else:\n",
    "    logging.info(f\"every thing is fine\")\n",
    "    print(f\"You entered: {num}\")\n",
    "finally:\n",
    "    logging.info(\"(changing the question)---------------------------------------------------------------------------------------------------------------------------------------------------------------------\")"
   ]
  },
  {
   "cell_type": "markdown",
   "metadata": {},
   "source": [
    "b) finally:\n",
    "\n",
    "The finally block is used to specify code that must be executed regardless of whether an exception was raised or not. It is commonly used as closing files or releasing resources."
   ]
  },
  {
   "cell_type": "code",
   "execution_count": 15,
   "metadata": {},
   "outputs": [
    {
     "name": "stdout",
     "output_type": "stream",
     "text": [
      "The file does not exist.\n"
     ]
    },
    {
     "ename": "NameError",
     "evalue": "name 'file' is not defined",
     "output_type": "error",
     "traceback": [
      "\u001b[1;31m---------------------------------------------------------------------------\u001b[0m",
      "\u001b[1;31mNameError\u001b[0m                                 Traceback (most recent call last)",
      "\u001b[1;32me:\\DATA SCIENCE\\Assignment\\Week 5\\12_Feb_AssQ\\12 Feb_AssQ(solution).ipynb Cell 15\u001b[0m line \u001b[0;36m8\n\u001b[0;32m      <a href='vscode-notebook-cell:/e%3A/DATA%20SCIENCE/Assignment/Week%205/12_Feb_AssQ/12%20Feb_AssQ%28solution%29.ipynb#X20sZmlsZQ%3D%3D?line=5'>6</a>\u001b[0m     \u001b[39mprint\u001b[39m(\u001b[39m\"\u001b[39m\u001b[39mThe file does not exist.\u001b[39m\u001b[39m\"\u001b[39m)\n\u001b[0;32m      <a href='vscode-notebook-cell:/e%3A/DATA%20SCIENCE/Assignment/Week%205/12_Feb_AssQ/12%20Feb_AssQ%28solution%29.ipynb#X20sZmlsZQ%3D%3D?line=6'>7</a>\u001b[0m \u001b[39mfinally\u001b[39;00m:\n\u001b[1;32m----> <a href='vscode-notebook-cell:/e%3A/DATA%20SCIENCE/Assignment/Week%205/12_Feb_AssQ/12%20Feb_AssQ%28solution%29.ipynb#X20sZmlsZQ%3D%3D?line=7'>8</a>\u001b[0m     file\u001b[39m.\u001b[39mclose()\n\u001b[0;32m      <a href='vscode-notebook-cell:/e%3A/DATA%20SCIENCE/Assignment/Week%205/12_Feb_AssQ/12%20Feb_AssQ%28solution%29.ipynb#X20sZmlsZQ%3D%3D?line=8'>9</a>\u001b[0m     logging\u001b[39m.\u001b[39minfo(\u001b[39m\"\u001b[39m\u001b[39m(changing the question)---------------------------------------------------------------------------------------------------------------------------------------------------------------------\u001b[39m\u001b[39m\"\u001b[39m)\n",
      "\u001b[1;31mNameError\u001b[0m: name 'file' is not defined"
     ]
    }
   ],
   "source": [
    "try:\n",
    "    file = open(\"example.txt\", \"r\")\n",
    "    content = file.read()\n",
    "\n",
    "except FileNotFoundError:\n",
    "    print(\"The file does not exist.\")\n",
    "finally:\n",
    "    file.close()\n",
    "    logging.info(\"(changing the question)---------------------------------------------------------------------------------------------------------------------------------------------------------------------\")\n"
   ]
  },
  {
   "cell_type": "markdown",
   "metadata": {},
   "source": [
    "c) raise:\n",
    "\n",
    "The raise statement is used to raise an exception explicitly within your code. You can raise built-in exceptions or create custom exceptions."
   ]
  },
  {
   "cell_type": "code",
   "execution_count": 16,
   "metadata": {},
   "outputs": [
    {
     "name": "stdout",
     "output_type": "stream",
     "text": [
      "An exception occurred: Cannot divide by zero\n"
     ]
    }
   ],
   "source": [
    "def divide(x, y):\n",
    "    if y == 0:\n",
    "        raise ZeroDivisionError(\"Cannot divide by zero\")\n",
    "    return x / y\n",
    "\n",
    "try:\n",
    "    result = divide(10, 0)\n",
    "except ZeroDivisionError as e:\n",
    "    print(f\"An exception occurred: {e}\")\n",
    "\n",
    "finally:\n",
    "    logging.info(\"(changing the question)---------------------------------------------------------------------------------------------------------------------------------------------------------------------\")\n"
   ]
  },
  {
   "cell_type": "markdown",
   "metadata": {},
   "source": [
    "# Q5. What are Custom Exceptions in python? Why do we need Custom Exceptions? Explain with an example."
   ]
  },
  {
   "cell_type": "markdown",
   "metadata": {},
   "source": [
    "Custom exceptions in Python are user-defined exception classes that allow use to create your own types of exceptions to handle specific error conditions in your code.Python gives wide range of built-in exception classes like ValueError, TypeError, and FileNotFoundError etc , there are situations where these predefined exceptions may not precisely capture the nature of the error we want to handle. In that cases, we can create custom exceptions to provide more  error messages and better organize your code."
   ]
  },
  {
   "cell_type": "code",
   "execution_count": 17,
   "metadata": {},
   "outputs": [
    {
     "name": "stdout",
     "output_type": "stream",
     "text": [
      "Invalid input. Please enter a valid age.\n"
     ]
    }
   ],
   "source": [
    "class InvalidAgeError(Exception):\n",
    "    def __init__(self, age):\n",
    "        self.age = age\n",
    "        super().__init__(f\"Invalid age: {age}. Age must be greater than or equal to 0.\")\n",
    "\n",
    "def process_age(age):\n",
    "    if age < 0:\n",
    "        raise InvalidAgeError(age)\n",
    "    else:\n",
    "        print(f\"Age is valid: {age}\")\n",
    "\n",
    "try:\n",
    "    age = int(input(\"Enter your age: \"))\n",
    "    process_age(age)\n",
    "except InvalidAgeError as e:\n",
    "    print(f\"An error occurred: {e}\")\n",
    "except ValueError:\n",
    "    print(\"Invalid input. Please enter a valid age.\")\n",
    "\n",
    "finally:\n",
    "    logging.info(\"(changing the question)---------------------------------------------------------------------------------------------------------------------------------------------------------------------\")"
   ]
  },
  {
   "cell_type": "markdown",
   "metadata": {},
   "source": [
    "# Q6. Create a custom exception class. Use this class to handle an exception."
   ]
  },
  {
   "cell_type": "code",
   "execution_count": 18,
   "metadata": {},
   "outputs": [
    {
     "name": "stdout",
     "output_type": "stream",
     "text": [
      "Custom error occurred: Division by zero is not allowed.\n",
      "Program completed.\n"
     ]
    }
   ],
   "source": [
    "class CustomError(Exception):\n",
    "    \"\"\"Custom exception\"\"\"\n",
    "    \n",
    "    def __init__(self, message):\n",
    "        super().__init__(message)\n",
    "\n",
    "def divide(a, b):\n",
    "    try:\n",
    "        if b == 0:\n",
    "            raise CustomError(\"Division by zero is not allowed.\")\n",
    "        result = a / b\n",
    "        return result\n",
    "    except CustomError as ce:\n",
    "        print(f\"Custom error occurred: {ce}\")\n",
    "    except ZeroDivisionError as ze:\n",
    "        print(f\"Zero division error occurred: {ze}\")\n",
    "    except Exception as e:\n",
    "        print(f\"An unexpected error occurred: {e}\")\n",
    "\n",
    "try:\n",
    "    result = divide(10, 0) \n",
    "except CustomError as ce:\n",
    "    print(f\"Custom error caught in the outer try-except block: {ce}\")\n",
    "finally:\n",
    "    print(\"Program completed.\")\n",
    "    logging.info(\"(changing the question)---------------------------------------------------------------------------------------------------------------------------------------------------------------------\")\n"
   ]
  },
  {
   "cell_type": "code",
   "execution_count": null,
   "metadata": {},
   "outputs": [],
   "source": [
    "logging.shutdown()"
   ]
  }
 ],
 "metadata": {
  "kernelspec": {
   "display_name": "Python 3",
   "language": "python",
   "name": "python3"
  },
  "language_info": {
   "codemirror_mode": {
    "name": "ipython",
    "version": 3
   },
   "file_extension": ".py",
   "mimetype": "text/x-python",
   "name": "python",
   "nbconvert_exporter": "python",
   "pygments_lexer": "ipython3",
   "version": "3.11.5"
  },
  "orig_nbformat": 4
 },
 "nbformat": 4,
 "nbformat_minor": 2
}
