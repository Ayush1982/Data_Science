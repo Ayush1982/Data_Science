{
 "cells": [
  {
   "cell_type": "markdown",
   "metadata": {},
   "source": [
    "Q1. Create one variable containing following type of data:\n",
    "\n",
    "(i)\t    string\n",
    "\n",
    "(ii)\tlist\n",
    "\n",
    "(iii)\tfloat\n",
    "\n",
    "(iv)\ttuple"
   ]
  },
  {
   "cell_type": "code",
   "execution_count": 6,
   "metadata": {},
   "outputs": [
    {
     "data": {
      "text/plain": [
       "list"
      ]
     },
     "execution_count": 6,
     "metadata": {},
     "output_type": "execute_result"
    }
   ],
   "source": [
    "mix_data = [\"Hello, World!\", [1, 2, 3, 4, 5], 3.14, (10, 20, 30, 40, 50)]\n",
    "type(mix_data)"
   ]
  },
  {
   "cell_type": "markdown",
   "metadata": {},
   "source": [
    "Q2. Given are some following variables containing data:\n",
    "\n",
    "(i)\t    var1 = ‘ ‘\n",
    "\n",
    "(ii)\tvar2 = ‘[ DS , ML , Python]’\n",
    "\n",
    "(iii)\tvar3 = [ ‘DS’ , ’ML’ , ‘Python’ ]\n",
    "\n",
    "(iv)\tvar4 = 1.\n",
    "\n",
    "\n",
    "What will be the data type of the above given variable"
   ]
  },
  {
   "cell_type": "markdown",
   "metadata": {},
   "source": [
    "(i)   string\n",
    "(ii)  string\n",
    "(iii) list\n",
    "(iv)  float"
   ]
  },
  {
   "cell_type": "markdown",
   "metadata": {},
   "source": [
    "Q3. Explain the use of the following operators using an example:\n",
    "\n",
    "(i)\t    /    (Division Operator)\n",
    "\n",
    "(ii)\t%    (Modulus Operator)\n",
    "\n",
    "(iii)\t//   (Floor Division Operator)\n",
    "\n",
    "(iv)\t**   (Exponentiation Operator)"
   ]
  },
  {
   "cell_type": "code",
   "execution_count": 10,
   "metadata": {},
   "outputs": [
    {
     "name": "stdout",
     "output_type": "stream",
     "text": [
      "3.3333333333333335\n",
      "1\n",
      "3\n",
      "27\n"
     ]
    }
   ],
   "source": [
    "#(i)\n",
    "Division = 10 / 3\n",
    "print(Division)\n",
    "\n",
    "#(ii)\n",
    "remainder = 10 % 3\n",
    "print(remainder)\n",
    "\n",
    "#(iii)\n",
    "Floor_Division = 10 // 3\n",
    "print(Floor_Division)\n",
    "\n",
    "#(iv)\n",
    "Power = 3 ** 3\n",
    "print(Power)\n"
   ]
  },
  {
   "cell_type": "markdown",
   "metadata": {},
   "source": [
    "Q4. Create a list of length 10 of your choice containing multiple types of data. Using for loop print the element and its data type."
   ]
  },
  {
   "cell_type": "code",
   "execution_count": 14,
   "metadata": {},
   "outputs": [
    {
     "name": "stdout",
     "output_type": "stream",
     "text": [
      "Element: 1 and its Data Type: <class 'int'>\n",
      "Element: Hello and its Data Type: <class 'str'>\n",
      "Element: 3.14 and its Data Type: <class 'float'>\n",
      "Element: True and its Data Type: <class 'bool'>\n",
      "Element: [1, 2, 3] and its Data Type: <class 'list'>\n",
      "Element: {'name': 'John', 'age': 30} and its Data Type: <class 'dict'>\n",
      "Element: (4, 5) and its Data Type: <class 'tuple'>\n",
      "Element: None and its Data Type: <class 'NoneType'>\n",
      "Element: World and its Data Type: <class 'str'>\n",
      "Element: False and its Data Type: <class 'bool'>\n"
     ]
    }
   ],
   "source": [
    "list = [1, \"Hello\", 3.14, True, [1, 2, 3], {'name': 'John', 'age': 30}, (4, 5), None, \"World\", False]\n",
    "\n",
    "for i in list:\n",
    "    print(\"Element: \" + str(i) + \" and its Data Type: \" + str(type(i)))\n"
   ]
  },
  {
   "cell_type": "markdown",
   "metadata": {},
   "source": [
    "Q5. Using a while loop, verify if the number A is purely divisible by number B and if so then how many  times it can be divisible."
   ]
  },
  {
   "cell_type": "code",
   "execution_count": 16,
   "metadata": {},
   "outputs": [
    {
     "name": "stdout",
     "output_type": "stream",
     "text": [
      "30 is divisible by 40 upto 0 times \n",
      "Not purely divisible.\n"
     ]
    }
   ],
   "source": [
    "A = 30\n",
    "B = 40\n",
    "i = 0\n",
    "while (A >= B):\n",
    "    if A % B == 0:\n",
    "        A //= B\n",
    "        i += 1\n",
    "\n",
    "print(f\"{A} is divisible by {B} upto {i} times \")\n",
    "\n",
    "if A == 1:\n",
    "    print(\"purely divisible.\")\n",
    "else:\n",
    "    print(\"Not purely divisible.\")\n"
   ]
  },
  {
   "cell_type": "markdown",
   "metadata": {},
   "source": [
    "Q6. Create a list containing 25 int type data. Using for loop and if-else condition print if the element is divisible by 3 or not."
   ]
  },
  {
   "cell_type": "code",
   "execution_count": 17,
   "metadata": {},
   "outputs": [
    {
     "name": "stdout",
     "output_type": "stream",
     "text": [
      "7 is not divisible by 3\n",
      "12 is divisible by 3\n",
      "6 is divisible by 3\n",
      "18 is divisible by 3\n",
      "25 is not divisible by 3\n",
      "30 is divisible by 3\n",
      "9 is divisible by 3\n",
      "8 is not divisible by 3\n",
      "21 is divisible by 3\n",
      "16 is not divisible by 3\n",
      "5 is not divisible by 3\n",
      "27 is divisible by 3\n",
      "14 is not divisible by 3\n",
      "10 is not divisible by 3\n",
      "3 is divisible by 3\n",
      "36 is divisible by 3\n",
      "22 is not divisible by 3\n",
      "17 is not divisible by 3\n",
      "11 is not divisible by 3\n",
      "20 is not divisible by 3\n",
      "15 is divisible by 3\n",
      "2 is not divisible by 3\n",
      "13 is not divisible by 3\n",
      "4 is not divisible by 3\n",
      "19 is not divisible by 3\n"
     ]
    }
   ],
   "source": [
    "list = [7, 12, 6, 18, 25, 30, 9, 8, 21, 16, 5, 27, 14, 10, 3, 36, 22, 17, 11, 20, 15, 2, 13, 4, 19]\n",
    "\n",
    "for j in list:\n",
    "    if j % 3 == 0:\n",
    "        print(f\"{j} is divisible by 3\")\n",
    "    else:\n",
    "        print(f\"{j} is not divisible by 3\")\n"
   ]
  },
  {
   "cell_type": "markdown",
   "metadata": {},
   "source": [
    "Q7. What do you understand about mutable and immutable data types? Give examples for both showing this property"
   ]
  },
  {
   "cell_type": "markdown",
   "metadata": {},
   "source": [
    "Immutable Data Type: Values of data type, which cannot be changed after they are created are called immutable data types."
   ]
  },
  {
   "cell_type": "markdown",
   "metadata": {},
   "source": [
    "Mutable Data Type: Values of data types, which can be changed after they are created are called mutable data types."
   ]
  },
  {
   "cell_type": "code",
   "execution_count": 22,
   "metadata": {},
   "outputs": [
    {
     "name": "stdout",
     "output_type": "stream",
     "text": [
      "Hello\n",
      "Hello, World!\n",
      "[1, 2, 3, 4]\n"
     ]
    }
   ],
   "source": [
    "# Immutable data type: str (string)\n",
    "str1 = \"Hello\"\n",
    "print (str1)\n",
    "str2 = str1 + \", World!\"  \n",
    "print(str2)\n",
    "\n",
    "# Mutable data type: list\n",
    "list1 = [1, 2, 3]\n",
    "list1.append(4)\n",
    "print(list1)\n"
   ]
  }
 ],
 "metadata": {
  "kernelspec": {
   "display_name": "Python 3",
   "language": "python",
   "name": "python3"
  },
  "language_info": {
   "codemirror_mode": {
    "name": "ipython",
    "version": 3
   },
   "file_extension": ".py",
   "mimetype": "text/x-python",
   "name": "python",
   "nbconvert_exporter": "python",
   "pygments_lexer": "ipython3",
   "version": "3.11.5"
  },
  "orig_nbformat": 4
 },
 "nbformat": 4,
 "nbformat_minor": 2
}
