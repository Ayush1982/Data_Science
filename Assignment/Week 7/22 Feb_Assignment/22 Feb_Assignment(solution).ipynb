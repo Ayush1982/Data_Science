{
 "cells": [
  {
   "cell_type": "code",
   "execution_count": 2,
   "metadata": {},
   "outputs": [],
   "source": [
    "import csv\n",
    "from selenium import webdriver\n",
    "from selenium.webdriver.common.by import By\n",
    "from bs4 import BeautifulSoup\n",
    "from flask import Flask, render_template"
   ]
  },
  {
   "cell_type": "markdown",
   "metadata": {},
   "source": [
    "Go to this given URL and solve the following questions\n",
    "\n",
    "URL: https://www.youtube.com/@PW-Foundation/videos"
   ]
  },
  {
   "cell_type": "markdown",
   "metadata": {},
   "source": [
    "# Q1. Write a python program to extract the video URL of the first five videos."
   ]
  },
  {
   "cell_type": "code",
   "execution_count": 6,
   "metadata": {},
   "outputs": [],
   "source": [
    "open_br = webdriver.Chrome()\n",
    "url = \"https://www.youtube.com/@PW-Foundation/videos\"\n",
    "open_br.get(url)\n",
    "\n",
    "link = open_br.find_elements(By.TAG_NAME,\"a\")\n",
    "box = []\n",
    "for i in link:\n",
    "    url = i.get_attribute(\"href\")\n",
    "    box.append(url)\n"
   ]
  },
  {
   "cell_type": "code",
   "execution_count": 7,
   "metadata": {},
   "outputs": [
    {
     "name": "stdout",
     "output_type": "stream",
     "text": [
      "['https://www.youtube.com/watch?v=6G3ei8g9UEA', 'https://www.youtube.com/watch?v=tgkxaFgXMJ4', 'https://www.youtube.com/watch?v=LedfkTduxoQ', 'https://www.youtube.com/watch?v=LKOc2Mf3070', 'https://www.youtube.com/watch?v=NgqIX2UfU4A']\n"
     ]
    }
   ],
   "source": [
    "video = []\n",
    "for url in box:\n",
    "    if url is not None and (\"/watch?v=\" in url) and (url not in video) and len(video) < 5:\n",
    "        video.append(url)\n",
    "\n",
    "print(video)\n"
   ]
  },
  {
   "cell_type": "markdown",
   "metadata": {},
   "source": [
    "# Q2. Write a python program to extract the URL of the video thumbnails of the first five videos."
   ]
  },
  {
   "cell_type": "code",
   "execution_count": 8,
   "metadata": {},
   "outputs": [
    {
     "name": "stdout",
     "output_type": "stream",
     "text": [
      "['https://i.ytimg.com/vi/6G3ei8g9UEA/hqdefault.jpg?sqp=-oaymwEcCNACELwBSFXyq4qpAw4IARUAAIhCGAFwAcABBg==&rs=AOn4CLAzR-__T5fQO9keffbpVvtBNwyBaQ', 'https://i.ytimg.com/vi/tgkxaFgXMJ4/hqdefault.jpg?sqp=-oaymwEcCNACELwBSFXyq4qpAw4IARUAAIhCGAFwAcABBg==&rs=AOn4CLAcPtjsMa9uM9jqkZvvcfcsuYNNIA', 'https://i.ytimg.com/vi/LedfkTduxoQ/hqdefault.jpg?sqp=-oaymwEcCNACELwBSFXyq4qpAw4IARUAAIhCGAFwAcABBg==&rs=AOn4CLDx-FZZHaWdtOkuzc4jWInGedJKuw', 'no more url', 'no more url']\n"
     ]
    }
   ],
   "source": [
    "thumbnail = open_br.find_elements(By.XPATH,\"//*[@id='thumbnail']/yt-image/img\")\n",
    "list=[]\n",
    "for j in thumbnail:\n",
    "    t=j.get_attribute(\"src\")\n",
    "    if t == None:\n",
    "        continue\n",
    "    list.append(t)\n",
    "\n",
    "while len(list) < 5 :\n",
    "    list.append(\"no more url\")\n",
    "\n",
    "print (list)"
   ]
  },
  {
   "cell_type": "markdown",
   "metadata": {},
   "source": [
    "# Q3. Write a python program to extract the title of the first five videos."
   ]
  },
  {
   "cell_type": "code",
   "execution_count": 15,
   "metadata": {},
   "outputs": [
    {
     "data": {
      "text/plain": [
       "['HOW DO ORGANISMS REPRODUCE? in 60 mins || Class 10th CBSE Boards',\n",
       " 'PRINT CULTURE & THE MODERN WORLD in 45 minutes || Class 10th CBSE Boards',\n",
       " 'TRIANGLES in 50 minutes || Class 10th CBSE Boards',\n",
       " 'OUTCOMES OF DEMOCRACY in 25 minutes || Class 10th CBSE Boards',\n",
       " 'BOARDS से अब डर नहीं लगेगा 🔥 || Ultimate Class - 10th Study Motivation']"
      ]
     },
     "execution_count": 15,
     "metadata": {},
     "output_type": "execute_result"
    }
   ],
   "source": [
    "link2 = open_br.find_elements(By.XPATH, \"//*[@id='video-title']\")\n",
    "title = []\n",
    "\n",
    "for i in link2:\n",
    "    if len(title) < 5:\n",
    "        t = i.text\n",
    "        title.append(t)\n",
    "    else:\n",
    "        break\n",
    "\n",
    "\n",
    "title"
   ]
  },
  {
   "cell_type": "markdown",
   "metadata": {},
   "source": [
    "# Q4. Write a python program to extract the number of views of the first five videos."
   ]
  },
  {
   "cell_type": "code",
   "execution_count": 11,
   "metadata": {},
   "outputs": [
    {
     "data": {
      "text/plain": [
       "['8.7K views', '7.1K views', '6.3K views', '7.3K views', '29K views']"
      ]
     },
     "execution_count": 11,
     "metadata": {},
     "output_type": "execute_result"
    }
   ],
   "source": [
    "temp = open_br.find_elements(By.XPATH,\"//*[@id='metadata-line']/span[1]\")\n",
    "views=[]\n",
    "for i in temp:\n",
    "    t=i.text\n",
    "    if len(views) ==5:\n",
    "        break\n",
    "    views.append(t)\n",
    "\n",
    "print (views)"
   ]
  },
  {
   "cell_type": "markdown",
   "metadata": {},
   "source": [
    "# Q5. Write a python program to extract the time of posting of video for the first five videos."
   ]
  },
  {
   "cell_type": "code",
   "execution_count": 16,
   "metadata": {},
   "outputs": [
    {
     "name": "stdout",
     "output_type": "stream",
     "text": [
      "['20 hours ago', '1 day ago', '2 days ago', '3 days ago', '3 days ago']\n"
     ]
    }
   ],
   "source": [
    "temp3 = open_br.find_elements(By.XPATH,\"//*[@id='metadata-line']/span[2]\")\n",
    "\n",
    "dura = []\n",
    "for i in temp3:\n",
    "    t=i.text\n",
    "    if len(dura) == 5:\n",
    "        break\n",
    "    dura.append(t)\n",
    "\n",
    "print(dura)"
   ]
  },
  {
   "cell_type": "code",
   "execution_count": 25,
   "metadata": {},
   "outputs": [],
   "source": [
    "import csv\n",
    "reviews=[]\n",
    "\n",
    "for i in range (5):\n",
    "    mydict = {\n",
    "        \"VideoLink\": str(video[i]),\n",
    "        \"ThumbnailUrl\": str(list[i]),\n",
    "        \"VideoTitle\": str(title[i]),\n",
    "        \"Views\": str(views[i]),\n",
    "        \"Time of Upload\": str(dura[i])\n",
    "    }\n",
    "    reviews.append(mydict)\n",
    "\n",
    "with open(r\"E:\\DATA SCIENCE\\Assignment\\Week 7\\22 Feb_Assignment\\data_csv\\data.csv\", \"w\", newline='', encoding='utf-8') as w:\n",
    "    headers = [\"VideoLink\",\"ThumbnailUrl\",\"VideoTitle\",\"Views\", \"Time of Upload\"]\n",
    "    writer = csv.DictWriter(w, fieldnames=headers)\n",
    "    writer.writeheader()\n",
    "    writer.writerows(reviews)"
   ]
  },
  {
   "cell_type": "code",
   "execution_count": 26,
   "metadata": {},
   "outputs": [
    {
     "name": "stdout",
     "output_type": "stream",
     "text": [
      "['VideoLink', 'ThumbnailUrl', 'VideoTitle', 'Views', 'Time of Upload']\n",
      "['https://www.youtube.com/watch?v=6G3ei8g9UEA', 'https://i.ytimg.com/vi/6G3ei8g9UEA/hqdefault.jpg?sqp=-oaymwEcCNACELwBSFXyq4qpAw4IARUAAIhCGAFwAcABBg==&rs=AOn4CLAzR-__T5fQO9keffbpVvtBNwyBaQ', 'HOW DO ORGANISMS REPRODUCE? in 60 mins || Class 10th CBSE Boards', '8.7K views', '20 hours ago']\n",
      "['https://www.youtube.com/watch?v=tgkxaFgXMJ4', 'https://i.ytimg.com/vi/tgkxaFgXMJ4/hqdefault.jpg?sqp=-oaymwEcCNACELwBSFXyq4qpAw4IARUAAIhCGAFwAcABBg==&rs=AOn4CLAcPtjsMa9uM9jqkZvvcfcsuYNNIA', 'PRINT CULTURE & THE MODERN WORLD in 45 minutes || Class 10th CBSE Boards', '7.1K views', '1 day ago']\n",
      "['https://www.youtube.com/watch?v=LedfkTduxoQ', 'https://i.ytimg.com/vi/LedfkTduxoQ/hqdefault.jpg?sqp=-oaymwEcCNACELwBSFXyq4qpAw4IARUAAIhCGAFwAcABBg==&rs=AOn4CLDx-FZZHaWdtOkuzc4jWInGedJKuw', 'TRIANGLES in 50 minutes || Class 10th CBSE Boards', '6.3K views', '2 days ago']\n",
      "['https://www.youtube.com/watch?v=LKOc2Mf3070', 'no more url', 'OUTCOMES OF DEMOCRACY in 25 minutes || Class 10th CBSE Boards', '7.3K views', '3 days ago']\n",
      "['https://www.youtube.com/watch?v=NgqIX2UfU4A', 'no more url', 'BOARDS à¤¸à¥‡ à¤…à¤¬ à¤¡à¤° à¤¨à¤¹à¥€à¤‚ à¤²à¤—à¥‡à¤—à¤¾ ðŸ”¥ || Ultimate Class - 10th Study Motivation', '29K views', '3 days ago']\n"
     ]
    }
   ],
   "source": [
    "with open(r\"E:\\DATA SCIENCE\\Assignment\\Week 7\\22 Feb_Assignment\\data_csv\\data.csv\",'r') as f:\n",
    "    read = csv.reader(f)\n",
    "    for i in read:\n",
    "        print(i)"
   ]
  },
  {
   "cell_type": "markdown",
   "metadata": {},
   "source": [
    "# Create a simple UI with all functionalities mentioned above and deploy it in AWS."
   ]
  },
  {
   "cell_type": "markdown",
   "metadata": {},
   "source": [
    "Please refer to the `app.py` file for that"
   ]
  }
 ],
 "metadata": {
  "kernelspec": {
   "display_name": "Python 3",
   "language": "python",
   "name": "python3"
  },
  "language_info": {
   "codemirror_mode": {
    "name": "ipython",
    "version": 3
   },
   "file_extension": ".py",
   "mimetype": "text/x-python",
   "name": "python",
   "nbconvert_exporter": "python",
   "pygments_lexer": "ipython3",
   "version": "3.11.5"
  },
  "orig_nbformat": 4
 },
 "nbformat": 4,
 "nbformat_minor": 2
}
