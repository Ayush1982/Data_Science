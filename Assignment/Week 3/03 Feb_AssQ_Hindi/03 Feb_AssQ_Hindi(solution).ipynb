{
 "cells": [
  {
   "cell_type": "markdown",
   "metadata": {},
   "source": [
    "### Q1. Which keyword is used to create a function? Create a function to return a list of odd numbers in the range of 1 to 25."
   ]
  },
  {
   "cell_type": "markdown",
   "metadata": {},
   "source": [
    "In Python, we use 'def' keyword to create function. "
   ]
  },
  {
   "cell_type": "code",
   "execution_count": 1,
   "metadata": {},
   "outputs": [
    {
     "name": "stdout",
     "output_type": "stream",
     "text": [
      "[1, 3, 5, 7, 9, 11, 13, 15, 17, 19, 21, 23, 25]\n"
     ]
    }
   ],
   "source": [
    "def odd_numbers():\n",
    "    odd = []\n",
    "    for i in range(1, 26):\n",
    "        if i % 2 != 0:\n",
    "            odd.append(i)\n",
    "    return odd\n",
    "\n",
    "result = odd_numbers()\n",
    "print(result)\n"
   ]
  },
  {
   "cell_type": "markdown",
   "metadata": {},
   "source": [
    "### Q2. Why *args and **kwargs is used in some functions? Create a function each for *args and **kwargs to demonstrate their use."
   ]
  },
  {
   "cell_type": "markdown",
   "metadata": {},
   "source": [
    "1.*args (Arbitrary Positional Arguments):\n",
    "    *args allows a function to accept a variable number arguments. This is useful when you don't know how many arguments will be passed to the function, or when you want to write a function that can be used with different numbers of arguments."
   ]
  },
  {
   "cell_type": "code",
   "execution_count": 2,
   "metadata": {},
   "outputs": [
    {
     "name": "stdout",
     "output_type": "stream",
     "text": [
      "6\n",
      "100\n"
     ]
    }
   ],
   "source": [
    "def sum_numbers(*args):\n",
    "    result = 0\n",
    "    for num in args:\n",
    "        result += num\n",
    "    return result\n",
    "\n",
    "print(sum_numbers(1, 2, 3))  \n",
    "print(sum_numbers(10, 20, 30, 40))  \n"
   ]
  },
  {
   "cell_type": "markdown",
   "metadata": {},
   "source": [
    "**kwargs allows a function to accept a variable number of keyword arguments. This is useful when you want to write a function that can be used with different combinations of arguments, or when you want to allow the caller to specify additional arguments that are not required by the function."
   ]
  },
  {
   "cell_type": "code",
   "execution_count": 3,
   "metadata": {},
   "outputs": [
    {
     "name": "stdout",
     "output_type": "stream",
     "text": [
      "name: Alice\n",
      "age: 30\n",
      "city: New York\n"
     ]
    }
   ],
   "source": [
    "def print_info(**kwargs):\n",
    "    for key, value in kwargs.items():\n",
    "        print(f\"{key}: {value}\")\n",
    "\n",
    "print_info(name=\"Alice\", age=30, city=\"New York\")"
   ]
  },
  {
   "cell_type": "markdown",
   "metadata": {},
   "source": [
    "### Q3.  What is an iterator in python? Name the method used to initialise the iterator object and the method used for iteration. Use these methods to print the first five elements of the given list [2, 4, 6, 8, 10, 12, 14, 16, 18, 20]."
   ]
  },
  {
   "cell_type": "markdown",
   "metadata": {},
   "source": [
    "An iterator in Python is an object that allows you to iterate over a sequence of elements, such as a list, tuple, or string. Iterators are implemented using two special methods in Python:\n",
    "\n",
    "    a.iter(): This method is used to initialize the iterator object.\n",
    "    b.next(): This method is used to iterate over the elements of the sequence.\n"
   ]
  },
  {
   "cell_type": "code",
   "execution_count": 4,
   "metadata": {},
   "outputs": [
    {
     "name": "stdout",
     "output_type": "stream",
     "text": [
      "2\n",
      "4\n",
      "6\n",
      "8\n",
      "10\n"
     ]
    }
   ],
   "source": [
    "list = [2, 4, 6, 8, 10, 12, 14, 16, 18, 20]\n",
    "a = 5\n",
    "iterator = iter(list)\n",
    "\n",
    "for i in range (a) :\n",
    "        element = next(iterator)\n",
    "        print(element)\n",
    "\n"
   ]
  },
  {
   "cell_type": "markdown",
   "metadata": {},
   "source": [
    "### Q4.  What is a generator function in python? Why yield keyword is used? Give an example of a generator function"
   ]
  },
  {
   "cell_type": "markdown",
   "metadata": {},
   "source": [
    "A generator function in Python is a function that returns an iterator object instead of a single value. \n",
    "\n",
    "The yield keyword is used to pause the execution of the generator function and return a value to the caller. When the caller calls the next() method on the iterator object, the generator function resumes execution and returns the next value."
   ]
  },
  {
   "cell_type": "code",
   "execution_count": 5,
   "metadata": {},
   "outputs": [
    {
     "name": "stdout",
     "output_type": "stream",
     "text": [
      "0\n",
      "1\n",
      "1\n",
      "2\n",
      "3\n"
     ]
    }
   ],
   "source": [
    "def fibonacci(n):\n",
    "    a, b = 0, 1\n",
    "    count = 0\n",
    "    while count < n:\n",
    "        yield a\n",
    "        a, b = b, a + b\n",
    "        count += 1\n",
    "\n",
    "fib = fibonacci(int(input(\"enter upto how many numbers you need\")))\n",
    "\n",
    "for i in fib:\n",
    "    print(i)\n"
   ]
  },
  {
   "cell_type": "markdown",
   "metadata": {},
   "source": [
    "### Q5. Create a generator function for prime numbers less than 1000. Use the next() method to print the first 20 prime numbers."
   ]
  },
  {
   "cell_type": "code",
   "execution_count": 6,
   "metadata": {},
   "outputs": [
    {
     "name": "stdout",
     "output_type": "stream",
     "text": [
      "this is 1 prime number 2\n",
      "this is 2 prime number 3\n",
      "this is 3 prime number 5\n",
      "this is 4 prime number 7\n",
      "this is 5 prime number 11\n",
      "this is 6 prime number 13\n",
      "this is 7 prime number 17\n",
      "this is 8 prime number 19\n",
      "this is 9 prime number 23\n",
      "this is 10 prime number 29\n",
      "this is 11 prime number 31\n",
      "this is 12 prime number 37\n",
      "this is 13 prime number 41\n",
      "this is 14 prime number 43\n",
      "this is 15 prime number 47\n",
      "this is 16 prime number 53\n",
      "this is 17 prime number 59\n",
      "this is 18 prime number 61\n",
      "this is 19 prime number 67\n",
      "this is 20 prime number 71\n"
     ]
    }
   ],
   "source": [
    "import math\n",
    "\n",
    "def prime(n):\n",
    "    for i in range(2, n):\n",
    "        is_prime = True\n",
    "        for j in range(2, math.isqrt(i)+ 1):\n",
    "            if i % j == 0:\n",
    "                is_prime = False\n",
    "                break\n",
    "        if is_prime:\n",
    "            yield i\n",
    "\n",
    "prime_gen = prime(1000)\n",
    "\n",
    "for i in range(1,21):\n",
    "    pri = next(prime_gen)\n",
    "    print(f\"this is {i} prime number {pri}\")\n"
   ]
  },
  {
   "cell_type": "markdown",
   "metadata": {},
   "source": [
    "### Q6. Write a python program to print the first 10 Fibonacci numbers using a while loop."
   ]
  },
  {
   "cell_type": "code",
   "execution_count": 7,
   "metadata": {},
   "outputs": [
    {
     "name": "stdout",
     "output_type": "stream",
     "text": [
      "0\n",
      "1\n",
      "1\n",
      "2\n",
      "3\n",
      "5\n",
      "8\n",
      "13\n",
      "21\n",
      "34\n"
     ]
    }
   ],
   "source": [
    "a, b = 0, 1\n",
    "count = 0\n",
    "n = int(input(\"enter how numbers you want\")) # 10 according the question\n",
    "\n",
    "while count < n:\n",
    "    print(a) \n",
    "    a, b = b, a + b\n",
    "    count += 1       \n"
   ]
  },
  {
   "cell_type": "markdown",
   "metadata": {},
   "source": [
    "### Q7. Write a List Comprehension to iterate through the given string: ‘pwskills’.Expected output: ['p', 'w', 's', 'k', 'i', 'l', 'l', 's']"
   ]
  },
  {
   "cell_type": "code",
   "execution_count": null,
   "metadata": {},
   "outputs": [],
   "source": [
    "st1 = 'pwskills'\n",
    "\n",
    "res2 = list(st1)\n",
    "print(res2)"
   ]
  },
  {
   "cell_type": "markdown",
   "metadata": {},
   "source": [
    "### Q8. Write a python program to check whether a given number is Palindrome or not using a while loop."
   ]
  },
  {
   "cell_type": "code",
   "execution_count": 2,
   "metadata": {},
   "outputs": [
    {
     "name": "stdout",
     "output_type": "stream",
     "text": [
      "23432 is a palindrome.\n"
     ]
    }
   ],
   "source": [
    "def is_palindrome(num):\n",
    "    original = num\n",
    "    reversed = 0\n",
    "    while num > 0:\n",
    "        digit = num % 10\n",
    "        reversed = reversed * 10 + digit\n",
    "        num = num // 10\n",
    "\n",
    "    return original == reversed\n",
    "\n",
    "pal = int(input(\"Enter a number: \"))\n",
    "\n",
    "if is_palindrome(pal):\n",
    "    print(f\"{pal} is a palindrome.\")\n",
    "else:\n",
    "    print(f\"{pal} is not a palindrome.\")\n"
   ]
  },
  {
   "cell_type": "markdown",
   "metadata": {},
   "source": [
    "### Q9. Write a code to print odd numbers from 1 to 100 using list comprehension.\n",
    "\n",
    "Note: Use a list comprehension to create a list from 1 to 100 and use another List comprehension to filter \n",
    "out odd numbers."
   ]
  },
  {
   "cell_type": "code",
   "execution_count": 9,
   "metadata": {},
   "outputs": [
    {
     "name": "stdout",
     "output_type": "stream",
     "text": [
      "[1, 3, 5, 7, 9, 11, 13, 15, 17, 19, 21, 23, 25, 27, 29, 31, 33, 35, 37, 39, 41, 43, 45, 47, 49, 51, 53, 55, 57, 59, 61, 63, 65, 67, 69, 71, 73, 75, 77, 79, 81, 83, 85, 87, 89, 91, 93, 95, 97, 99]\n"
     ]
    }
   ],
   "source": [
    "numbers = [num for num in range(1, 101)]\n",
    "\n",
    "odd_numbers = [num for num in numbers if num % 2 != 0]\n",
    "\n",
    "print(odd_numbers)"
   ]
  }
 ],
 "metadata": {
  "kernelspec": {
   "display_name": "Python 3",
   "language": "python",
   "name": "python3"
  },
  "language_info": {
   "codemirror_mode": {
    "name": "ipython",
    "version": 3
   },
   "file_extension": ".py",
   "mimetype": "text/x-python",
   "name": "python",
   "nbconvert_exporter": "python",
   "pygments_lexer": "ipython3",
   "version": "3.11.5"
  },
  "orig_nbformat": 4
 },
 "nbformat": 4,
 "nbformat_minor": 2
}
