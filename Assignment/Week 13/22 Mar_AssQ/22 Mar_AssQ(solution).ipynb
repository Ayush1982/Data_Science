{
 "cells": [
  {
   "cell_type": "markdown",
   "metadata": {},
   "source": [
    "# Q1. Pearson correlation coefficient is a measure of the linear relationship between two variables. Suppose you have collected data on the amount of time students spend studying for an exam and their final exam scores. Calculate the Pearson correlation coefficient between these two variables and interpret the result."
   ]
  },
  {
   "cell_type": "code",
   "execution_count": 1,
   "metadata": {},
   "outputs": [
    {
     "name": "stdout",
     "output_type": "stream",
     "text": [
      "Pearson Correlation Coefficient: 0.9898129771475668\n",
      "p-value: 0.0012323669409749808\n"
     ]
    }
   ],
   "source": [
    "import numpy as np\n",
    "from scipy.stats import pearsonr\n",
    "\n",
    "time_spent_studying = [10, 8, 12, 15, 5]\n",
    "exam_scores = [85, 80, 90, 95, 70]\n",
    "\n",
    "\n",
    "correlation_coefficient, p_value = pearsonr(time_spent_studying, exam_scores)\n",
    "print(\"Pearson Correlation Coefficient:\", correlation_coefficient)\n",
    "print(\"p-value:\", p_value)\n"
   ]
  },
  {
   "cell_type": "markdown",
   "metadata": {},
   "source": [
    "Interpretation:\n",
    "\n",
    "    1. If the calculated Pearson correlation coefficient rr is close to 1, it suggests a strong positive linear relationship between the amount of time spent studying and the final exam scores. This means that students who spend more time studying tend to achieve higher exam scores.\n",
    "    \n",
    "    2. If rr is close to -1, it suggests a strong negative linear relationship, implying that students who spend more time studying tend to achieve lower exam scores.\n",
    "\n",
    "    3. If rr is close to 0, it suggests little to no linear relationship between the two variables, indicating that the amount of time spent studying does not significantly predict final exam scores."
   ]
  },
  {
   "cell_type": "markdown",
   "metadata": {},
   "source": [
    "#  Q2. Spearman's rank correlation is a measure of the monotonic relationship between two variables.Suppose you have collected data on the amount of sleep individuals get each night and their overall job satisfaction level on a scale of 1 to 10. Calculate the Spearman's rank correlation between these two variables and interpret the result."
   ]
  },
  {
   "cell_type": "code",
   "execution_count": 2,
   "metadata": {},
   "outputs": [
    {
     "name": "stdout",
     "output_type": "stream",
     "text": [
      "Spearman's Rank Correlation Coefficient: 1.0\n",
      "p-value: 0.0\n"
     ]
    }
   ],
   "source": [
    "from scipy.stats import spearmanr\n",
    "\n",
    "amount_of_sleep = [7, 6, 8, 5, 7]\n",
    "job_satisfaction = [8, 7, 9, 6, 8]\n",
    "\n",
    "correlation_coefficient, p_value = spearmanr(amount_of_sleep, job_satisfaction)\n",
    "\n",
    "print(\"Spearman's Rank Correlation Coefficient:\", correlation_coefficient)\n",
    "print(\"p-value:\", p_value)\n"
   ]
  },
  {
   "cell_type": "markdown",
   "metadata": {},
   "source": [
    "# Q3. Suppose you are conducting a study to examine the relationship between the number of hours of exercise per week and body mass index (BMI) in a sample of adults. You collected data on both variables for 50 participants. Calculate the Pearson correlation coefficient and the Spearman's rank correlation between these two variables and compare the results."
   ]
  },
  {
   "cell_type": "code",
   "execution_count": 3,
   "metadata": {},
   "outputs": [
    {
     "name": "stdout",
     "output_type": "stream",
     "text": [
      "Pearson Correlation Coefficient: -0.3037286504395825\n",
      "Spearman's Rank Correlation Coefficient: -0.28403249057106394\n"
     ]
    }
   ],
   "source": [
    "import numpy as np\n",
    "from scipy.stats import pearsonr, spearmanr\n",
    "\n",
    "hours_of_exercise = [3, 5, 2, 4, 6, 1, 3, 2, 5, 4, \n",
    "                     2, 1, 3, 4, 6, 5, 2, 3, 4, 1, \n",
    "                     5, 6, 3, 2, 4, 1, 5, 2, 3, 6, \n",
    "                     4, 1, 2, 3, 4, 5, 6, 2, 1, 3, \n",
    "                     5, 4, 6, 3, 2, 4, 1, 5, 6, 3]\n",
    "BMI = [24.3, 26.5, 28.1, 23.7, 29.8, 31.2, 27.5, 25.9, 30.4, 28.7,\n",
    "       25.5, 32.1, 29.3, 27.8, 26.4, 30.9, 24.6, 27.2, 28.9, 31.5,\n",
    "       26.1, 23.9, 29.7, 32.3, 27.1, 33.0, 26.8, 30.2, 28.5, 25.3,\n",
    "       29.0, 31.8, 25.1, 28.6, 26.7, 24.9, 27.4, 23.5, 25.7, 30.8,\n",
    "       26.2, 31.0, 29.1, 30.6, 27.0, 32.7, 28.3, 24.8, 25.4, 31.4]\n",
    "\n",
    "pearson_corr, _ = pearsonr(hours_of_exercise, BMI)\n",
    "spearman_corr, _ = spearmanr(hours_of_exercise, BMI)\n",
    "\n",
    "print(\"Pearson Correlation Coefficient:\", pearson_corr)\n",
    "print(\"Spearman's Rank Correlation Coefficient:\", spearman_corr)\n"
   ]
  },
  {
   "cell_type": "markdown",
   "metadata": {},
   "source": [
    "# Q4. A researcher is interested in examining the relationship between the number of hours individuals spend watching television per day and their level of physical activity. The researcher collected data on both variables from a sample of 50 participants. Calculate the Pearson correlation coefficient between these two variables."
   ]
  },
  {
   "cell_type": "code",
   "execution_count": 4,
   "metadata": {},
   "outputs": [
    {
     "name": "stdout",
     "output_type": "stream",
     "text": [
      "Pearson Correlation Coefficient: -0.9999999999999999\n"
     ]
    }
   ],
   "source": [
    "from scipy.stats import pearsonr\n",
    "\n",
    "hours_watching_tv = [2, 1, 3, 4, 2, 3, 1, 2, 3, 2,\n",
    "                     1, 4, 3, 2, 1, 2, 3, 2, 1, 3,\n",
    "                     2, 4, 1, 3, 2, 1, 3, 2, 4, 2,\n",
    "                     1, 3, 2, 1, 4, 2, 3, 1, 2, 3,\n",
    "                     4, 2, 1, 3, 2, 1, 4, 2, 3, 2]\n",
    "level_of_physical_activity = [3, 4, 2, 1, 3, 2, 4, 3, 2, 3,\n",
    "                              4, 1, 2, 3, 4, 3, 2, 3, 4, 2,\n",
    "                              3, 1, 4, 2, 3, 4, 2, 3, 1, 3,\n",
    "                              4, 2, 3, 4, 1, 3, 2, 4, 3, 2,\n",
    "                              1, 3, 4, 2, 3, 4, 1, 3, 2, 3]\n",
    "\n",
    "correlation_coefficient, _ = pearsonr(hours_watching_tv, level_of_physical_activity)\n",
    "print(\"Pearson Correlation Coefficient:\", correlation_coefficient)\n"
   ]
  },
  {
   "cell_type": "markdown",
   "metadata": {},
   "source": [
    "# Q5. A survey was conducted to examine the relationship between age and preference for a particular brand of soft drink. "
   ]
  },
  {
   "cell_type": "markdown",
   "metadata": {},
   "source": [
    "To examine the relationship between age and preference for a particular brand of soft drink based on the survey results provided, we can use a frequency table to summarize the data.\n",
    "\n",
    "survey results:\n",
    "\n",
    "Based on this data, we can observe the following:\n",
    "\n",
    "- Among the respondents, there are individuals aged 25, 19, and 28 who prefer Coke.\n",
    "- There are individuals aged 42 and 31 who prefer Pepsi.\n",
    "- There is one individual aged 37 who prefers Mountain Dew."
   ]
  },
  {
   "cell_type": "markdown",
   "metadata": {},
   "source": [
    "# Q6. A company is interested in examining the relationship between the number of sales calls made per day and the number of sales made per week. The company collected data on both variables from a sample of 30 sales representatives. Calculate the Pearson correlation coefficient between these two variables."
   ]
  },
  {
   "cell_type": "code",
   "execution_count": 5,
   "metadata": {},
   "outputs": [
    {
     "name": "stdout",
     "output_type": "stream",
     "text": [
      "Pearson Correlation Coefficient: 0.9683439501025299\n"
     ]
    }
   ],
   "source": [
    "from scipy.stats import pearsonr\n",
    "\n",
    "sales_calls_per_day = [30, 25, 35, 20, 40, 28, 32, 22, 37, 18,\n",
    "                       29, 33, 26, 38, 21, 34, 27, 31, 23, 36,\n",
    "                       24, 39, 19, 41, 30, 25, 35, 20, 40, 28]\n",
    "sales_made_per_week = [5, 4, 6, 3, 7, 5, 6, 4, 7, 3,\n",
    "                       5, 6, 4, 7, 3, 6, 4, 5, 3, 7,\n",
    "                       4, 6, 3, 7, 5, 4, 6, 3, 7, 5]\n",
    "\n",
    "correlation_coefficient, _ = pearsonr(sales_calls_per_day, sales_made_per_week)\n",
    "\n",
    "print(\"Pearson Correlation Coefficient:\", correlation_coefficient)\n"
   ]
  }
 ],
 "metadata": {
  "kernelspec": {
   "display_name": "Python 3",
   "language": "python",
   "name": "python3"
  },
  "language_info": {
   "codemirror_mode": {
    "name": "ipython",
    "version": 3
   },
   "file_extension": ".py",
   "mimetype": "text/x-python",
   "name": "python",
   "nbconvert_exporter": "python",
   "pygments_lexer": "ipython3",
   "version": "3.11.5"
  },
  "orig_nbformat": 4
 },
 "nbformat": 4,
 "nbformat_minor": 2
}
