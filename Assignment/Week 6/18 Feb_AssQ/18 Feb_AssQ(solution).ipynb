{
 "cells": [
  {
   "cell_type": "markdown",
   "metadata": {},
   "source": [
    "# Q1. What is an API? Give an example, where an API is used in real life."
   ]
  },
  {
   "cell_type": "markdown",
   "metadata": {},
   "source": [
    "An API a.k.a Application Programming Interface, is a set of rules and protocols that allow different software systems to communicate and interact with each other. In real life, an example of an API is when a mobile weather app uses an API to fetch and display current weather data from a remote weather service's database, enabling users to access up-to-date weather information without hosting the data locally."
   ]
  },
  {
   "cell_type": "markdown",
   "metadata": {},
   "source": [
    "# Q2. Give advantages and disadvantages of using API"
   ]
  },
  {
   "cell_type": "markdown",
   "metadata": {},
   "source": [
    ">> Advantages of Using APIs:\n",
    "\n",
    "    1) APIs facilitate seamless integration between different software systems, allowing developers to leverage existing functionality and services, saving time and effort in building new features.\n",
    "\n",
    "    2) APIs promote modular software development by breaking down complex systems into smaller, reusable components, making it easier to maintain and update applications.\n",
    "\n",
    ">> Disadvantages of Using APIs:\n",
    "\n",
    "    1) When relying on third-party APIs, your application's functionality may be affected if the external service experiences downtime or changes its API, leading to potential disruptions.\n",
    "\n",
    "    2)  APIs can introduce security vulnerabilities if not properly secured. Exposing APIs without appropriate authentication and authorization mechanisms can lead to data breaches and unauthorized access."
   ]
  },
  {
   "cell_type": "markdown",
   "metadata": {},
   "source": [
    "# Q3. What is a Web API? Differentiate between API and Web API."
   ]
  },
  {
   "cell_type": "markdown",
   "metadata": {},
   "source": [
    "A Web API is called Web Application Programming Interface, is a specific type of API that is accessible over the internet using standard web protocols such as HTTP. It allows different software systems to interact with each other and exchange data over the web. Web APIs are commonly used for building web services, enabling communication between clients and servers via the internet.\n",
    "\n",
    "   1) Scope:\n",
    "        API : API is a general term that encompasses various types of interfaces and protocols used for communication between software components. APIs can be used for local, internal communication within a software application or for communication between different applications running on the same system.\n",
    "\n",
    "        Web API : Web API specifically refers to APIs that are exposed over the internet and follow web standards. They are designed for remote communication between clients and servers, often using HTTP or HTTPS, and are accessible over the web.\n",
    "\n",
    "   2) Accessibility:\n",
    "        API: APIs can be both local and remote. They may not necessarily be accessible over the web and can involve communication within a single application or between applications on a local network.\n",
    "        \n",
    "        Web API: Web APIs are always accessible over the internet, allowing external clients to make HTTP requests to access resources or services hosted on a remote server. They are designed for broader accessibility and use across different platforms and locations."
   ]
  },
  {
   "cell_type": "markdown",
   "metadata": {},
   "source": [
    "# Q4. Explain REST and SOAP Architecture. Mention shortcomings of SOAP."
   ]
  },
  {
   "cell_type": "markdown",
   "metadata": {},
   "source": [
    "1) REST (Representational State Transfer):\n",
    "REST is an architectural style for designing networked applications. It uses standard HTTP methods (GET, POST, PUT, DELETE) for data manipulation and is based on the principles of statelessness and resource-based communication. RESTful services are lightweight, scalable, and widely adopted in modern web development.\n",
    "\n",
    "2) SOAP (Simple Object Access Protocol) Architecture:\n",
    "SOAP is a protocol-based architectural style used for exchanging structured information in the implementation of web services. It relies on XML for message format and typically uses HTTP, SMTP, or other transport protocols. SOAP offers a standardized way for applications to communicate and invoke methods remotely.\n",
    "\n",
    ">> Shortcomings of SOAP:\n",
    "\n",
    "    Complexity: SOAP messages are often larger and more complex than RESTful messages due to XML formatting, making them less efficient for data transfer.\n",
    "\n",
    "    Overhead: SOAP requires additional processing and parsing, leading to higher overhead compared to REST, which uses simple data formats like JSON.\n",
    "\n",
    "    Limited Language Support: SOAP has limited language support compared to REST, which can be easily consumed by a wide range of programming languages and platforms.\n",
    "\n",
    "    Strict Standards: SOAP has strict standards and a complex specification, making it less flexible for lightweight and agile development compared to REST, which is more flexible and adaptable to changing requirements."
   ]
  },
  {
   "cell_type": "markdown",
   "metadata": {},
   "source": [
    "# Q5. Differentiate between REST and SOAP"
   ]
  },
  {
   "cell_type": "markdown",
   "metadata": {},
   "source": [
    "1) Protocol vs. Architectural Style:\n",
    "\n",
    "    SOAP: SOAP is a protocol, which means it defines a set of rules and standards for structuring messages and performing remote procedure calls over a network.\n",
    "    \n",
    "    REST: REST is an architectural style, not a protocol. It provides a set of guidelines and constraints for designing networked applications, using HTTP methods for communication.\n",
    "\n",
    "2) Message Format:\n",
    "\n",
    "    SOAP: SOAP messages are typically XML-based and can be quite complex due to the rigid XML schema. They include a standardized envelope with headers and a body for data.\n",
    "    \n",
    "    REST: REST messages use simpler data formats like JSON or XML, but the choice of format is flexible and depends on the application. REST messages are often more lightweight and easier to parse.\n",
    "\n",
    "3) Communication Protocol:\n",
    "\n",
    "    SOAP: SOAP can use various transport protocols, including HTTP, SMTP, and more. However, it is often associated with HTTP or SMTP for web services.\n",
    "    \n",
    "    REST: REST primarily uses HTTP as the communication protocol. It leverages HTTP methods (GET, POST, PUT, DELETE) to perform actions on resources, making it a natural fit for web-based applications."
   ]
  }
 ],
 "metadata": {
  "kernelspec": {
   "display_name": "Python 3",
   "language": "python",
   "name": "python3"
  },
  "language_info": {
   "codemirror_mode": {
    "name": "ipython",
    "version": 3
   },
   "file_extension": ".py",
   "mimetype": "text/x-python",
   "name": "python",
   "nbconvert_exporter": "python",
   "pygments_lexer": "ipython3",
   "version": "3.11.5"
  },
  "orig_nbformat": 4
 },
 "nbformat": 4,
 "nbformat_minor": 2
}
