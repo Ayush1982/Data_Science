{
 "cells": [
  {
   "cell_type": "markdown",
   "metadata": {},
   "source": [
    "# Q1. Explain GET and POST methods."
   ]
  },
  {
   "cell_type": "markdown",
   "metadata": {},
   "source": [
    "GET and POST are two of the HTTP methods used for communication between a client and a web server. \n",
    "\n",
    "1) GET Method:\n",
    "\n",
    "    GET is used to request data from a specified resource on the server. It is primarily used for retrieval or fetching information, such as web pages, images, or data stored on the server.\n",
    "\n",
    "    Data is sent in the URL as query parameters. The data is visible in the URL, making it suitable for transferring small amounts of non-sensitive data.\n",
    "\n",
    "    GET requests are often cached by browsers and intermediaries, making them faster for subsequent requests with the same URL.\n",
    "\n",
    "\n",
    "2) POST Method:\n",
    "\n",
    "    POST is used to submit data to be processed to a specified resource on the server. It is primarily used for sending data that will be stored or modified on the server, such as form submissions, file uploads, or creating new records.\n",
    "\n",
    "    Data is sent in the request body rather than in the URL. This allows for larger amounts of data and more secure transmission, suitable for sensitive information.\n",
    "\n",
    "    POST requests are typically not cached, as they are expected to have side effects on the server or data."
   ]
  },
  {
   "cell_type": "markdown",
   "metadata": {},
   "source": [
    "# Q2. Why is request used in Flask?"
   ]
  },
  {
   "cell_type": "markdown",
   "metadata": {},
   "source": [
    "the request object is used to access and interact with incoming HTTP requests made by clients. It provides a way to extract information from these requests, including data submitted by the client, the HTTP method used, request headers, query parameters, and more. The request object is a part of Flask's request handling system and is essential for building dynamic and interactive web applications. Here are some common reasons why the request object is used in Flask:"
   ]
  },
  {
   "cell_type": "markdown",
   "metadata": {},
   "source": [
    "# Q3. Why is redirect() used in Flask?"
   ]
  },
  {
   "cell_type": "markdown",
   "metadata": {},
   "source": [
    "the redirect() function is used to perform a server-side HTTP redirection to a different URL. It allows you to send a response to the client that instructs the client's browser to navigate to a new URL. The primary reasons for using the redirect() function in Flask are as follows:\n",
    "\n",
    "1) Changing URLs: You can use redirect() to change the URL displayed in the user's browser. This is useful when you want to direct users from one route to another, for example, after they have successfully completed a form submission or logged in.\n",
    "\n",
    "2) Navigation Flow: It helps in defining the flow of your web application. After performing certain actions or when certain conditions are met, you can use redirect() to guide users to specific pages or routes.\n",
    "\n",
    "3) Route Centralization: In larger Flask applications with multiple routes, you can centralize common redirection logic in one place using redirect(), making the codebase more maintainable."
   ]
  },
  {
   "cell_type": "code",
   "execution_count": null,
   "metadata": {},
   "outputs": [],
   "source": [
    "from flask import Flask, redirect, url_for\n",
    "\n",
    "app = Flask(__name__)\n",
    "\n",
    "@app.route('/')\n",
    "def home():\n",
    "    return 'Welcome to the Home Page'\n",
    "\n",
    "@app.route('/about')\n",
    "def about():\n",
    "    return 'This is the About Page'\n",
    "\n",
    "@app.route('/redirect_home')\n",
    "def redirect_home():\n",
    "    # Redirect to the 'home' route\n",
    "    return redirect(url_for('home'))\n",
    "\n",
    "if __name__ == '__main__':\n",
    "    app.run()\n"
   ]
  },
  {
   "cell_type": "markdown",
   "metadata": {},
   "source": [
    "# Q4. What are templates in Flask? Why is the render_template() function used?\n"
   ]
  },
  {
   "cell_type": "markdown",
   "metadata": {},
   "source": [
    "templates are used for generating dynamic HTML content that is sent as a response to clients. Templates allow you to separate the presentation from the logic in your web application. This separation of concerns makes your code more organized, maintainable, and scalable. Templates typically contain placeholders for dynamic data that are filled in when the template is rendered"
   ]
  },
  {
   "cell_type": "markdown",
   "metadata": {},
   "source": [
    "the render_template() function in Flask is used to render these templates and generate HTML responses dynamically. It takes the name of a template file as an argument and can also accept variables to pass data to the template for rendering."
   ]
  },
  {
   "cell_type": "markdown",
   "metadata": {},
   "source": [
    "# Q5. Create a simple API. Use Postman to test it. Attach the screenshot of the output in the Jupyter Notebook"
   ]
  },
  {
   "cell_type": "code",
   "execution_count": 1,
   "metadata": {},
   "outputs": [
    {
     "name": "stdout",
     "output_type": "stream",
     "text": [
      " * Serving Flask app '__main__'\n",
      " * Debug mode: off\n"
     ]
    },
    {
     "name": "stderr",
     "output_type": "stream",
     "text": [
      "WARNING: This is a development server. Do not use it in a production deployment. Use a production WSGI server instead.\n",
      " * Running on http://127.0.0.1:5000\n",
      "Press CTRL+C to quit\n",
      "127.0.0.1 - - [08/Oct/2023 23:52:52] \"GET /api/test HTTP/1.1\" 200 -\n"
     ]
    }
   ],
   "source": [
    "from flask import Flask, jsonify\n",
    "\n",
    "app = Flask(__name__)\n",
    "\n",
    "@app.route('/api/test', methods=['GET'])\n",
    "def hello_api():\n",
    "    data = {'message': 'Hello'}\n",
    "    return jsonify(data)\n",
    "\n",
    "if __name__ == '__main__':\n",
    "    app.run()\n"
   ]
  },
  {
   "cell_type": "markdown",
   "metadata": {},
   "source": [
    "![Screenshot](output/question_05.png)"
   ]
  }
 ],
 "metadata": {
  "kernelspec": {
   "display_name": "Python 3",
   "language": "python",
   "name": "python3"
  },
  "language_info": {
   "codemirror_mode": {
    "name": "ipython",
    "version": 3
   },
   "file_extension": ".py",
   "mimetype": "text/x-python",
   "name": "python",
   "nbconvert_exporter": "python",
   "pygments_lexer": "ipython3",
   "version": "3.11.5"
  },
  "orig_nbformat": 4
 },
 "nbformat": 4,
 "nbformat_minor": 2
}
