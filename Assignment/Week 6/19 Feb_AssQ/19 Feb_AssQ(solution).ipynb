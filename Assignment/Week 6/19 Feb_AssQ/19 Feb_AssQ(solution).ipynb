{
 "cells": [
  {
   "cell_type": "code",
   "execution_count": null,
   "metadata": {},
   "outputs": [],
   "source": [
    "import logging\n",
    "import json\n",
    "logging.basicConfig(filename= r\"\" , level = logging.DEBUG , format = '%(asctime)s %(name)s %(levelname)s  %(message)s')\n",
    "\n",
    "def access(data):\n",
    "    with open(r\"\" , \"a\" ) as f:\n",
    "        json.dump(data , f)\n",
    "        f.write(\"\\n\")\n",
    "        f.write(\"-------------------------------------------\")\n",
    "        f.write(\"\\n\")\n"
   ]
  },
  {
   "cell_type": "code",
   "execution_count": null,
   "metadata": {},
   "outputs": [],
   "source": [
    "from flask import Flask,request ,jsonify\n",
    "\n",
    "app = Flask(__name__)\n",
    "\n",
    "@app.route(\"/\")\n",
    "def hello():\n",
    "    data = request.args.get('x')\n",
    "    return \"this is input {}\".format(data)\n",
    "\n",
    "@app.route(\"/test\")\n",
    "def hello1():\n",
    "    a = 8+2\n",
    "    b = 10\n",
    "    return \"hello test {}\" .format(b)\n",
    "\n",
    "@app.route('/postman_data')\n",
    "def math_ops1():\n",
    "    if(request.method == 'GET'):\n",
    "        ops = request.json['operation']\n",
    "        num1 = int(request.json['num1'])\n",
    "        num2 = int(request.json['num2'])\n",
    "        print(\"hello\")\n",
    "        if ops == 'add':\n",
    "            r = num1+num2\n",
    "            result = \"The sum of \" + str(num1) + ' and ' + str(num2) + \" is \" + str(r)\n",
    "        if ops == 'subtract':\n",
    "            r = num1-num2\n",
    "            result = \"The subtract of \" + str(num1) + 'and ' + str(num2) + \"is \" + str(r)\n",
    "        if ops == 'multiply':\n",
    "            r = num1*num2\n",
    "            result = \"The multiply of \" + str(num1) + 'and ' + str(num2) + \"is \" + str(r)\n",
    "        if ops == 'divide':\n",
    "            r = num1/num2\n",
    "            result = \"The divide of \" + str(num1) + 'and ' + str(num2) + \"is \" + str(r)\n",
    "            \n",
    "        return jsonify(result)\n",
    "\n",
    "if __name__==\"__main__\":\n",
    "    app.run(host=\"0.0.0.0\")\n"
   ]
  },
  {
   "cell_type": "code",
   "execution_count": null,
   "metadata": {},
   "outputs": [],
   "source": [
    "logging.shutdown()"
   ]
  },
  {
   "cell_type": "markdown",
   "metadata": {},
   "source": [
    "# Q1. What is Flask Framework? What are the advantages of Flask Framework?"
   ]
  },
  {
   "cell_type": "markdown",
   "metadata": {},
   "source": [
    "Flask is a micro web framework for Python that is designed to be lightweight, flexible, and easy to use. It is known for its simplicity and minimalistic approach to web development, making it a popular choice for building web applications and APIs. Flask provides the essential tools and libraries needed for web development without imposing strict patterns or dependencies, allowing developers to choose their preferred technologies for various components.\n",
    "\n",
    "Advantages of Flask Framework:\n",
    "\n",
    "    1) Lightweight and Minimalistic: Flask is intentionally minimalistic, providing only the essentials for web development. This simplicity makes it easy to learn and use, especially for beginners.\n",
    "\n",
    "    2) Flexibility: Flask gives developers the freedom to choose the components and libraries they want to use, making it highly customizable. This flexibility allows for a wide range of application architectures and extensions.\n",
    "\n",
    "    3) Extensible: Flask can be easily extended with various extensions and plugins available in the Flask ecosystem. These extensions cover a wide range of functionalities, including authentication, database integration, and more.\n",
    "\n",
    "    4) Jinja2 Templating: Flask integrates with the Jinja2 templating engine, allowing developers to create dynamic and data-driven web pages easily. Jinja2 provides powerful template rendering capabilities."
   ]
  },
  {
   "cell_type": "markdown",
   "metadata": {},
   "source": [
    "# Q2. Create a simple Flask application to display ‘Hello World!!’. Attach the screenshot of the output in Jupyter Notebook"
   ]
  },
  {
   "cell_type": "code",
   "execution_count": 1,
   "metadata": {},
   "outputs": [
    {
     "name": "stdout",
     "output_type": "stream",
     "text": [
      " * Serving Flask app '__main__'\n",
      " * Debug mode: off\n"
     ]
    },
    {
     "name": "stderr",
     "output_type": "stream",
     "text": [
      "WARNING: This is a development server. Do not use it in a production deployment. Use a production WSGI server instead.\n",
      " * Running on http://127.0.0.1:5000\n",
      "Press CTRL+C to quit\n",
      "127.0.0.1 - - [08/Oct/2023 21:59:58] \"GET / HTTP/1.1\" 200 -\n",
      "127.0.0.1 - - [08/Oct/2023 21:59:59] \"GET /favicon.ico HTTP/1.1\" 404 -\n"
     ]
    }
   ],
   "source": [
    "from flask import Flask\n",
    "\n",
    "app = Flask(__name__)\n",
    "\n",
    "@app.route('/')\n",
    "def hello_world():\n",
    "    return 'Hello World!!'\n",
    "\n",
    "if __name__ == '__main__':\n",
    "    app.run()"
   ]
  },
  {
   "cell_type": "markdown",
   "metadata": {},
   "source": [
    "![Hello World Screenshot](output/question_02.0.png)"
   ]
  },
  {
   "cell_type": "markdown",
   "metadata": {},
   "source": [
    "# Q3. What is App routing in Flask? Why do we use app routes?"
   ]
  },
  {
   "cell_type": "markdown",
   "metadata": {},
   "source": [
    "app routing refers to the process of defining URL routes for your web application. These routes determine how the application responds to different URL requests. When a client makes a request to a specific URL, Flask's routing system directs the request to the appropriate view function that handles that URL. This allows you to map specific URLs to specific functions, enabling you to create dynamic and interactive web applications."
   ]
  },
  {
   "cell_type": "code",
   "execution_count": null,
   "metadata": {},
   "outputs": [],
   "source": [
    "@app.route('/')\n",
    "def index():\n",
    "    return 'Hello, World!'"
   ]
  },
  {
   "cell_type": "markdown",
   "metadata": {},
   "source": [
    "# Q4. Create a “/welcome” route to display the welcome message “Welcome to ABC Corporation” and a “/” route to show the following details:\n",
    "\n",
    "### Company Name: ABC Corporation\n",
    "### Location: India\n",
    "### Contact Detail: 999-999-9999"
   ]
  },
  {
   "cell_type": "code",
   "execution_count": 6,
   "metadata": {},
   "outputs": [
    {
     "name": "stdout",
     "output_type": "stream",
     "text": [
      " * Serving Flask app '__main__'\n",
      " * Debug mode: off\n"
     ]
    },
    {
     "name": "stderr",
     "output_type": "stream",
     "text": [
      "WARNING: This is a development server. Do not use it in a production deployment. Use a production WSGI server instead.\n",
      " * Running on all addresses (0.0.0.0)\n",
      " * Running on http://127.0.0.1:5000\n",
      " * Running on http://192.168.1.40:5000\n",
      "Press CTRL+C to quit\n",
      "127.0.0.1 - - [08/Oct/2023 22:44:11] \"GET / HTTP/1.1\" 200 -\n"
     ]
    }
   ],
   "source": [
    "from flask import Flask\n",
    "\n",
    "app = Flask(__name__)\n",
    "\n",
    "@app.route('/welcome')\n",
    "def hello_world():\n",
    "    return \"Welcome to ABC Corporation\"\n",
    "\n",
    "@app.route('/')\n",
    "def mainPage():\n",
    "    return '''\n",
    "    \n",
    "    Company Name: ABC Corporation <br>\n",
    "    Location: India <br>\n",
    "    Contact Detail: 999-999-9999\n",
    "    \n",
    "    '''\n",
    "\n",
    "if __name__ == '__main__':\n",
    "    app.run(host = \"0.0.0.0\")"
   ]
  },
  {
   "cell_type": "markdown",
   "metadata": {},
   "source": [
    "![Hello World Screenshot](output/question_04.1.png)"
   ]
  },
  {
   "cell_type": "markdown",
   "metadata": {},
   "source": [
    "# Q5. What function is used in Flask for URL Building? Write a Python code to demonstrate the working of the url_for() function."
   ]
  },
  {
   "cell_type": "markdown",
   "metadata": {},
   "source": [
    "the url_for() function is used for URL building. It allows you to generate URLs dynamically based on the name of the route or view function, making your code more robust and maintainable. It's particularly useful when you need to create URLs in templates or when you want to avoid hardcoding URLs in your application."
   ]
  },
  {
   "cell_type": "code",
   "execution_count": 7,
   "metadata": {},
   "outputs": [
    {
     "name": "stdout",
     "output_type": "stream",
     "text": [
      " * Serving Flask app '__main__'\n",
      " * Debug mode: off\n"
     ]
    },
    {
     "name": "stderr",
     "output_type": "stream",
     "text": [
      "WARNING: This is a development server. Do not use it in a production deployment. Use a production WSGI server instead.\n",
      " * Running on http://127.0.0.1:5000\n",
      "Press CTRL+C to quit\n"
     ]
    }
   ],
   "source": [
    "from flask import Flask, render_template, url_for\n",
    "\n",
    "app = Flask(__name__)\n",
    "\n",
    "@app.route('/')\n",
    "def index():\n",
    "    return 'Welcome to the Home Page'\n",
    "\n",
    "@app.route('/about')\n",
    "def about():\n",
    "    return 'This is the About Page'\n",
    "\n",
    "@app.route('/generate_urls')\n",
    "def generate_urls():\n",
    "\n",
    "    index_url = url_for('index')\n",
    "    about_url = url_for('about')\n",
    "\n",
    "    html_response = f'''\n",
    "    <h1>Generated URLs:</h1>\n",
    "    <ul>\n",
    "        <li><a href=\"{index_url}\">Home Page</a></li>\n",
    "        <li><a href=\"{about_url}\">About Page</a></li>\n",
    "    </ul>\n",
    "    '''\n",
    "\n",
    "    return html_response\n",
    "\n",
    "if __name__ == '__main__':\n",
    "    app.run()\n"
   ]
  }
 ],
 "metadata": {
  "kernelspec": {
   "display_name": "Python 3",
   "language": "python",
   "name": "python3"
  },
  "language_info": {
   "codemirror_mode": {
    "name": "ipython",
    "version": 3
   },
   "file_extension": ".py",
   "mimetype": "text/x-python",
   "name": "python",
   "nbconvert_exporter": "python",
   "pygments_lexer": "ipython3",
   "version": "3.11.5"
  },
  "orig_nbformat": 4
 },
 "nbformat": 4,
 "nbformat_minor": 2
}
