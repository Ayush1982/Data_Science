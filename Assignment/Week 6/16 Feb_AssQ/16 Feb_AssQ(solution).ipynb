{
 "cells": [
  {
   "cell_type": "markdown",
   "metadata": {},
   "source": [
    "# Q1. What is a database? Differentiate between SQL and NoSQL databases."
   ]
  },
  {
   "cell_type": "markdown",
   "metadata": {},
   "source": [
    "A database is a collection of data that is organized and stored in a way that allows for efficient retrieval and manipulation of data. Databases are commonly used in various applications and systems to store and manage large volumes of structured and unstructured data"
   ]
  },
  {
   "cell_type": "markdown",
   "metadata": {},
   "source": [
    "### SQL Databases:\n",
    "\n",
    "1) SQL databases are relational databases that use a structured which is define the data's organization. Data is organized into tables with predefined schemas that define the data types and relationships between tables.\n",
    "\n",
    "2) SQL databases have a rigid, predefined schema. Changes to the schema often require careful planning and may result in downtime during updates.\n",
    "\n",
    "3) SQL databases use the SQL language for querying and manipulating data. SQL provides a powerful and standardized way to interact with relational data."
   ]
  },
  {
   "cell_type": "markdown",
   "metadata": {},
   "source": [
    "### NoSQL Databases:\n",
    "\n",
    "1) NoSQL databases encompass a variety of data models, including document-oriented, key-value, column-family, and graph databases. They are designed to handle unstructured or semi-structured data.\n",
    "\n",
    "2) NoSQL databases are typically schema-less or have a flexible schema, allowing for more dynamic and evolving data structures. This flexibility is advantageous for applications with evolving data requirements.\n",
    "\n",
    "3) NoSQL databases use different query languages or APIs depending on the database type. These query languages may be less expressive than SQL but are optimized for specific data models"
   ]
  },
  {
   "cell_type": "markdown",
   "metadata": {},
   "source": [
    "# Q2. What is DDL? Explain why CREATE, DROP, ALTER, and TRUNCATE are used with an example."
   ]
  },
  {
   "cell_type": "markdown",
   "metadata": {},
   "source": [
    "DDL stands for Data Definition Language. It is a subset of SQL used for defining and managing the structure of a database and its objects. DDL statements are responsible for creating, altering, and deleting database objects, such as tables, indexes, and constraints."
   ]
  },
  {
   "cell_type": "markdown",
   "metadata": {},
   "source": [
    "1) CREATE: The CREATE statement is used to create new database objects, such as tables and indexes"
   ]
  },
  {
   "cell_type": "code",
   "execution_count": null,
   "metadata": {
    "vscode": {
     "languageId": "sql"
    }
   },
   "outputs": [],
   "source": [
    "CREATE TABLE employees (\n",
    "    employee_id INT PRIMARY KEY,\n",
    "    first_name VARCHAR(100),\n",
    "    last_name VARCHAR(100),\n",
    "    hire_date DATE\n",
    ");"
   ]
  },
  {
   "cell_type": "markdown",
   "metadata": {},
   "source": [
    "2) DROP: The DROP statement is used to delete existing database objects. It permanently removes the object and its data from the database"
   ]
  },
  {
   "cell_type": "code",
   "execution_count": null,
   "metadata": {
    "vscode": {
     "languageId": "sql"
    }
   },
   "outputs": [],
   "source": [
    "DROP TABLE employees;"
   ]
  },
  {
   "cell_type": "markdown",
   "metadata": {},
   "source": [
    "3) ALTER: The ALTER statement is used to modify the structure of an existing database object"
   ]
  },
  {
   "cell_type": "code",
   "execution_count": null,
   "metadata": {
    "vscode": {
     "languageId": "sql"
    }
   },
   "outputs": [],
   "source": [
    "ALTER TABLE employees\n",
    "ADD email VARCHAR(100);"
   ]
  },
  {
   "cell_type": "markdown",
   "metadata": {},
   "source": [
    "4) TRUNCATE: The TRUNCATE statement is used to quickly delete all the rows from a table, but it does not delete the table structure itself."
   ]
  },
  {
   "cell_type": "code",
   "execution_count": null,
   "metadata": {
    "vscode": {
     "languageId": "sql"
    }
   },
   "outputs": [],
   "source": [
    "TRUNCATE TABLE employees;"
   ]
  },
  {
   "cell_type": "markdown",
   "metadata": {},
   "source": [
    "# Q3. What is DML? Explain INSERT, UPDATE, and DELETE with an example."
   ]
  },
  {
   "cell_type": "markdown",
   "metadata": {},
   "source": [
    "DML stands for Data Manipulation Language. It is a subset of SQL used for interacting with and manipulating data within a database. DML statements are responsible for adding, modifying, and deleting data records in database tables"
   ]
  },
  {
   "cell_type": "markdown",
   "metadata": {},
   "source": [
    "1) INSERT: The INSERT statement is used to add new records (rows) to a database table"
   ]
  },
  {
   "cell_type": "code",
   "execution_count": null,
   "metadata": {
    "vscode": {
     "languageId": "sql"
    }
   },
   "outputs": [],
   "source": [
    "INSERT INTO employees (employee_id, first_name, last_name, hire_date)\n",
    "VALUES (1, 'John', 'Doe', '2023-01-15');"
   ]
  },
  {
   "cell_type": "markdown",
   "metadata": {},
   "source": [
    "2) UPDATE: The UPDATE statement is used to modify existing data records in a database table"
   ]
  },
  {
   "cell_type": "code",
   "execution_count": null,
   "metadata": {
    "vscode": {
     "languageId": "sql"
    }
   },
   "outputs": [],
   "source": [
    "UPDATE employees\n",
    "SET first_name = 'Jane'\n",
    "WHERE employee_id = 1;"
   ]
  },
  {
   "cell_type": "markdown",
   "metadata": {},
   "source": [
    "3) DELETE: The DELETE statement is used to remove one or more records from a database table based on a specified condition"
   ]
  },
  {
   "cell_type": "code",
   "execution_count": null,
   "metadata": {
    "vscode": {
     "languageId": "sql"
    }
   },
   "outputs": [],
   "source": [
    "DELETE FROM employees\n",
    "WHERE employee_id = 1;"
   ]
  },
  {
   "cell_type": "markdown",
   "metadata": {},
   "source": [
    "# Q4. What is DQL? Explain SELECT with an example."
   ]
  },
  {
   "cell_type": "markdown",
   "metadata": {},
   "source": [
    "DQL stands for Data Query Language. It is a subset of SQL used for querying and retrieving data from a database. DQL statements primarily consist of the SELECT statement, which allows you to specify the data you want to retrieve from one or more database tables based on certain conditions and criteria"
   ]
  },
  {
   "cell_type": "markdown",
   "metadata": {},
   "source": [
    "1) SELECT: The SELECT statement is used to retrieve data from one or more tables in a database. It allows you to specify the columns you want to retrieve, filter the rows based on conditions, sort the results, and perform various operations on the data."
   ]
  },
  {
   "cell_type": "code",
   "execution_count": null,
   "metadata": {
    "vscode": {
     "languageId": "sql"
    }
   },
   "outputs": [],
   "source": [
    "SELECT first_name, last_name, hire_date\n",
    "FROM employees\n",
    "WHERE salary > 50000\n",
    "ORDER BY hire_date DESC;"
   ]
  },
  {
   "cell_type": "markdown",
   "metadata": {},
   "source": [
    "# Q5. Explain Primary Key and Foreign Key."
   ]
  },
  {
   "cell_type": "markdown",
   "metadata": {},
   "source": [
    "1) Primary Key:\n",
    "   \n",
    "   a) A Primary Key is a column or a set of columns in a relational database table that uniquely   identifies each row or record in that table.\n",
    "\n",
    "   b) It ensures that there are no duplicate rows in the table and provides a way to distinguish one row from another."
   ]
  },
  {
   "cell_type": "markdown",
   "metadata": {},
   "source": [
    "2) Foreign Key:\n",
    "  \n",
    "    a) A Foreign Key is a column or a set of columns in a database table that establishes a link between two tables by referencing the Primary Key of another table.\n",
    "\n",
    "    b) It creates a relationship between the tables, allowing data in one table to be associated with data in another."
   ]
  },
  {
   "cell_type": "markdown",
   "metadata": {},
   "source": [
    "# Q6. Write a python code to connect MySQL to python. Explain the cursor() and execute() method."
   ]
  },
  {
   "cell_type": "code",
   "execution_count": null,
   "metadata": {},
   "outputs": [],
   "source": [
    "import mysql.connector\n",
    "\n",
    "mydb = mysql.connector.connect(\n",
    "  host=\"localhost\",\n",
    "  user=\"abc\",\n",
    "  password=\"password\"\n",
    ")\n",
    "print(mydb)\n",
    "\n",
    "mycursor = mydb.cursor()\n",
    "mycursor.execute(\"SHOW DATABASES\")\n",
    "for x in mycursor:\n",
    "  print(x)\n",
    "\n",
    "\n",
    "if 'mycursor' in locals():\n",
    "    mycursor.close()\n",
    "if 'mydb' in locals() and mydb.is_connected():\n",
    "    mydb.close()"
   ]
  },
  {
   "cell_type": "markdown",
   "metadata": {},
   "source": [
    "1) cursor():\n",
    "\n",
    "The cursor() method is used to create a cursor object, which allows you to execute SQL queries and fetch results from the database.\n",
    "\n",
    "The cursor acts as a pointer to rows in the result set, and you use it to interact with the database.\n",
    "\n",
    "2) execute():\n",
    "\n",
    "The execute() method is used to execute SQL queries or statements through the cursor in python.\n",
    "\n",
    "we can pass an SQL query as a string to this method, and it sends the query to the database for execution."
   ]
  },
  {
   "cell_type": "markdown",
   "metadata": {},
   "source": [
    "# Q7. Give the order of execution of SQL clauses in an SQL query."
   ]
  },
  {
   "cell_type": "markdown",
   "metadata": {},
   "source": [
    "1) FROM: The FROM clause specifies the tables from which you want to retrieve data. It is the first clause to be executed. This clause defines the source tables for the query.\n",
    "\n",
    "2) WHERE: The WHERE clause is executed after the FROM clause. It filters the rows from the tables specified in the FROM clause based on a specified condition or set of conditions.\n",
    "\n",
    "3)  GROUP BY: If a GROUP BY clause is present in the query, it is executed after the WHERE clause. The GROUP BY clause groups the rows that meet the WHERE condition(s) into subsets based on the specified columns. \n",
    "\n",
    "4)  HAVING: The HAVING clause is executed after the GROUP BY clause. It filters the grouped rows based on a specified condition or set of conditions.\n",
    "\n",
    "5)  SELECT: The SELECT clause is executed after the previous clauses. It specifies the columns you want to retrieve from the result set. \n",
    "\n",
    "6)  DISTINCT: If the DISTINCT keyword is used in the SELECT clause, it is executed after the SELECT clause.\n",
    "\n",
    "7)  ORDER BY: The ORDER BY clause is executed after all the previous clauses. It sorts the result set based on the specified columns and sorting criteria.\n",
    "\n",
    "8)  OFFSET : If the query includes LIMIT and OFFSET clauses, they are executed after the ORDER BY clause. \n",
    "\n",
    "9)  INTERSECT: If the query involves set operations like UNION, INTERSECT, or EXCEPT, they are executed after all the previous clauses.\n",
    "\n",
    "10) SELECT DISTINCT: If the DISTINCT keyword is used in the SELECT clause but after the result set is generated, it filters out any remaining duplicate rows."
   ]
  }
 ],
 "metadata": {
  "kernelspec": {
   "display_name": "Python 3",
   "language": "python",
   "name": "python3"
  },
  "language_info": {
   "codemirror_mode": {
    "name": "ipython",
    "version": 3
   },
   "file_extension": ".py",
   "mimetype": "text/x-python",
   "name": "python",
   "nbconvert_exporter": "python",
   "pygments_lexer": "ipython3",
   "version": "3.11.5"
  },
  "orig_nbformat": 4
 },
 "nbformat": 4,
 "nbformat_minor": 2
}
