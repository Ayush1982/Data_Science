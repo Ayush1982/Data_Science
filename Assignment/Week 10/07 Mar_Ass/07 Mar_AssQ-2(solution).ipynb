{
 "cells": [
  {
   "cell_type": "markdown",
   "metadata": {},
   "source": [
    "# Q1. What are the three measures of central tendency?"
   ]
  },
  {
   "cell_type": "markdown",
   "metadata": {},
   "source": [
    "1. **Mean:** The mean is the average of a set of values. It is calculated by adding up all the values in a dataset and then dividing the sum by the number of values. The mean is sensitive to extreme values, also known as outliers.\n",
    "\n",
    "2. **Median:** The median is the middle value in a dataset when it is ordered from least to greatest. If there is an even number of observations, the median is the average of the two middle values. Unlike the mean, the median is not affected by extreme values and provides a better measure of central tendency in skewed distributions.\n",
    "\n",
    "3. **Mode:** The mode is the most frequently occurring value in a dataset. A dataset may have one mode (unimodal), more than one mode (multimodal), or no mode at all. Unlike the mean and median, the mode can be used with categorical data as well."
   ]
  },
  {
   "cell_type": "markdown",
   "metadata": {},
   "source": [
    "# Q2. What is the difference between the mean, median, and mode? How are they used to measure the central tendency of a dataset?"
   ]
  },
  {
   "cell_type": "markdown",
   "metadata": {},
   "source": [
    "1. **Mean:**\n",
    "   - Definition: The mean is the average of all the values in a dataset. It is calculated by summing up all the values and dividing by the number of observations.\n",
    "   - Sensitivity: The mean is sensitive to extreme values or outliers. A few extremely high or low values can significantly impact the mean, making it less representative of the central tendency in the presence of outliers.\n",
    "   - Formula: Mean = Sum of all values/Number of values\n",
    "\n",
    "2. **Median:**\n",
    "   - Definition: The median is the middle value in a dataset when it is arranged in ascending or descending order. If there is an even number of observations, the median is the average of the two middle values.\n",
    "   - Robustness: The median is less sensitive to extreme values compared to the mean. It provides a better representation of central tendency in skewed distributions or when outliers are present.\n",
    "   - Formula (for an odd number of observations): Median = Middle value\n",
    "   - Formula (for an even number of observations):Median = Sum of two middle values / 2\n",
    "\n",
    "3. **Mode:**\n",
    "   - Definition: The mode is the value that occurs most frequently in a dataset. A dataset can be unimodal (one mode), bimodal (two modes), multimodal (more than two modes), or amodal (no mode).\n",
    "   - Applicability: The mode is often used with categorical data, but it can also be used with numerical data. It is not affected by extreme values.\n",
    "   - Formula: No specific formula for the mode; it is the value with the highest frequency in the dataset.\n",
    "\n",
    "**How they are used:**\n",
    "- **Choosing the appropriate measure:** The choice between mean, median, and mode depends on the nature of the data and the goals of analysis. For symmetric distributions without outliers, the mean and median may be similar. In skewed distributions or when outliers are present, the median may be a more appropriate measure of central tendency.\n",
    "  \n",
    "- **Interpretation:**\n",
    "  - **Mean:** Provides a balance point for the data, but it can be influenced by outliers.\n",
    "  - **Median:** Represents the middle value and is more robust to outliers.\n",
    "  - **Mode:** Identifies the most frequent value(s) and is useful for categorical data.\n",
    "\n"
   ]
  },
  {
   "cell_type": "markdown",
   "metadata": {},
   "source": [
    "# Q3. Measure the three measures of central tendency for the given height data:\n",
    "\n",
    " [178,177,176,177,178.2,178,175,179,180,175,178.9,176.2,177,172.5,178,176.5]"
   ]
  },
  {
   "cell_type": "markdown",
   "metadata": {},
   "source": [
    "- Mean:  176.71\n",
    "- Median: 177.5\n",
    "- Mode: dataset is unimodal with no repeated values"
   ]
  },
  {
   "cell_type": "markdown",
   "metadata": {},
   "source": [
    "# Q4. Find the standard deviation for the given data:\n",
    "\n",
    "[178,177,176,177,178.2,178,175,179,180,175,178.9,176.2,177,172.5,178,176.5]"
   ]
  },
  {
   "cell_type": "markdown",
   "metadata": {},
   "source": [
    "To find the standard deviation for the given data, follow these steps:\n",
    "\n",
    "1. Find the mean of the data.\n",
    "2. Subtract the mean from each data point and square the result.\n",
    "3. Find the mean of these squared differences.\n",
    "4. Take the square root of this mean.\n",
    "\n",
    "The standard deviation for the given height data is approximately 1.77559 ."
   ]
  },
  {
   "cell_type": "markdown",
   "metadata": {},
   "source": [
    "# Q5. How are measures of dispersion such as range, variance, and standard deviation used to describe the spread of a dataset? Provide an example."
   ]
  },
  {
   "cell_type": "markdown",
   "metadata": {},
   "source": [
    "Measures of dispersion, such as range, variance, and standard deviation, are used to quantify the extent to which individual data points in a dataset deviate from the central tendency (mean, median, mode). They provide information about the spread or variability of the data. \n",
    "\n",
    "1. **Range:**\n",
    "   - **Definition:** The range is the difference between the maximum and minimum values in a dataset.\n",
    "   - **Use:** It gives a simple indication of the spread of the data. However, it is sensitive to outliers and may not provide a robust measure of dispersion.\n",
    "\n",
    "2. **Variance:**\n",
    "   - **Definition:** Variance measures the average squared deviation of each data point from the mean.\n",
    "   - **Use:** It provides a more comprehensive measure of dispersion, taking into account the magnitude of differences from the mean.\n",
    "\n",
    "3. **Standard Deviation:**\n",
    "   - **Definition:** The standard deviation is the square root of the variance. It is a widely used measure of dispersion.\n",
    "   - **Use:** It expresses dispersion in the same units as the original data, making it more interpretable. A higher standard deviation indicates greater variability.\n",
    "\n",
    "**Example:**\n",
    "Consider two sets of exam scores for two classes:\n",
    "\n",
    "- Class A: [75, 80, 82, 85, 88]\n",
    "- Class B: [60, 70, 75, 90, 95]\n"
   ]
  },
  {
   "cell_type": "markdown",
   "metadata": {},
   "source": [
    "Range:\n",
    "\n",
    "    Class A: 88−75=13\n",
    "    Class B: 95−60=35\n",
    "\n",
    "Variance:\n",
    "\n",
    "    Class A: {(75−82)^2+(80−82)^2+…+(88−82)^2}/5\n",
    "    Class B: {(60−77)^2+(70−77)^2+…+(95−77)^2}/5\n",
    "\n",
    "Standard Deviation:\n",
    "\n",
    "    Class A: √ (Variance of Class A)\n",
    "    Class B: √ (Variance of Class B)\n",
    "​"
   ]
  },
  {
   "cell_type": "markdown",
   "metadata": {},
   "source": [
    "# Q6. What is a Venn diagram?"
   ]
  },
  {
   "cell_type": "markdown",
   "metadata": {},
   "source": [
    "A Venn diagram is a graphical representation of the relationships between sets. It uses circles or other shapes to visually illustrate the logical relationships between different sets or groups of items. The overlapping areas of the circles represent the elements that are common to the sets, while the non-overlapping areas represent elements that belong exclusively to each set.\n",
    "\n",
    "Key components of a Venn diagram include:\n",
    "\n",
    "1. **Circles or Shapes:** Each set is typically represented by a circle or another shape. The circles are drawn to visually indicate the extent of each set.\n",
    "\n",
    "2. **Overlap:** Overlapping regions represent the elements that are common to two or more sets. The size of the overlap reflects the degree of intersection between the sets.\n",
    "\n",
    "3. **Non-overlapping Areas:** The portions of each circle that do not overlap with other circles represent elements unique to that set.\n",
    "\n",
    "Venn diagrams are useful for illustrating concepts related to set theory, logic, and the relationships between different categories. They are widely used in mathematics, statistics, logic, and various other fields to aid in the visualization and comprehension of set relationships.\n",
    "\n",
    "For example, a Venn diagram can be used to represent the relationships between sets A and B:\n",
    "\n",
    "- Set A: {1, 2, 3, 4}\n",
    "- Set B: {3, 4, 5, 6}"
   ]
  },
  {
   "cell_type": "markdown",
   "metadata": {},
   "source": [
    "# Q7. For the two given sets A = (2,3,4,5,6,7) & B = (0,2,6,8,10). Find:\n",
    "\n",
    "(i) \tA ∩ B\n",
    "\n",
    "(ii)\tA ⋃ B"
   ]
  },
  {
   "cell_type": "markdown",
   "metadata": {},
   "source": [
    "(i) **A ∩ B (Intersection):**\n",
    "    A ∩ B = {2,6}\n",
    "\n",
    "(ii) **A ∪ B (Union):**\n",
    "    A ∪ B = {0,2,3,4,5,6,7,8,10}\n"
   ]
  },
  {
   "cell_type": "markdown",
   "metadata": {},
   "source": [
    "# Q8. What do you understand about skewness in data?"
   ]
  },
  {
   "cell_type": "markdown",
   "metadata": {},
   "source": [
    "1. **Positively Skewed (Right Skew):**\n",
    "   - In a positively skewed distribution, the right tail is longer or fatter than the left tail.\n",
    "   - The majority of the data points are concentrated on the left side, and the right side exhibits a few unusually high values (outliers).\n",
    "   - The mean is typically greater than the median in a positively skewed distribution.\n",
    "\n",
    "2. **Negatively Skewed (Left Skew):**\n",
    "   - In a negatively skewed distribution, the left tail is longer or fatter than the right tail.\n",
    "   - The majority of the data points are concentrated on the right side, and the left side exhibits a few unusually low values (outliers).\n",
    "   - The mean is typically less than the median in a negatively skewed distribution.\n",
    "\n",
    "3. **Approximately Symmetric:**\n",
    "   - In a symmetric distribution, the left and right sides are mirror images of each other.\n",
    "   - The mean and median are approximately equal in symmetric distributions.\n",
    "\n",
    "4. **Calculation of Skewness:**\n",
    "   - Skewness can be calculated using various formulas, with one common method being the third standardized moment.\n",
    "   - The formula for skewness is based on the deviations of data points from the mean.\n"
   ]
  },
  {
   "cell_type": "markdown",
   "metadata": {},
   "source": [
    "# Q9. If a data is right skewed then what will be the position of median with respect to mean?"
   ]
  },
  {
   "cell_type": "markdown",
   "metadata": {},
   "source": [
    "In a right-skewed (positively skewed) distribution, the tail on the right side of the distribution is longer or fatter than the left side. This means that there are some relatively large values that pull the mean to the right. Here's how the position of the median compares to the mean in a right-skewed distribution:\n",
    "\n",
    "1. **Mean and Median Relationship:**\n",
    "   - The mean is influenced by extreme values (outliers) in the tail.\n",
    "   - In a right-skewed distribution, the presence of larger values in the right tail pulls the mean in that direction.\n",
    "   - Consequently, the mean is typically greater than the median in a right-skewed distribution.\n",
    "\n",
    "2. **Position of the Median:**\n",
    "   - The median is the middle value when the data is ordered from least to greatest.\n",
    "   - In a right-skewed distribution, the larger values in the right tail have less impact on the median.\n",
    "   - The median tends to be closer to the bulk of the data, and it is not as strongly influenced by extreme values.\n",
    "   - Therefore, in a right-skewed distribution, the median is typically less than the mean."
   ]
  },
  {
   "cell_type": "markdown",
   "metadata": {},
   "source": [
    "# Q10. Explain the difference between covariance and correlation. How are these measures used in statistical analysis?"
   ]
  },
  {
   "cell_type": "markdown",
   "metadata": {},
   "source": [
    "1. **Covariance:**\n",
    "   - **Definition:** Covariance measures the degree to which two variables change together. It indicates the direction (positive or negative) of the linear relationship between the variables.\n",
    "   - **Scale:** The scale of covariance is not standardized, meaning it can take any value without a clear upper or lower limit.\n",
    "   - **Interpretation:** A positive covariance indicates a positive relationship (both variables tend to increase or decrease together), while a negative covariance indicates a negative relationship (one variable tends to increase as the other decreases).\n",
    "\n",
    "2. **Correlation:**\n",
    "   - **Definition:** Correlation is a standardized measure of the strength and direction of the linear relationship between two variables. It is the covariance divided by the product of the standard deviations of the variables.\n",
    "   - **Scale:** The correlation coefficient ranges from -1 to 1, providing a standardized scale. A correlation of 1 indicates a perfect positive linear relationship, -1 indicates a perfect negative linear relationship, and 0 indicates no linear relationship.\n",
    "   - **Interpretation:** Correlation allows for easier comparison of the strength of relationships between different pairs of variables. It also provides a measure of the direction of the relationship.\n",
    "\n",
    "**How they are used in statistical analysis:**\n",
    "- **Covariance:** Covariance is used to understand the direction of the relationship between two variables. However, its scale makes it challenging to compare relationships across different datasets.\n",
    "  \n",
    "- **Correlation:** Correlation is widely used because it provides a standardized measure that facilitates comparisons. It is especially useful when comparing relationships in different datasets or when the variables have different units of measurement.\n"
   ]
  },
  {
   "cell_type": "markdown",
   "metadata": {},
   "source": [
    "# Q11. What is the formula for calculating the sample mean? Provide an example calculation for a dataset."
   ]
  },
  {
   "cell_type": "markdown",
   "metadata": {},
   "source": [
    "The sample mean, denoted by Xˉ, is calculated as the sum of all values in a dataset divided by the number of observations in the dataset. The formula for calculating the sample mean is:\n",
    "\n",
    "Xˉ = ∑ Xi / n\n",
    "\n",
    "Where:\n",
    "\n",
    "    Xˉ is the sample mean.\n",
    "    Xi​ represents each individual value in the dataset.\n",
    "    ∑ denotes the sum of all values.\n",
    "    n is the number of observations in the dataset.\n",
    "\n",
    "example :\n",
    "\n",
    "Consider the dataset: [12, 15, 18, 20, 22].\n",
    "\n",
    "Xˉ = 12+15+18+20+22 / 5\n",
    "\n",
    "Xˉ = 87 / 5\n",
    "\n",
    "Xˉ = 17.4\n",
    "\n",
    "So, the sample mean for the given dataset is 17.4."
   ]
  },
  {
   "cell_type": "markdown",
   "metadata": {},
   "source": [
    "# Q12. For a normal distribution data what is the relationship between its measure of central tendency?"
   ]
  },
  {
   "cell_type": "markdown",
   "metadata": {},
   "source": [
    "1. **Mean (μ):**\n",
    "   - In a normal distribution, the mean is located at the center of the distribution.\n",
    "   - The mean is equal to the median in a perfectly symmetrical normal distribution.\n",
    "\n",
    "2. **Median:**\n",
    "   - In a perfectly symmetrical normal distribution, the median is also located at the center.\n",
    "   - The median is equal to the mean in a perfectly symmetrical normal distribution.\n",
    "\n",
    "3. **Mode:**\n",
    "   - In a normal distribution, the mode is at the peak or highest point of the curve.\n",
    "   - The mode is also equal to the mean and median in a perfectly symmetrical normal distribution.\n",
    "\n",
    "\n",
    "Mean = Median = Mode\n"
   ]
  },
  {
   "cell_type": "markdown",
   "metadata": {},
   "source": [
    "# Q13. How is covariance different from correlation?"
   ]
  },
  {
   "cell_type": "markdown",
   "metadata": {},
   "source": [
    "1. **Scale:**\n",
    "   - **Covariance:** Covariance is not standardized and can take any value without a clear upper or lower limit. The scale of covariance depends on the units of the variables being measured. A positive covariance indicates a positive relationship, and a negative covariance indicates a negative relationship.\n",
    "   - **Correlation:** Correlation is a standardized measure, and its values are always between -1 and 1. A correlation of 1 indicates a perfect positive linear relationship, -1 indicates a perfect negative linear relationship, and 0 indicates no linear relationship.\n",
    "\n",
    "2. **Interpretation:**\n",
    "   - **Covariance:** The magnitude of covariance is not easily interpretable because it depends on the scales of the variables. A positive covariance simply indicates a positive relationship, and a negative covariance indicates a negative relationship. The strength of the relationship is not easily comparable across different datasets or pairs of variables.\n",
    "   - **Correlation:** Correlation provides a standardized measure that is easily interpretable. The correlation coefficient allows for comparisons of the strength and direction of relationships between different pairs of variables. It facilitates the assessment of the relative strength of linear relationships.\n",
    "\n",
    "3. **Formula:**\n",
    "   - **Covariance:** The formula for covariance is based on the deviations of data points from the means of the variables.\n",
    "   - **Correlation:** Correlation is calculated by dividing the covariance by the product of the standard deviations of the variables.\n"
   ]
  },
  {
   "cell_type": "markdown",
   "metadata": {},
   "source": [
    "#  Q14. How do outliers affect measures of central tendency and dispersion? Provide an example."
   ]
  },
  {
   "cell_type": "markdown",
   "metadata": {},
   "source": [
    "Outliers can significantly impact measures of central tendency and dispersion in a dataset. Central tendency measures, such as the mean, are particularly sensitive to outliers, while dispersion measures, such as range, variance, and standard deviation, can be influenced by the presence of extreme values. Here's how outliers affect these measures:\n",
    "\n",
    "1. **Central Tendency Measures:**\n",
    "   - **Mean:** Outliers can disproportionately influence the mean. A single extreme value can pull the mean in its direction. This is because the mean is calculated by summing all values and dividing by the number of observations.\n",
    "   - **Median:** The median is less affected by outliers because it is not influenced by the actual values of extreme observations. It is based on the position of values in the ordered dataset.\n",
    "   - **Mode:** The mode may not be significantly affected by outliers, especially if the dataset is multimodal.\n",
    "\n",
    "**Example:**\n",
    "Consider the dataset: [10, 12, 13, 14, 15, 16, 17, 20, 25, 120].\n",
    "\n",
    "- **Mean:**  22.2\n",
    "- **Median:** The middle value is 16.\n",
    "- **Mode:** No mode.\n",
    "\n",
    "The presence of the outlier \"120\" significantly affects the mean, pulling it to the right. In this case, the mean is not a representative measure of central tendency, and the median may provide a more accurate reflection of the typical value.\n",
    "\n",
    "2. **Dispersion Measures:**\n",
    "   - **Range:** Outliers can greatly influence the range, especially if they are extreme values. The range is the difference between the maximum and minimum values in a dataset.\n",
    "   - **Variance and Standard Deviation:** These measures are influenced by the squared differences between each data point and the mean. Outliers with large deviations can inflate the variance and, consequently, the standard deviation.\n",
    "\n",
    "**Example:**\n",
    "Consider the dataset: [10, 12, 13, 14, 15, 16, 17, 20, 25, 120].\n",
    "\n",
    "- **Range:** 120 - 10 = 110\n",
    "- **Variance:** 1272.36\n",
    "- **Standard Deviation:** sqrt{1272.36} = 35.67\n",
    "\n",
    "The outlier \"120\" significantly impacts the range, variance, and standard deviation, making these measures less representative of the typical spread of the data."
   ]
  }
 ],
 "metadata": {
  "kernelspec": {
   "display_name": "Python 3",
   "language": "python",
   "name": "python3"
  },
  "language_info": {
   "codemirror_mode": {
    "name": "ipython",
    "version": 3
   },
   "file_extension": ".py",
   "mimetype": "text/x-python",
   "name": "python",
   "nbconvert_exporter": "python",
   "pygments_lexer": "ipython3",
   "version": "3.11.5"
  },
  "orig_nbformat": 4
 },
 "nbformat": 4,
 "nbformat_minor": 2
}
