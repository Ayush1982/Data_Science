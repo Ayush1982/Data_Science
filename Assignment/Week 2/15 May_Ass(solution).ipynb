{
 "cells": [
  {
   "cell_type": "markdown",
   "metadata": {},
   "source": [
    "Q1. How do you comment code in Python? What are the different types of comments?"
   ]
  },
  {
   "cell_type": "markdown",
   "metadata": {},
   "source": [
    "A comment is a piece of text within code that is not executed by the Python\n",
    "\n",
    "Python supports two main types of comments:\n",
    "\n",
    "1) Single-line: We use # character to comment a single line in python.\n",
    "\n",
    "2) Multi-line: We use (''' or \"\"\") symbol to comment a single line in python.\n",
    "\n",
    "example:"
   ]
  },
  {
   "cell_type": "code",
   "execution_count": null,
   "metadata": {},
   "outputs": [],
   "source": [
    "# This is a single-line comment\n",
    "print(\"Hello, world!\")\n",
    "\n",
    "\n",
    "'''\n",
    "This is a multi-line comment.\n",
    "It spans across multiple lines.\n",
    "'''"
   ]
  },
  {
   "cell_type": "markdown",
   "metadata": {},
   "source": [
    "Q2. What are variables in Python? How do you declare and assign values to variables?"
   ]
  },
  {
   "cell_type": "markdown",
   "metadata": {},
   "source": [
    "variables are used to store data values. A variable is works as container that holds data.Python does not require you to specify the data type when declaring variables."
   ]
  },
  {
   "cell_type": "code",
   "execution_count": 2,
   "metadata": {},
   "outputs": [],
   "source": [
    "# Valid variable declarations\n",
    "a = 1    # int a = 1 (no need to specify data type)\n",
    "\n",
    "name = \"Alice\"\n",
    "_score = 90            \n",
    "name = \"Alice\"     \n",
    "grades = [90, 85, 95] \n",
    "age = 25\n",
    "age = age + 1  \n",
    "a, b, c = 1, 2, 3 #Multiple Assignments:\n"
   ]
  },
  {
   "cell_type": "markdown",
   "metadata": {},
   "source": [
    "Q3. How do you convert one data type to another in Python?"
   ]
  },
  {
   "cell_type": "code",
   "execution_count": 3,
   "metadata": {},
   "outputs": [
    {
     "name": "stdout",
     "output_type": "stream",
     "text": [
      "123\n",
      "42.0\n",
      "42\n",
      "1\n",
      "7.5\n"
     ]
    }
   ],
   "source": [
    "# Convert a string to an integer\n",
    "num1 = \"123\"\n",
    "num1 = int(num1)\n",
    "print(num1)\n",
    "\n",
    "# Convert an integer to a float\n",
    "num2 = 42\n",
    "num2 = float(num2)\n",
    "print(num2)\n",
    "\n",
    "# Convert an integer to a string\n",
    "num3 = 42\n",
    "num3 = str(num3)\n",
    "print(num3)\n",
    "\n",
    "# Convert a boolean to an integer (True becomes 1, False becomes 0)\n",
    "num4 = True\n",
    "num4 = int(num4)\n",
    "print(num4)\n",
    "\n",
    "# Implicit conversion of num_int to float\n",
    "num1 = 5\n",
    "num2 = 2.5\n",
    "result = num1 + num2  \n",
    "print(result)"
   ]
  },
  {
   "cell_type": "markdown",
   "metadata": {},
   "source": [
    "Q4. How do you write and execute a Python script from the command line?"
   ]
  },
  {
   "cell_type": "markdown",
   "metadata": {},
   "source": [
    "We can execute the python script by CMD by simply opning the path where did our script is through cmd and the executing the script by : python <file_name>.py command\n"
   ]
  },
  {
   "cell_type": "markdown",
   "metadata": {},
   "source": [
    "Q5. Given a list my_list = [1, 2, 3, 4, 5], write the code to slice the list and obtain the sub-list [2, 3]."
   ]
  },
  {
   "cell_type": "code",
   "execution_count": 4,
   "metadata": {},
   "outputs": [
    {
     "name": "stdout",
     "output_type": "stream",
     "text": [
      "[2, 3]\n"
     ]
    }
   ],
   "source": [
    "list = [1, 2, 3, 4, 5]\n",
    "\n",
    "list1 =list[1:3]\n",
    "\n",
    "print(list1)\n"
   ]
  },
  {
   "cell_type": "markdown",
   "metadata": {},
   "source": [
    "Q6. What is a complex number in mathematics, and how is it represented in Python?"
   ]
  },
  {
   "cell_type": "markdown",
   "metadata": {},
   "source": [
    "Complex numbers are those numbers that are expressed in the form of a+ib where, a,b are real numbers and 'i' is an imaginary number. Python complex numbers are represented using the complex data type, and they are written in the form a + bj. python use j instad of i"
   ]
  },
  {
   "cell_type": "code",
   "execution_count": 2,
   "metadata": {},
   "outputs": [
    {
     "name": "stdout",
     "output_type": "stream",
     "text": [
      "<class 'complex'>\n",
      "1.5\n",
      "-2.0\n"
     ]
    }
   ],
   "source": [
    "z1 = 3 + 4j\n",
    "z2 = 1.5 - 2j\n",
    "z3 = 0 + 1j\n",
    " \n",
    "print(type(z1))\n",
    "print(z2.real)\n",
    "print(z2.imag)"
   ]
  },
  {
   "cell_type": "markdown",
   "metadata": {},
   "source": [
    "Q7. What is the correct way to declare a variable named age and assign the value 25 to it?"
   ]
  },
  {
   "cell_type": "code",
   "execution_count": null,
   "metadata": {},
   "outputs": [],
   "source": [
    "age = 25"
   ]
  },
  {
   "cell_type": "markdown",
   "metadata": {},
   "source": [
    "Q8. Declare a variable named price and assign the value 9.99 to it. What data type does this variable \n",
    "belong to?"
   ]
  },
  {
   "cell_type": "code",
   "execution_count": 5,
   "metadata": {},
   "outputs": [
    {
     "data": {
      "text/plain": [
       "float"
      ]
     },
     "execution_count": 5,
     "metadata": {},
     "output_type": "execute_result"
    }
   ],
   "source": [
    "price = 9.99 #floot\n",
    "\n",
    "type(price)"
   ]
  },
  {
   "cell_type": "markdown",
   "metadata": {},
   "source": [
    "Q9. Create a variable named name and assign your full name to it as a string. How would you print the \n",
    "value of this variable?"
   ]
  },
  {
   "cell_type": "code",
   "execution_count": 7,
   "metadata": {},
   "outputs": [
    {
     "name": "stdout",
     "output_type": "stream",
     "text": [
      "Ayush Gautam\n"
     ]
    }
   ],
   "source": [
    "name = \"Ayush Gautam\"\n",
    "print(name)"
   ]
  },
  {
   "cell_type": "markdown",
   "metadata": {},
   "source": [
    "Q10. Given the string \"Hello, World!\", extract the substring \"World\""
   ]
  },
  {
   "cell_type": "code",
   "execution_count": 10,
   "metadata": {},
   "outputs": [
    {
     "name": "stdout",
     "output_type": "stream",
     "text": [
      "World\n"
     ]
    }
   ],
   "source": [
    "str = \"Hello, World\"\n",
    "\n",
    "print(str[7:12])"
   ]
  },
  {
   "cell_type": "markdown",
   "metadata": {},
   "source": [
    "Q11. Create a variable named \"is_student\" and assign it a boolean value indicating whether you are currently a student or not."
   ]
  },
  {
   "cell_type": "code",
   "execution_count": 11,
   "metadata": {},
   "outputs": [
    {
     "name": "stdout",
     "output_type": "stream",
     "text": [
      "True\n"
     ]
    }
   ],
   "source": [
    "is_student = 1 \n",
    "# or is_student = true\n",
    "\n",
    "print(bool(is_student))"
   ]
  }
 ],
 "metadata": {
  "kernelspec": {
   "display_name": "Python 3",
   "language": "python",
   "name": "python3"
  },
  "language_info": {
   "codemirror_mode": {
    "name": "ipython",
    "version": 3
   },
   "file_extension": ".py",
   "mimetype": "text/x-python",
   "name": "python",
   "nbconvert_exporter": "python",
   "pygments_lexer": "ipython3",
   "version": "3.11.5"
  },
  "orig_nbformat": 4
 },
 "nbformat": 4,
 "nbformat_minor": 2
}
