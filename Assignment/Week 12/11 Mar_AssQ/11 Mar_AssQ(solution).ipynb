{
 "cells": [
  {
   "cell_type": "markdown",
   "metadata": {},
   "source": [
    "# Q1: What is the difference between a t-test and a z-test? Provide an example scenario where you would use each type of test."
   ]
  },
  {
   "cell_type": "markdown",
   "metadata": {},
   "source": [
    "**1. T-test:**\n",
    "- **Assumptions:** The t-test assumes that the population standard deviation is unknown and must be estimated from the sample. It also assumes that the data follows a normal distribution.\n",
    "- **use:** T-tests are commonly used when the sample size is small and the population standard deviation is unknown. They are often used to compare means between two groups.\n",
    "\n",
    "**Example:** Suppose you want to compare the mean test scores of two different groups of students . Since you don't know the population standard deviation of test scores and your sample size for each group is relatively small, you would use a t-test to determine if there is a significant difference in the mean test scores between the two groups.\n",
    "\n",
    "**2. Z-test:**\n",
    "- **Assumptions:** The z-test assumes that the population standard deviation is known. It also assumes that the data follows a normal distribution.\n",
    "- **use:** Z-tests are used when the sample size is large and the population standard deviation is known. They are often used in situations where you want to compare a sample mean to a known population mean or test a hypothesis about a population mean.\n",
    "\n",
    "**Example:** Suppose you are a quality control manager at a beverage company and you want to test if the mean volume of a particular product filling the bottles is different from the industry standard mean volume of the same product. Since you have a large sample size and you know the population standard deviation of the volume, you would use a z-test to determine if there is a significant difference between the sample mean volume and the industry standard mean volume."
   ]
  },
  {
   "cell_type": "markdown",
   "metadata": {},
   "source": [
    "#  Q2: Differentiate between one-tailed and two-tailed tests."
   ]
  },
  {
   "cell_type": "markdown",
   "metadata": {},
   "source": [
    "**1. One-tailed Test:**\n",
    "- **Directionality:** In a one-tailed test, the hypothesis specifies the direction of the effect, but not both.\n",
    "- **Critical Region:** The critical region for rejection is located entirely in one tail of the distribution.\n",
    "- **Interpretation:** A one-tailed test is used when the researcher is specifically interested in whether the sample mean is significantly greater than or less than a certain value, but not both.\n",
    "- **Example:** If a researcher is testing whether a new medication increases patient recovery time, they would use a one-tailed test because they are only interested in whether the medication decreases recovery time.\n",
    "\n",
    "**2. Two-tailed Test:**\n",
    "- **Directionality:** In a two-tailed test, the hypothesis does not specify the direction of the effect; it merely tests whether there is a significant difference, regardless of the direction.\n",
    "- **Critical Region:** The critical region for rejection is divided into two tails of the distribution.\n",
    "- **Interpretation:** A two-tailed test is used when the researcher wants to determine if there is a significant difference between groups or conditions, but does not have a specific directional hypothesis.\n",
    "- **Example:** If a researcher is testing whether a new teaching method affects student exam scores, they might use a two-tailed test because they are interested in whether the teaching method has any effect on scores, regardless of whether it increases or decreases them."
   ]
  },
  {
   "cell_type": "markdown",
   "metadata": {},
   "source": [
    "#  Q3: Explain the concept of Type 1 and Type 2 errors in hypothesis testing. Provide an example scenario for each type of error."
   ]
  },
  {
   "cell_type": "markdown",
   "metadata": {},
   "source": [
    "**1. Type I Error:**\n",
    "- **Definition:** A Type I error, also known as a \"false positive,\" occurs when the null hypothesis is incorrectly rejected when it is actually true. The probability of committing a Type I error is denoted by the symbol α and is often referred to as the significance level.\n",
    "- **Example Scenario:** Suppose a medical researcher is testing a new drug to see if it reduces blood pressure. The null hypothesis states that the drug has no effect on blood pressure. However, due to random chance or experimental error, the researcher concludes that the drug does reduce blood pressure when, in fact, it does not. This is a Type I error.\n",
    "\n",
    "**2. Type II Error:**\n",
    "- **Definition:** A Type II error, also known as a \"false negative,\" occurs when the null hypothesis is incorrectly accepted when it is actually false. The probability of committing a Type II error is denoted by the symbol β .\n",
    "- **Example Scenario:** Continuing with the previous example, suppose the new drug actually does reduce blood pressure , but the medical researcher fails to detect this effect in the study. As a result, the researcher incorrectly fails to reject the null hypothesis, concluding that the drug does not reduce blood pressure when, in fact, it does. This is a Type II error."
   ]
  },
  {
   "cell_type": "markdown",
   "metadata": {},
   "source": [
    "#  Q4:  Explain Bayes's theorem with an example."
   ]
  },
  {
   "cell_type": "markdown",
   "metadata": {},
   "source": [
    "Bayes's theorem is a fundamental concept in probability theory that describes the probability of an event based on prior knowledge or conditions related to the event. It provides a way to update our beliefs about the likelihood of an event occurring as new evidence becomes available.\n",
    "\n",
    "Bayes's theorem is expressed mathematically as:\n",
    "\n",
    "[ P(A|B) = P(B|A) * P(A) / P(B) ]\n",
    "\n",
    "Where:\n",
    "- ( P(A|B) ) is the probability of event A occurring given that event B has occurred.\n",
    "- ( P(B|A) ) is the probability of event B occurring given that event A has occurred.\n",
    "- ( P(A) ) is the prior probability of event A.\n",
    "- ( P(B) ) is the prior probability of event B."
   ]
  },
  {
   "cell_type": "markdown",
   "metadata": {},
   "source": [
    "# Q5: What is a confidence interval? How to calculate the confidence interval, explain with an example."
   ]
  },
  {
   "cell_type": "markdown",
   "metadata": {},
   "source": [
    "A confidence interval is a range of values that is likely to contain the true population parameter with a certain level of confidence. It is a measure of the uncertainty or variability associated with estimating a population parameter from a sample statistic.\n",
    "\n",
    "**Calculation of Confidence Interval:**\n",
    "\n",
    "The general formula for calculating a confidence interval for a population mean (μ) based on a sample is:\n",
    "\n",
    "Confidence Interval = bar{x} +- ( Z * (s / sqrt{n} ) ) \n",
    "\n",
    "Where:\n",
    "- ( bar{x} ) is the sample mean.\n",
    "- ( Z ) is the critical value from the standard normal distribution corresponding to the desired confidence level. For example, for a 95% confidence level, ( Z ) is approximately 1.96.\n",
    "- ( s ) is the sample standard deviation.\n",
    "- ( n ) is the sample size."
   ]
  },
  {
   "cell_type": "markdown",
   "metadata": {},
   "source": [
    "# Q6. Use Bayes' Theorem to calculate the probability of an event occurring given prior knowledge of the event's probability and new evidence. Provide a sample problem and solution."
   ]
  },
  {
   "cell_type": "markdown",
   "metadata": {},
   "source": [
    "**Problem:**\n",
    "\n",
    "Suppose a factory produces widgets, and on average, 5% of the widgets are defective. A quality control inspector randomly selects a widget from the production line and performs a test that correctly identifies defective widgets 90% of the time (sensitivity), but also incorrectly flags non-defective widgets as defective 5% of the time (false positive rate).\n",
    "\n",
    "Given this information, what is the probability that a randomly selected widget is defective if it tests positive?\n",
    "\n",
    "**Solution:**\n",
    "\n",
    "Let's define the following events:\n",
    "- A: The event that a randomly selected widget is defective.\n",
    "- B: The event that a randomly selected widget tests positive for being defective.\n",
    "\n",
    "We are asked to find ( P(A|B) ), the probability that a widget is defective given that it tests positive.\n",
    "\n",
    "According to Bayes' Theorem:\n",
    "\n",
    "[ P(A|B) = P(B|A) * P(A) / P(B) ]\n",
    "\n",
    "We already have:\n",
    "- ( P(A) ): The prior probability of a widget being defective, which is 0.05 (5%).\n",
    "- ( P(B|A) ): The probability of a positive test given that the widget is defective, which is the sensitivity of the test, 0.90 (90%).\n",
    "- ( P(A) ): The prior probability of a widget not being defective, which is 1 - 0.05 = 0.95.\n",
    "- ( P(B|A) ): The probability of a positive test given that the widget is not defective, which is the false positive rate, 0.05 (5%).\n",
    "\n",
    "Now, let's calculate P(B), the total probability of testing positive:\n",
    "[ P(B) = (0.90 * 0.05) + (0.05 * 0.95) ]\n",
    "[ P(B) = 0.045 + 0.0475 ]\n",
    "[ P(B) = 0.0925 ]\n",
    "\n",
    "Now, we can substitute the values into Bayes' Theorem:\n",
    "[ P(A|B) = {0.90 * 0.05} / {0.0925} ]\n",
    "[ P(A|B) = {0.045} / {0.0925} ]\n",
    "[ P(A|B) = 0.4865 ]\n",
    "\n",
    "So, the probability that a randomly selected widget is defective given that it tests positive is approximately 0.4865 which is  48.65%."
   ]
  },
  {
   "cell_type": "markdown",
   "metadata": {},
   "source": [
    "#  Q7. Calculate the 95% confidence interval for a sample of data with a mean of 50 and a standard deviation of 5. Interpret the results."
   ]
  },
  {
   "cell_type": "markdown",
   "metadata": {},
   "source": [
    "To calculate the 95% confidence interval for a sample of data with a mean of 50 and a standard deviation of 5, we'll use the formula for the confidence interval for a population mean:\n",
    "\n",
    "Confidence Interval = bar{x} +- ( Z * (s / sqrt{n} ) ) \n",
    "\n",
    "Where:\n",
    "- ( bar{x} ) is the sample mean (given as 50).\n",
    "- ( s ) is the sample standard deviation (given as 5).\n",
    "- ( n ) is the sample size (not given, but not needed for this calculation as it cancels out when using a population standard deviation).\n",
    "- ( Z ) is the critical value from the standard normal distribution corresponding to the desired confidence level (95% confidence level corresponds to a Z-value of approximately 1.96).\n",
    "\n",
    "Substituting the given values:\n",
    "\n",
    "[ Confidence Interval = 50 +- 1.96 * 5 / sqrt{n} ]\n",
    "\n",
    "Now, let's calculate the margin of error:\n",
    "\n",
    "[Margin of Error = 1.96 * 5 / sqrt{n} ]\n"
   ]
  },
  {
   "cell_type": "markdown",
   "metadata": {},
   "source": [
    "# Q8. What is the margin of error in a confidence interval? How does sample size affect the margin of error? Provide an example of a scenario where a larger sample size would result in a smaller margin of error."
   ]
  },
  {
   "cell_type": "markdown",
   "metadata": {},
   "source": [
    "The margin of error in a confidence interval is a measure of the precision or uncertainty associated with estimating a population parameter based on a sample statistic. It represents the amount by which the sample statistic (such as the sample mean) might differ from the true population parameter.\n",
    "\n",
    "The margin of error is calculated using the formula:\n",
    "\n",
    "[ Margin of Error = Z * ( s / sqrt{n}) ]\n",
    "\n",
    "The margin of error is inversely proportional to the square root of the sample size ( n ). This means that as the sample size increases, the margin of error decreases, and vice versa. In other words, larger sample sizes result in smaller margins of error, leading to more precise estimates of the population parameter.\n",
    "\n",
    "**Example :**\n",
    "\n",
    "Suppose a polling organization wants to estimate the proportion of voters in a city who support a certain candidate. They decide to conduct a survey and collect data from a sample of voters.\n",
    "\n",
    "- Scenario 1: The organization surveys 100 voters.\n",
    "- Scenario 2: The organization surveys 1000 voters.\n",
    "\n",
    "Assuming the same level of confidence for both scenarios, the margin of error will be smaller in Scenario 2 (with a larger sample size) compared to Scenario 1. This is because the larger sample size in Scenario 2 reduces the variability in the sample mean and leads to a more precise estimate of the true proportion of voters supporting the candidate.\n",
    "\n",
    "Therefore, in scenarios where precision is crucial, such as in political polling, market research, or quality control in manufacturing, a larger sample size is preferred to minimize the margin of error and obtain more accurate estimates of population parameters."
   ]
  },
  {
   "cell_type": "markdown",
   "metadata": {},
   "source": [
    "#  Q9. Calculate the z-score for a data point with a value of 75, a population mean of 70, and a population standard deviation of 5. Interpret the results."
   ]
  },
  {
   "cell_type": "markdown",
   "metadata": {},
   "source": [
    "To calculate the z-score for a data point, we use the formula:\n",
    "\n",
    "[ Z = {X - u} / {sigma} ]\n",
    "\n",
    "Where:\n",
    "- ( X ) is the value of the data point (given as 75).\n",
    "- ( u ) is the population mean (given as 70).\n",
    "- ( sigma ) is the population standard deviation (given as 5).\n",
    "\n",
    "Substituting the given values into the formula:\n",
    "\n",
    "[ Z = {75 - 70}{5} ]\n",
    "\n",
    "[ Z = 5 / 5]\n",
    "\n",
    "[ Z = 1 ]\n",
    "\n",
    "The calculated z-score is 1. This means that the data point with a value of 75 is 1 standard deviation above the population mean of 70. In other words, the data point is relatively high compared to the average value of the population, as indicated by its positive z-score."
   ]
  },
  {
   "cell_type": "markdown",
   "metadata": {},
   "source": [
    "#  Q10. In a study of the effectiveness of a new weight loss drug, a sample of 50 participants lost an average of 6 pounds with a standard deviation of 2.5 pounds. Conduct a hypothesis test to determine if the drug is significantly effective at a 95% confidence level using a t-test."
   ]
  },
  {
   "cell_type": "markdown",
   "metadata": {},
   "source": [
    "**Null Hypothesis (H0):** The weight loss drug is not significantly effective; the mean weight loss with the drug ( u ) is equal to 0 pounds.\n",
    "\n",
    "**Alternative Hypothesis (H1):** The weight loss drug is significantly effective; the mean weight loss with the drug ( u ) is not equal to 0 pounds.\n",
    "\n",
    "Given:\n",
    "- Sample size ( n ): 50 participants\n",
    "- Sample mean ( bar{x} ): 6 pounds\n",
    "- Sample standard deviation ( s ): 2.5 pounds\n",
    "- Confidence level: 95%\n",
    "\n",
    "First, we calculate the t-statistic using the formula:\n",
    "[ t = ( bar{x} - u) / (s / sqrt{n} ) ]\n",
    "\n",
    "Substituting the given values, we get :\n",
    "\n",
    "t = 10.392\n",
    "\n",
    "Now, we look up the critical t-value from the t-distribution table for a two-tailed test with ( df = n - 1 = 50 - 1 = 49 ) and a confidence level of 95%. The critical t-value is 2.009.\n",
    "\n",
    "Since the calculated t-statistic (10.392) is greater than the critical t-value (2.009), we reject the null hypothesis.\n",
    "\n",
    "**Conclusion:**\n",
    "At a 95% confidence level, there is sufficient evidence to conclude that the weight loss drug is significantly effective, as the mean weight loss with the drug is statistically different from 0 pounds."
   ]
  },
  {
   "cell_type": "markdown",
   "metadata": {},
   "source": [
    "# Q11. In a survey of 500 people, 65% reported being satisfied with their current job. Calculate the 95% confidence interval for the true proportion of people who are satisfied with their job."
   ]
  },
  {
   "cell_type": "markdown",
   "metadata": {},
   "source": [
    "To calculate the 95% confidence interval for the true proportion of people who are satisfied with their job, we'll use the formula for the confidence interval for a population proportion:\n",
    "\n",
    "Confidence Interval = hat{p} +- Z * sqrt{ hat{p} (1-hat{p}) / n }\n",
    "\n",
    "Where:\n",
    "- ( hat{p} ) is the sample proportion (given as 65%, which is 0.65).\n",
    "- ( Z ) is the critical value from the standard normal distribution corresponding to the desired confidence level (95% confidence level corresponds to a Z-value of approximately 1.96).\n",
    "- ( n ) is the sample size (given as 500).\n",
    "\n",
    "Substituting the given values into the formula:\n",
    "we get,\n",
    "\n",
    "standerd error = 0.0223\n",
    "\n",
    "Now, let's calculate the margin of error:\n",
    "[ Margin of Error = 1.96 * 0.0223 ]\n",
    "[ Margin of Error =  0.0437 ]\n",
    "\n",
    "Now, we can calculate the confidence interval:\n",
    "[ Confidence Interval = 0.65 +- 0.0437 ]\n",
    "\n",
    "So, the 95% confidence interval for the true proportion of people who are satisfied with their job is approximately (0.6063, 0.6937) .\n",
    "\n",
    "Interpretation:\n",
    "We are 95% confident that the true proportion of people who are satisfied with their job lies within the range of 60.63% to 69.37%, based on the survey data of 500 people."
   ]
  },
  {
   "cell_type": "markdown",
   "metadata": {},
   "source": [
    "# Q12. A researcher is testing the effectiveness of two different teaching methods on student performance. Sample A has a mean score of 85 with a standard deviation of 6, while sample B has a mean score of 82 with a standard deviation of 5. Conduct a hypothesis test to determine if the two teaching methods have a significant difference in student performance using a t-test with a significance level of 0.01."
   ]
  },
  {
   "cell_type": "markdown",
   "metadata": {},
   "source": [
    "To determine if there is a significant difference in student performance between the two teaching methods, we can conduct an independent samples t-test. The null hypothesis ( H0 ) is that there is no difference in the mean scores between the two teaching methods, while the alternative hypothesis H1 is that there is a difference in the mean scores between the two teaching methods.\n",
    "\n",
    "Given:\n",
    "- Sample A: bar{x}A = 85 , S(a) = 6 \n",
    "- Sample B: bar{x}B = 82 , S(b) = 5 \n",
    "- Significance level ( alpha ): 0.01 = 1%\n",
    "\n",
    "**Define the hypotheses:**\n",
    "- Null Hypothesis (H0): uA = uB (There is no difference in mean scores between the two teaching methods.)\n",
    "- Alternative Hypothesis (H1): uA not equal to uB (There is a difference in mean scores between the two teaching methods.)\n",
    "\n",
    "**Calculate the t-statistic:**\n",
    "\n",
    "The formula for the t-statistic in an independent samples t-test is:\n",
    "\n",
    "[ t = ( bar{x}A - bar{x}B) sqrt{ (sA^2 / nA) + (sB^2 / nB) }]\n",
    "\n",
    "**Determine the critical t-value:**\n",
    "\n",
    "With a significance level of 0.01 and degrees of freedom ( df = nA + nB - 2 ) (for independent samples t-test), we can determine the critical t-value using statistical tables or software.\n",
    "\n",
    "**Make a decision:**\n",
    "\n",
    "If the calculated t-statistic is greater than the critical t-value, we reject the null hypothesis ( H0 ), indicating a significant difference in student performance between the two teaching methods. Otherwise, we fail to reject the null hypothesis."
   ]
  },
  {
   "cell_type": "markdown",
   "metadata": {},
   "source": [
    "# Q13. A population has a mean of 60 and a standard deviation of 8. A sample of 50 observations has a mean of 65. Calculate the 90% confidence interval for the true population mean."
   ]
  },
  {
   "cell_type": "markdown",
   "metadata": {},
   "source": [
    "To calculate the 90% confidence interval for the true population mean, we'll use the formula for the confidence interval for a population mean:\n",
    "\n",
    "Confidence Interval = bar{x} +- Z * {sigma / sqrt{n} }\n",
    "\n",
    "Where:\n",
    "- bar{x} is the sample mean (given as 65).\n",
    "- ( Z ) is the critical value from the standard normal distribution corresponding to the desired confidence level (90% confidence level corresponds to a Z-value of approximately 1.645).\n",
    "- ( sigma ) is the population standard deviation (given as 8).\n",
    "- ( n ) is the sample size (given as 50).\n",
    "\n",
    "Now, let's calculate the standard error of the mean:\n",
    "Standard Error = 8 / sqrt{50}\n",
    "Standard Error = 1.131\n",
    "\n",
    "Now, let's calculate the margin of error:\n",
    "Margin of Error = 1.645 * 1.131\n",
    "Margin of Error =  1.860 \n",
    "\n",
    "Now, we can calculate the confidence interval:\n",
    "Confidence Interval = 65 +- 1.860\n",
    "\n",
    "So, the 90% confidence interval for the true population mean is approximately (63.14, 66.86) .\n",
    "\n",
    "We are 90% confident that the true population mean lies within the range of 63.14 to 66.86, based on the sample data of 50 observations with a mean of 65 and a population standard deviation of 8."
   ]
  },
  {
   "cell_type": "markdown",
   "metadata": {},
   "source": [
    "# Q14. In a study of the effects of caffeine on reaction time, a sample of 30 participants had an average reaction time of 0.25 seconds with a standard deviation of 0.05 seconds. Conduct a hypothesis test to determine if the caffeine has a significant effect on reaction time at a 90% confidence level using a t-test."
   ]
  },
  {
   "cell_type": "markdown",
   "metadata": {},
   "source": [
    "To conduct a hypothesis test to determine if caffeine has a significant effect on reaction time at a 90% confidence level using a t-test, we need to set up the null and alternative hypotheses, calculate the t-statistic, and compare it to the critical t-value.\n",
    "\n",
    "Given:\n",
    "- Sample size ( n ): 30 participants\n",
    "- Sample mean ( bar{x} ): 0.25 seconds\n",
    "- Sample standard deviation ( s ): 0.05 seconds\n",
    "- Confidence level: 90%\n",
    "\n",
    "**Define the hypotheses:**\n",
    "- Null Hypothesis ( H0 ): Caffeine has no significant effect on reaction time ( u = 0 ).\n",
    "- Alternative Hypothesis ( H1 ): Caffeine has a significant effect on reaction time ( u not equal 0 ).\n",
    "\n",
    "**Calculate the t-statistic:**\n",
    "\n",
    "The formula for the t-statistic for a single sample t-test is:\n",
    "\n",
    "[ t = {bar{x} - u} / ( s / sqrt{n} )]\n",
    "\n",
    "Given values:\n",
    "- ( bar{x} = 0.25 )\n",
    "- ( u = 0 )\n",
    "- ( s = 0.05 )\n",
    "- ( n = 30 )\n",
    "\n",
    "so, \n",
    "\n",
    "t = 27.39 \n",
    "\n",
    "**Determine the critical t-value:**\n",
    "\n",
    "With a confidence level of 90% and degrees of freedom ( df = n - 1 = 30 - 1 = 29 ), we can determine the critical t-value using statistical tables or software. For a two-tailed test and a confidence level of 90%, the critical t-value is approximately 1.699.\n",
    "\n",
    "**decision:**\n",
    "\n",
    "Since the absolute value of the calculated t-statistic (27.39) is greater than the critical t-value (1.699), we reject the null hypothesis.\n",
    "\n",
    "**Conclusion:**\n",
    "\n",
    "At a 90% confidence level, there is sufficient evidence to conclude that caffeine has a significant effect on reaction time."
   ]
  }
 ],
 "metadata": {
  "kernelspec": {
   "display_name": "Python 3",
   "language": "python",
   "name": "python3"
  },
  "language_info": {
   "codemirror_mode": {
    "name": "ipython",
    "version": 3
   },
   "file_extension": ".py",
   "mimetype": "text/x-python",
   "name": "python",
   "nbconvert_exporter": "python",
   "pygments_lexer": "ipython3",
   "version": "3.11.5"
  },
  "orig_nbformat": 4
 },
 "nbformat": 4,
 "nbformat_minor": 2
}
