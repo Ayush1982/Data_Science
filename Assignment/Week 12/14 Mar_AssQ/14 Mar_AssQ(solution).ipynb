{
 "cells": [
  {
   "cell_type": "markdown",
   "metadata": {},
   "source": [
    "# Q1. Write a Python function that takes in two arrays of data and calculates the F-value for a variance ratio test. The function should return the F-value and the corresponding p-value for the test."
   ]
  },
  {
   "cell_type": "code",
   "execution_count": 1,
   "metadata": {},
   "outputs": [
    {
     "name": "stdout",
     "output_type": "stream",
     "text": [
      "F-value: 1.0\n",
      "p-value: 1.0\n"
     ]
    }
   ],
   "source": [
    "import numpy as np\n",
    "from scipy.stats import f\n",
    "\n",
    "def calculate_f_value(data1, data2):\n",
    "\n",
    "    var1 = np.var(data1, ddof=1)\n",
    "    var2 = np.var(data2, ddof=1)\n",
    "\n",
    "    F = var1 / var2 if var1 >= var2 else var2 / var1\n",
    "\n",
    "    df1 = len(data1) - 1\n",
    "    df2 = len(data2) - 1\n",
    "\n",
    "    p_value = 2 * min(f.cdf(F, df1, df2), 1 - f.cdf(F, df1, df2))\n",
    "    return F, p_value\n",
    "\n",
    "data1 = [1, 2, 3, 4, 5]\n",
    "data2 = [3, 4, 5, 6, 7]\n",
    "F_value, p_value = calculate_f_value(data1, data2)\n",
    "print(\"F-value:\", F_value)\n",
    "print(\"p-value:\", p_value)\n"
   ]
  },
  {
   "cell_type": "markdown",
   "metadata": {},
   "source": [
    "#  Q2. Given a significance level of 0.05 and the degrees of freedom for the numerator and denominator of an F-distribution, write a Python function that returns the critical F-value for a two-tailed test."
   ]
  },
  {
   "cell_type": "code",
   "execution_count": 2,
   "metadata": {},
   "outputs": [
    {
     "name": "stdout",
     "output_type": "stream",
     "text": [
      "Critical F-value: 4.825621493405406\n"
     ]
    }
   ],
   "source": [
    "from scipy.stats import f\n",
    "\n",
    "def get_critical_f_value(alpha, df_num, df_denom):\n",
    "\n",
    "    critical_f_value = f.ppf(1 - alpha / 2, df_num, df_denom)\n",
    "    \n",
    "    return critical_f_value\n",
    "\n",
    "alpha = 0.05\n",
    "df_num = 3\n",
    "df_denom = 10\n",
    "\n",
    "critical_f_value = get_critical_f_value(alpha, df_num, df_denom)\n",
    "print(\"Critical F-value:\", critical_f_value)\n"
   ]
  },
  {
   "cell_type": "markdown",
   "metadata": {},
   "source": [
    "# Q3. Write a Python program that generates random samples from two normal distributions with known variances and uses an F-test to determine if the variances are equal. The program should output the F value, degrees of freedom, and p-value for the test."
   ]
  },
  {
   "cell_type": "code",
   "execution_count": 4,
   "metadata": {},
   "outputs": [
    {
     "name": "stdout",
     "output_type": "stream",
     "text": [
      "F-value: 3.1231806671249713\n",
      "Degrees of freedom (numerator): 19\n",
      "Degrees of freedom (denominator): 19\n",
      "p-value: 0.01690764010247059\n"
     ]
    }
   ],
   "source": [
    "import numpy as np\n",
    "from scipy.stats import f\n",
    "\n",
    "def f_test_equal_variances(data1, data2):\n",
    "\n",
    "    var1 = np.var(data1, ddof=1)\n",
    "    var2 = np.var(data2, ddof=1)\n",
    "\n",
    "    F = var1 / var2 if var1 >= var2 else var2 / var1\n",
    "\n",
    "    df1 = len(data1) - 1\n",
    "    df2 = len(data2) - 1\n",
    "\n",
    "    p_value = 2 * min(f.cdf(F, df1, df2), 1 - f.cdf(F, df1, df2))\n",
    "\n",
    "    return F, df1, df2, p_value\n",
    "\n",
    "np.random.seed(0) \n",
    "variance1 = 5\n",
    "variance2 = 8\n",
    "sample_size = 20\n",
    "data1 = np.random.normal(loc=0, scale=np.sqrt(variance1), size=sample_size)\n",
    "data2 = np.random.normal(loc=0, scale=np.sqrt(variance2), size=sample_size)\n",
    "\n",
    "F_value, df1, df2, p_value = f_test_equal_variances(data1, data2)\n",
    "\n",
    "print(\"F-value:\", F_value)\n",
    "print(\"Degrees of freedom (numerator):\", df1)\n",
    "print(\"Degrees of freedom (denominator):\", df2)\n",
    "print(\"p-value:\", p_value)\n"
   ]
  },
  {
   "cell_type": "markdown",
   "metadata": {},
   "source": [
    "#  Q4.The variances of two populations are known to be 10 and 15. A sample of 12 observations is taken from each population. Conduct an F-test at the 5% significance level to determine if the variances are significantly different."
   ]
  },
  {
   "cell_type": "code",
   "execution_count": 3,
   "metadata": {},
   "outputs": [
    {
     "name": "stdout",
     "output_type": "stream",
     "text": [
      "Fail to reject the null hypothesis. Variances are not significantly different.\n",
      "F-statistic: 0.6666666666666666\n",
      "Critical F-value: 3.473699051085809\n",
      "Degrees of freedom (numerator): 11\n",
      "Degrees of freedom (denominator): 11\n"
     ]
    }
   ],
   "source": [
    "from scipy.stats import f\n",
    "\n",
    "variance1 = 10\n",
    "variance2 = 15\n",
    "sample_size = 12\n",
    "alpha = 0.05\n",
    "\n",
    "\n",
    "F_statistic = variance1 / variance2\n",
    "\n",
    "df1 = sample_size - 1\n",
    "df2 = sample_size - 1\n",
    "critical_f_value = f.ppf(1 - alpha / 2, df1, df2)\n",
    "\n",
    "if F_statistic > critical_f_value:\n",
    "    print(\"Reject the null hypothesis. Variances are significantly different.\")\n",
    "else:\n",
    "    print(\"Fail to reject the null hypothesis. Variances are not significantly different.\")\n",
    "\n",
    "print(\"F-statistic:\", F_statistic)\n",
    "print(\"Critical F-value:\", critical_f_value)\n",
    "print(\"Degrees of freedom (numerator):\", df1)\n",
    "print(\"Degrees of freedom (denominator):\", df2)\n"
   ]
  },
  {
   "cell_type": "markdown",
   "metadata": {},
   "source": [
    "# Q5. A manufacturer claims that the variance of the diameter of a certain product is 0.005. A sample of 25 products is taken, and the sample variance is found to be 0.006. Conduct an F-test at the 1% significance level to determine if the claim is justified."
   ]
  },
  {
   "cell_type": "code",
   "execution_count": 5,
   "metadata": {},
   "outputs": [
    {
     "name": "stdout",
     "output_type": "stream",
     "text": [
      "Fail to reject the null hypothesis. The claim is justified.\n",
      "F-statistic: 1.2\n",
      "Critical F-value: 2.966741631292762\n",
      "Degrees of freedom (numerator): 24\n",
      "Degrees of freedom (denominator): 24\n"
     ]
    }
   ],
   "source": [
    "from scipy.stats import f\n",
    "\n",
    "claim_variance = 0.005\n",
    "sample_variance = 0.006\n",
    "sample_size = 25\n",
    "alpha = 0.01  \n",
    "\n",
    "F_statistic = sample_variance / claim_variance\n",
    "df1 = sample_size - 1\n",
    "df2 = sample_size - 1\n",
    "\n",
    "critical_f_value = f.ppf(1 - alpha / 2, df1, df2)\n",
    "\n",
    "\n",
    "if F_statistic > critical_f_value:\n",
    "    print(\"Reject the null hypothesis. The claim is not justified.\")\n",
    "else:\n",
    "    print(\"Fail to reject the null hypothesis. The claim is justified.\")\n",
    "\n",
    "print(\"F-statistic:\", F_statistic)\n",
    "print(\"Critical F-value:\", critical_f_value)\n",
    "print(\"Degrees of freedom (numerator):\", df1)\n",
    "print(\"Degrees of freedom (denominator):\", df2)\n"
   ]
  },
  {
   "cell_type": "markdown",
   "metadata": {},
   "source": [
    "#  Q6. Write a Python function that takes in the degrees of freedom for the numerator and denominator of an F-distribution and calculates the mean and variance of the distribution. The function should return the mean and variance as a tuple."
   ]
  },
  {
   "cell_type": "code",
   "execution_count": 6,
   "metadata": {},
   "outputs": [
    {
     "name": "stdout",
     "output_type": "stream",
     "text": [
      "Mean: 1.25\n",
      "Variance: 1.3541666666666667\n"
     ]
    }
   ],
   "source": [
    "def calculate_f_distribution_mean_and_variance(df_num, df_denom):\n",
    "    mean = df_denom / (df_denom - 2)\n",
    "    variance = (2 * (df_denom ** 2) * (df_num + df_denom - 2)) / ((df_num * (df_denom - 2) ** 2) * (df_denom - 4))\n",
    "\n",
    "    return mean, variance\n",
    "\n",
    "\n",
    "df_num = 5\n",
    "df_denom = 10\n",
    "mean, variance = calculate_f_distribution_mean_and_variance(df_num, df_denom)\n",
    "print(\"Mean:\", mean)\n",
    "print(\"Variance:\", variance)\n"
   ]
  },
  {
   "cell_type": "markdown",
   "metadata": {},
   "source": [
    "#  Q7. A random sample of 10 measurements is taken from a normal population with unknown variance. The sample variance is found to be 25. Another random sample of 15 measurements is taken from another normal population with unknown variance, and the sample variance is found to be 20. Conduct an F-test at the 10% significance level to determine if the variances are significantly different."
   ]
  },
  {
   "cell_type": "code",
   "execution_count": 9,
   "metadata": {},
   "outputs": [
    {
     "name": "stdout",
     "output_type": "stream",
     "text": [
      "Fail to reject the null hypothesis. Variances are not significantly different.\n",
      "F-statistic: 1.25\n",
      "Critical F-value: 2.6457907352338195\n",
      "Degrees of freedom (numerator): 9\n",
      "Degrees of freedom (denominator): 14\n"
     ]
    }
   ],
   "source": [
    "from scipy.stats import f\n",
    "\n",
    "sample_variance1 = 25\n",
    "sample_variance2 = 20\n",
    "sample_size1 = 10\n",
    "sample_size2 = 15\n",
    "alpha = 0.10 \n",
    "\n",
    "F_statistic = sample_variance1 / sample_variance2\n",
    "\n",
    "df1 = sample_size1 - 1\n",
    "df2 = sample_size2 - 1\n",
    "\n",
    "critical_f_value = f.ppf(1 - alpha / 2, df1, df2)\n",
    "\n",
    "if F_statistic > critical_f_value:\n",
    "    print(\"Reject the null hypothesis. Variances are significantly different.\")\n",
    "else:\n",
    "    print(\"Fail to reject the null hypothesis. Variances are not significantly different.\")\n",
    "\n",
    "print(\"F-statistic:\", F_statistic)\n",
    "print(\"Critical F-value:\", critical_f_value)\n",
    "print(\"Degrees of freedom (numerator):\", df1)\n",
    "print(\"Degrees of freedom (denominator):\", df2)\n"
   ]
  },
  {
   "cell_type": "markdown",
   "metadata": {},
   "source": [
    "# Q8. The following data represent the waiting times in minutes at two different restaurants on a Saturday night: Restaurant A: 24, 25, 28, 23, 22, 20, 27; Restaurant B: 31, 33, 35, 30, 32, 36. Conduct an F-test at the 5% significance level to determine if the variances are significantly different."
   ]
  },
  {
   "cell_type": "code",
   "execution_count": null,
   "metadata": {},
   "outputs": [],
   "source": [
    "from scipy.stats import f\n",
    "\n",
    "restaurant_A = [24, 25, 28, 23, 22, 20, 27]\n",
    "restaurant_B = [31, 33, 35, 30, 32, 36]\n",
    "\n",
    "alpha = 0.05 \n",
    "variance_A = np.var(restaurant_A, ddof=1)\n",
    "variance_B = np.var(restaurant_B, ddof=1)\n",
    "\n",
    "n_A = len(restaurant_A)\n",
    "n_B = len(restaurant_B)\n",
    "df1 = n_A - 1\n",
    "df2 = n_B - 1\n",
    "\n",
    "F_statistic = variance_A / variance_B\n",
    "critical_F_value = f.ppf(1 - alpha / 2, df1, df2)\n",
    "\n",
    "if F_statistic > critical_F_value:\n",
    "    print(\"Reject the null hypothesis. Variances are significantly different.\")\n",
    "else:\n",
    "    print(\"Fail to reject the null hypothesis. Variances are not significantly different.\")\n",
    "\n",
    "print(\"F-statistic:\", F_statistic)\n",
    "print(\"Critical F-value:\", critical_F_value)\n",
    "print(\"Degrees of freedom (numerator):\", df1)\n",
    "print(\"Degrees of freedom (denominator):\", df2)\n"
   ]
  },
  {
   "cell_type": "markdown",
   "metadata": {},
   "source": [
    "# Q9. The following data represent the test scores of two groups of students: Group A: 80, 85, 90, 92, 87, 83; Group B: 75, 78, 82, 79, 81, 84. Conduct an F-test at the 1% significance level to determine if the variances are significantly different."
   ]
  },
  {
   "cell_type": "code",
   "execution_count": 8,
   "metadata": {},
   "outputs": [
    {
     "name": "stdout",
     "output_type": "stream",
     "text": [
      "Fail to reject the null hypothesis. Variances are not significantly different.\n",
      "F-statistic: 1.9442622950819677\n",
      "Critical F-value: 14.939605459912219\n",
      "Degrees of freedom (numerator): 5\n",
      "Degrees of freedom (denominator): 5\n"
     ]
    }
   ],
   "source": [
    "from scipy.stats import f\n",
    "\n",
    "group_A = [80, 85, 90, 92, 87, 83]\n",
    "group_B = [75, 78, 82, 79, 81, 84]\n",
    "alpha = 0.01\n",
    "\n",
    "variance_A = np.var(group_A, ddof=1)\n",
    "variance_B = np.var(group_B, ddof=1)\n",
    "\n",
    "n_A = len(group_A)\n",
    "n_B = len(group_B)\n",
    "df1 = n_A - 1\n",
    "df2 = n_B - 1\n",
    "\n",
    "F_statistic = variance_A / variance_B\n",
    "critical_F_value = f.ppf(1 - alpha / 2, df1, df2)\n",
    "\n",
    "if F_statistic > critical_F_value:\n",
    "    print(\"Reject the null hypothesis. Variances are significantly different.\")\n",
    "else:\n",
    "    print(\"Fail to reject the null hypothesis. Variances are not significantly different.\")\n",
    "\n",
    "print(\"F-statistic:\", F_statistic)\n",
    "print(\"Critical F-value:\", critical_F_value)\n",
    "print(\"Degrees of freedom (numerator):\", df1)\n",
    "print(\"Degrees of freedom (denominator):\", df2)\n"
   ]
  }
 ],
 "metadata": {
  "kernelspec": {
   "display_name": "Python 3",
   "language": "python",
   "name": "python3"
  },
  "language_info": {
   "codemirror_mode": {
    "name": "ipython",
    "version": 3
   },
   "file_extension": ".py",
   "mimetype": "text/x-python",
   "name": "python",
   "nbconvert_exporter": "python",
   "pygments_lexer": "ipython3",
   "version": "3.11.5"
  },
  "orig_nbformat": 4
 },
 "nbformat": 4,
 "nbformat_minor": 2
}
