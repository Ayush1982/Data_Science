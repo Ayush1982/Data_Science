{
 "cells": [
  {
   "cell_type": "markdown",
   "metadata": {},
   "source": [
    "## Q1. Explain Class and Object with respect to Object-Oriented Programming. Give a suitable example."
   ]
  },
  {
   "cell_type": "markdown",
   "metadata": {},
   "source": [
    "1.Class:\n",
    "     A class is a blueprint or template for creating objects. It defines the attributes and methods that objects of that class will have."
   ]
  },
  {
   "cell_type": "code",
   "execution_count": 3,
   "metadata": {},
   "outputs": [
    {
     "name": "stdout",
     "output_type": "stream",
     "text": [
      "<__main__.Dog object at 0x0000012F334AE150>\n"
     ]
    }
   ],
   "source": [
    "class Dog:\n",
    "    def __init__(self, name, breed):\n",
    "        self.name = name\n",
    "        self.breed = breed\n",
    "\n",
    "    def bark(self):\n",
    "        return self.name, self.breed\n",
    "\n",
    "dog = Dog(\"bulldog\", \"retriever\")\n",
    "print(dog)"
   ]
  },
  {
   "cell_type": "markdown",
   "metadata": {},
   "source": [
    "2.Object: An object is an instance of a class, created using the class blueprint. It represents a specific entity or instance of that class with its unique data and behavior.Objects are real entities in your program that can interact with other objects and perform actions based on the methods defined in their class."
   ]
  },
  {
   "cell_type": "code",
   "execution_count": 8,
   "metadata": {},
   "outputs": [
    {
     "name": "stdout",
     "output_type": "stream",
     "text": [
      "Buddy\n",
      "German Shepherd\n",
      "Buddy says Woof!\n",
      "Max fetches the ball\n"
     ]
    }
   ],
   "source": [
    "class Dog:\n",
    "    def __init__(self, name, breed):\n",
    "        self.name = name\n",
    "        self.breed = breed\n",
    "\n",
    "    def bark(self):\n",
    "        return f\"{self.name} says Woof!\"\n",
    "\n",
    "    def fetch(self, item):\n",
    "        return f\"{self.name} fetches the {item}\"\n",
    "\n",
    "\n",
    "dog1 = Dog(\"Buddy\", \"Golden Retriever\")\n",
    "dog2 = Dog(\"Max\", \"German Shepherd\")\n",
    "\n",
    "print(dog1.name)\n",
    "print(dog2.breed)\n",
    "print(dog1.bark())\n",
    "print(dog2.fetch(\"ball\"))\n"
   ]
  },
  {
   "cell_type": "markdown",
   "metadata": {},
   "source": [
    "## Q2. Name the four pillars of OOPs."
   ]
  },
  {
   "cell_type": "markdown",
   "metadata": {},
   "source": [
    "#### 1.Encapsulation:\n",
    "  It bundles data and methods into classes, enforcing controlled access to data for security and maintenance.\n",
    "\n",
    "#### 2.Inheritance: \n",
    "  It allows new classes to inherit attributes and methods from existing ones, promoting code reuse and hierarchy.\n",
    "\n",
    "#### 3.Polymorphism:\n",
    "  It enables objects of different classes to be treated as a common type, enhancing flexibility and dynamic behavior.\n",
    "\n",
    "#### 4.Abstraction:\n",
    "  It simplifies complex systems by modeling classes based on essential properties and behaviors, focusing on high-level interaction."
   ]
  },
  {
   "cell_type": "markdown",
   "metadata": {},
   "source": [
    "## Q3. Explain why the __init__() function is used. Give a suitable example."
   ]
  },
  {
   "cell_type": "markdown",
   "metadata": {},
   "source": [
    "The __init__() are known as the constructor. It is used in Python classes to initialize or set up the initial state of an object when it is created. Itis a special method that gets automatically called when an object of a class is instantiated."
   ]
  },
  {
   "cell_type": "code",
   "execution_count": 11,
   "metadata": {},
   "outputs": [
    {
     "name": "stdout",
     "output_type": "stream",
     "text": [
      "('Alice', 30)\n",
      "('Bob', 25)\n"
     ]
    }
   ],
   "source": [
    "class Person:\n",
    "    def __init__(self, name, age):\n",
    "        self.name = name\n",
    "        self.age = age\n",
    "\n",
    "    def introduce(self):\n",
    "        return self.name, self.age\n",
    "\n",
    "person1 = Person(\"Alice\", 30)\n",
    "person2 = Person(\"Bob\", 25)\n",
    "         \n",
    "print(person1.introduce())   \n",
    "print(person2.introduce())   \n"
   ]
  },
  {
   "cell_type": "markdown",
   "metadata": {},
   "source": [
    "## Q4. Why self is used in OOPs?"
   ]
  },
  {
   "cell_type": "markdown",
   "metadata": {},
   "source": [
    "Self keyword in python is not a reserved keyword, but it is a convention used to refer to the instance of the class itself within the class's methods. The use of self is not mandatory.it is a widely followed convention because it helps clarify and differentiate instance variables from local variables within class methods."
   ]
  },
  {
   "cell_type": "markdown",
   "metadata": {},
   "source": [
    "## Q5. What is inheritance? Give an example for each type of inheritance."
   ]
  },
  {
   "cell_type": "markdown",
   "metadata": {},
   "source": [
    "Inheritance is one of the four fundamental concepts in Object-Oriented Programming and is a mechanism that allows a new class to inherit properties from an existing class. This promotes code reuse and establishes a hierarchical relationship between classes, where the subclass can extend or modify the behavior of the superclass."
   ]
  },
  {
   "cell_type": "markdown",
   "metadata": {},
   "source": [
    "1.Multiple Inheritance:\n",
    "    In multiple inheritance, a subclass can inherit from more than one superclass.\n"
   ]
  },
  {
   "cell_type": "code",
   "execution_count": null,
   "metadata": {},
   "outputs": [],
   "source": [
    "class A:\n",
    "    def speak(self):\n",
    "        return \"Hello from A!\"\n",
    "\n",
    "class B:\n",
    "    def greet(self):\n",
    "        return \"Hi from B!\"\n",
    "\n",
    "class C(A, B):\n",
    "    pass\n",
    "\n",
    "obj = C()\n",
    "print(obj.speak())\n",
    "print(obj.greet())"
   ]
  },
  {
   "cell_type": "markdown",
   "metadata": {},
   "source": [
    "2.Single Inheritance:\n",
    "    In single inheritance, a subclass inherits from a single superclass."
   ]
  },
  {
   "cell_type": "code",
   "execution_count": null,
   "metadata": {},
   "outputs": [],
   "source": [
    "class Animal:\n",
    "    def speak(self):\n",
    "        pass\n",
    "\n",
    "class Dog(Animal):\n",
    "    def speak(self):\n",
    "        return \"Woof!\"\n",
    "\n",
    "dog = Dog()\n",
    "print(dog.speak())"
   ]
  },
  {
   "cell_type": "markdown",
   "metadata": {},
   "source": [
    "3.Multilevel Inheritance:\n",
    "    In multilevel inheritance, a subclass is derived from another subclass, creating a chain of inheritance.\n"
   ]
  },
  {
   "cell_type": "code",
   "execution_count": null,
   "metadata": {},
   "outputs": [],
   "source": [
    "class Grandparent:\n",
    "    def speak(self):\n",
    "        return \"Hello from Grandparent!\"\n",
    "\n",
    "class Parent(Grandparent):\n",
    "    pass\n",
    "\n",
    "class Child(Parent):\n",
    "    pass\n",
    "\n",
    "child = Child()\n",
    "print(child.speak())"
   ]
  },
  {
   "cell_type": "markdown",
   "metadata": {},
   "source": [
    "4.Hierarchical Inheritance:\n",
    "    In hierarchical inheritance, multiple subclasses inherit from a single superclass."
   ]
  },
  {
   "cell_type": "code",
   "execution_count": null,
   "metadata": {},
   "outputs": [],
   "source": [
    "class Shape:\n",
    "    def area(self):\n",
    "        pass\n",
    "\n",
    "class Circle(Shape):\n",
    "    def area(self, radius):\n",
    "        return 3.1415 * radius * radius\n",
    "\n",
    "class Square(Shape):\n",
    "    def area(self, side_length):\n",
    "        return side_length * side_length\n",
    "\n",
    "circle = Circle()\n",
    "square = Square()\n",
    "print(circle.area(5))\n",
    "print(square.area(4))"
   ]
  },
  {
   "cell_type": "markdown",
   "metadata": {},
   "source": [
    "5.Hybrid Inheritance:\n",
    "    Hybrid inheritance is a combination of multiple types of inheritance. It combines single, multiple, or hierarchical inheritance in a single program.\n",
    "    \n",
    "    Example: Hybrid inheritance would involve using a combination of the above inheritance types in a complex class hierarchy."
   ]
  }
 ],
 "metadata": {
  "kernelspec": {
   "display_name": "Python 3",
   "language": "python",
   "name": "python3"
  },
  "language_info": {
   "codemirror_mode": {
    "name": "ipython",
    "version": 3
   },
   "file_extension": ".py",
   "mimetype": "text/x-python",
   "name": "python",
   "nbconvert_exporter": "python",
   "pygments_lexer": "ipython3",
   "version": "3.11.5"
  },
  "orig_nbformat": 4
 },
 "nbformat": 4,
 "nbformat_minor": 2
}
